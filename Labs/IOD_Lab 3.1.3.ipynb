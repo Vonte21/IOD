{
 "cells": [
  {
   "cell_type": "markdown",
   "metadata": {
    "id": "XJ1yDaQTVf4m"
   },
   "source": [
    "<div>\n",
    "<img src=https://www.institutedata.com/wp-content/uploads/2019/10/iod_h_tp_primary_c.svg width=\"300\">\n",
    "</div>"
   ]
  },
  {
   "cell_type": "markdown",
   "metadata": {
    "id": "QnAkzb-CVf4o"
   },
   "source": [
    "# Lab 3.1.3\n",
    "\n",
    "## Data\n",
    "\n",
    "The Philippine Statistics Authority (PSA) spearheads the conduct of the Family Income and Expenditure Survey (FIES) nationwide. The survey, which is undertaken every three (3) years, is aimed at providing data on family income and expenditure, including, among others, levels of consumption by item of expenditure, sources of income in cash, and related information affecting income and expenditure levels and patterns in the Philippines.\n",
    "\n",
    "You can download the data from [here](https://www.kaggle.com/grosvenpaul/family-income-and-expenditure).\n",
    "\n",
    "The purpose of today's lab is to use simulation to visualize the sampling distribution for the sample mean. The Central Limit Theorem (CLT) tells us that as our sample size gets larger, the sampling distribution of the sample mean converges to a normal distribution. Therefore, when we have a large sample size, we can say that the sampling distribution for the sample mean is approximately normal, regardless of the distribution from which we are sampling.\n",
    "\n",
    "Let's start by taking a look at the data, **`Total Household Income`** will serve as a \"population\" for the purposes of this lab. "
   ]
  },
  {
   "cell_type": "code",
   "execution_count": 1,
   "metadata": {
    "id": "SEP_7ZTmVf4p"
   },
   "outputs": [],
   "source": [
    "import pandas as pd\n",
    "import numpy as np\n",
    "import matplotlib.pyplot as plt\n",
    "import seaborn as sns\n",
    "\n",
    "%matplotlib inline"
   ]
  },
  {
   "cell_type": "code",
   "execution_count": 2,
   "metadata": {
    "id": "TzSCY2HWVf4t"
   },
   "outputs": [],
   "source": [
    "house_hold_csv = \"..\\\\Data\\\\Family_Income_and_Expenditure.csv\"\n",
    "# Read CSV\n",
    "df=pd.read_csv(house_hold_csv)"
   ]
  },
  {
   "cell_type": "code",
   "execution_count": 27,
   "metadata": {
    "id": "f8AVkqjtVf4w"
   },
   "outputs": [
    {
     "data": {
      "text/html": [
       "<div>\n",
       "<style scoped>\n",
       "    .dataframe tbody tr th:only-of-type {\n",
       "        vertical-align: middle;\n",
       "    }\n",
       "\n",
       "    .dataframe tbody tr th {\n",
       "        vertical-align: top;\n",
       "    }\n",
       "\n",
       "    .dataframe thead th {\n",
       "        text-align: right;\n",
       "    }\n",
       "</style>\n",
       "<table border=\"1\" class=\"dataframe\">\n",
       "  <thead>\n",
       "    <tr style=\"text-align: right;\">\n",
       "      <th></th>\n",
       "      <th>Total Household Income</th>\n",
       "      <th>Region</th>\n",
       "      <th>Total Food Expenditure</th>\n",
       "      <th>Main Source of Income</th>\n",
       "      <th>Agricultural Household indicator</th>\n",
       "      <th>Bread and Cereals Expenditure</th>\n",
       "      <th>Total Rice Expenditure</th>\n",
       "      <th>Meat Expenditure</th>\n",
       "      <th>Total Fish and  marine products Expenditure</th>\n",
       "      <th>Fruit Expenditure</th>\n",
       "      <th>...</th>\n",
       "      <th>Number of Refrigerator/Freezer</th>\n",
       "      <th>Number of Washing Machine</th>\n",
       "      <th>Number of Airconditioner</th>\n",
       "      <th>Number of Car, Jeep, Van</th>\n",
       "      <th>Number of Landline/wireless telephones</th>\n",
       "      <th>Number of Cellular phone</th>\n",
       "      <th>Number of Personal Computer</th>\n",
       "      <th>Number of Stove with Oven/Gas Range</th>\n",
       "      <th>Number of Motorized Banca</th>\n",
       "      <th>Number of Motorcycle/Tricycle</th>\n",
       "    </tr>\n",
       "  </thead>\n",
       "  <tbody>\n",
       "    <tr>\n",
       "      <th>0</th>\n",
       "      <td>480332</td>\n",
       "      <td>CAR</td>\n",
       "      <td>117848</td>\n",
       "      <td>Wage/Salaries</td>\n",
       "      <td>0</td>\n",
       "      <td>42140</td>\n",
       "      <td>38300</td>\n",
       "      <td>24676</td>\n",
       "      <td>16806</td>\n",
       "      <td>3325</td>\n",
       "      <td>...</td>\n",
       "      <td>1</td>\n",
       "      <td>1</td>\n",
       "      <td>0</td>\n",
       "      <td>0</td>\n",
       "      <td>0</td>\n",
       "      <td>2</td>\n",
       "      <td>1</td>\n",
       "      <td>0</td>\n",
       "      <td>0</td>\n",
       "      <td>1</td>\n",
       "    </tr>\n",
       "    <tr>\n",
       "      <th>1</th>\n",
       "      <td>198235</td>\n",
       "      <td>CAR</td>\n",
       "      <td>67766</td>\n",
       "      <td>Wage/Salaries</td>\n",
       "      <td>0</td>\n",
       "      <td>17329</td>\n",
       "      <td>13008</td>\n",
       "      <td>17434</td>\n",
       "      <td>11073</td>\n",
       "      <td>2035</td>\n",
       "      <td>...</td>\n",
       "      <td>0</td>\n",
       "      <td>1</td>\n",
       "      <td>0</td>\n",
       "      <td>0</td>\n",
       "      <td>0</td>\n",
       "      <td>3</td>\n",
       "      <td>1</td>\n",
       "      <td>0</td>\n",
       "      <td>0</td>\n",
       "      <td>2</td>\n",
       "    </tr>\n",
       "    <tr>\n",
       "      <th>2</th>\n",
       "      <td>82785</td>\n",
       "      <td>CAR</td>\n",
       "      <td>61609</td>\n",
       "      <td>Wage/Salaries</td>\n",
       "      <td>1</td>\n",
       "      <td>34182</td>\n",
       "      <td>32001</td>\n",
       "      <td>7783</td>\n",
       "      <td>2590</td>\n",
       "      <td>1730</td>\n",
       "      <td>...</td>\n",
       "      <td>0</td>\n",
       "      <td>0</td>\n",
       "      <td>0</td>\n",
       "      <td>0</td>\n",
       "      <td>0</td>\n",
       "      <td>0</td>\n",
       "      <td>0</td>\n",
       "      <td>0</td>\n",
       "      <td>0</td>\n",
       "      <td>0</td>\n",
       "    </tr>\n",
       "    <tr>\n",
       "      <th>3</th>\n",
       "      <td>107589</td>\n",
       "      <td>CAR</td>\n",
       "      <td>78189</td>\n",
       "      <td>Wage/Salaries</td>\n",
       "      <td>0</td>\n",
       "      <td>34030</td>\n",
       "      <td>28659</td>\n",
       "      <td>10914</td>\n",
       "      <td>10812</td>\n",
       "      <td>690</td>\n",
       "      <td>...</td>\n",
       "      <td>0</td>\n",
       "      <td>0</td>\n",
       "      <td>0</td>\n",
       "      <td>0</td>\n",
       "      <td>0</td>\n",
       "      <td>1</td>\n",
       "      <td>0</td>\n",
       "      <td>0</td>\n",
       "      <td>0</td>\n",
       "      <td>0</td>\n",
       "    </tr>\n",
       "    <tr>\n",
       "      <th>4</th>\n",
       "      <td>189322</td>\n",
       "      <td>CAR</td>\n",
       "      <td>94625</td>\n",
       "      <td>Wage/Salaries</td>\n",
       "      <td>0</td>\n",
       "      <td>34820</td>\n",
       "      <td>30167</td>\n",
       "      <td>18391</td>\n",
       "      <td>11309</td>\n",
       "      <td>1395</td>\n",
       "      <td>...</td>\n",
       "      <td>1</td>\n",
       "      <td>0</td>\n",
       "      <td>0</td>\n",
       "      <td>0</td>\n",
       "      <td>0</td>\n",
       "      <td>3</td>\n",
       "      <td>0</td>\n",
       "      <td>0</td>\n",
       "      <td>0</td>\n",
       "      <td>1</td>\n",
       "    </tr>\n",
       "  </tbody>\n",
       "</table>\n",
       "<p>5 rows × 60 columns</p>\n",
       "</div>"
      ],
      "text/plain": [
       "   Total Household Income Region  Total Food Expenditure  \\\n",
       "0                  480332    CAR                  117848   \n",
       "1                  198235    CAR                   67766   \n",
       "2                   82785    CAR                   61609   \n",
       "3                  107589    CAR                   78189   \n",
       "4                  189322    CAR                   94625   \n",
       "\n",
       "  Main Source of Income  Agricultural Household indicator  \\\n",
       "0         Wage/Salaries                                 0   \n",
       "1         Wage/Salaries                                 0   \n",
       "2         Wage/Salaries                                 1   \n",
       "3         Wage/Salaries                                 0   \n",
       "4         Wage/Salaries                                 0   \n",
       "\n",
       "   Bread and Cereals Expenditure  Total Rice Expenditure  Meat Expenditure  \\\n",
       "0                          42140                   38300             24676   \n",
       "1                          17329                   13008             17434   \n",
       "2                          34182                   32001              7783   \n",
       "3                          34030                   28659             10914   \n",
       "4                          34820                   30167             18391   \n",
       "\n",
       "   Total Fish and  marine products Expenditure  Fruit Expenditure  ...  \\\n",
       "0                                        16806               3325  ...   \n",
       "1                                        11073               2035  ...   \n",
       "2                                         2590               1730  ...   \n",
       "3                                        10812                690  ...   \n",
       "4                                        11309               1395  ...   \n",
       "\n",
       "   Number of Refrigerator/Freezer  Number of Washing Machine  \\\n",
       "0                               1                          1   \n",
       "1                               0                          1   \n",
       "2                               0                          0   \n",
       "3                               0                          0   \n",
       "4                               1                          0   \n",
       "\n",
       "   Number of Airconditioner  Number of Car, Jeep, Van  \\\n",
       "0                         0                         0   \n",
       "1                         0                         0   \n",
       "2                         0                         0   \n",
       "3                         0                         0   \n",
       "4                         0                         0   \n",
       "\n",
       "   Number of Landline/wireless telephones  Number of Cellular phone  \\\n",
       "0                                       0                         2   \n",
       "1                                       0                         3   \n",
       "2                                       0                         0   \n",
       "3                                       0                         1   \n",
       "4                                       0                         3   \n",
       "\n",
       "   Number of Personal Computer  Number of Stove with Oven/Gas Range  \\\n",
       "0                            1                                    0   \n",
       "1                            1                                    0   \n",
       "2                            0                                    0   \n",
       "3                            0                                    0   \n",
       "4                            0                                    0   \n",
       "\n",
       "   Number of Motorized Banca  Number of Motorcycle/Tricycle  \n",
       "0                          0                              1  \n",
       "1                          0                              2  \n",
       "2                          0                              0  \n",
       "3                          0                              0  \n",
       "4                          0                              1  \n",
       "\n",
       "[5 rows x 60 columns]"
      ]
     },
     "execution_count": 27,
     "metadata": {},
     "output_type": "execute_result"
    }
   ],
   "source": [
    "# Head\n",
    "df.head()"
   ]
  },
  {
   "cell_type": "code",
   "execution_count": 28,
   "metadata": {
    "id": "SShWhTTQVf4z"
   },
   "outputs": [
    {
     "data": {
      "text/html": [
       "<div>\n",
       "<style scoped>\n",
       "    .dataframe tbody tr th:only-of-type {\n",
       "        vertical-align: middle;\n",
       "    }\n",
       "\n",
       "    .dataframe tbody tr th {\n",
       "        vertical-align: top;\n",
       "    }\n",
       "\n",
       "    .dataframe thead th {\n",
       "        text-align: right;\n",
       "    }\n",
       "</style>\n",
       "<table border=\"1\" class=\"dataframe\">\n",
       "  <thead>\n",
       "    <tr style=\"text-align: right;\">\n",
       "      <th></th>\n",
       "      <th>Total Household Income</th>\n",
       "      <th>Region</th>\n",
       "      <th>Total Food Expenditure</th>\n",
       "      <th>Main Source of Income</th>\n",
       "      <th>Agricultural Household indicator</th>\n",
       "      <th>Bread and Cereals Expenditure</th>\n",
       "      <th>Total Rice Expenditure</th>\n",
       "      <th>Meat Expenditure</th>\n",
       "      <th>Total Fish and  marine products Expenditure</th>\n",
       "      <th>Fruit Expenditure</th>\n",
       "      <th>...</th>\n",
       "      <th>Number of Refrigerator/Freezer</th>\n",
       "      <th>Number of Washing Machine</th>\n",
       "      <th>Number of Airconditioner</th>\n",
       "      <th>Number of Car, Jeep, Van</th>\n",
       "      <th>Number of Landline/wireless telephones</th>\n",
       "      <th>Number of Cellular phone</th>\n",
       "      <th>Number of Personal Computer</th>\n",
       "      <th>Number of Stove with Oven/Gas Range</th>\n",
       "      <th>Number of Motorized Banca</th>\n",
       "      <th>Number of Motorcycle/Tricycle</th>\n",
       "    </tr>\n",
       "  </thead>\n",
       "  <tbody>\n",
       "    <tr>\n",
       "      <th>41539</th>\n",
       "      <td>119773</td>\n",
       "      <td>XII - SOCCSKSARGEN</td>\n",
       "      <td>44875</td>\n",
       "      <td>Enterpreneurial Activities</td>\n",
       "      <td>1</td>\n",
       "      <td>23675</td>\n",
       "      <td>21542</td>\n",
       "      <td>1476</td>\n",
       "      <td>6120</td>\n",
       "      <td>1632</td>\n",
       "      <td>...</td>\n",
       "      <td>0</td>\n",
       "      <td>0</td>\n",
       "      <td>0</td>\n",
       "      <td>0</td>\n",
       "      <td>0</td>\n",
       "      <td>1</td>\n",
       "      <td>0</td>\n",
       "      <td>0</td>\n",
       "      <td>0</td>\n",
       "      <td>0</td>\n",
       "    </tr>\n",
       "    <tr>\n",
       "      <th>41540</th>\n",
       "      <td>137320</td>\n",
       "      <td>XII - SOCCSKSARGEN</td>\n",
       "      <td>31157</td>\n",
       "      <td>Enterpreneurial Activities</td>\n",
       "      <td>1</td>\n",
       "      <td>2691</td>\n",
       "      <td>1273</td>\n",
       "      <td>1886</td>\n",
       "      <td>4386</td>\n",
       "      <td>1840</td>\n",
       "      <td>...</td>\n",
       "      <td>0</td>\n",
       "      <td>0</td>\n",
       "      <td>0</td>\n",
       "      <td>0</td>\n",
       "      <td>0</td>\n",
       "      <td>3</td>\n",
       "      <td>0</td>\n",
       "      <td>0</td>\n",
       "      <td>0</td>\n",
       "      <td>0</td>\n",
       "    </tr>\n",
       "    <tr>\n",
       "      <th>41541</th>\n",
       "      <td>133171</td>\n",
       "      <td>XII - SOCCSKSARGEN</td>\n",
       "      <td>45882</td>\n",
       "      <td>Enterpreneurial Activities</td>\n",
       "      <td>2</td>\n",
       "      <td>28646</td>\n",
       "      <td>27339</td>\n",
       "      <td>480</td>\n",
       "      <td>4796</td>\n",
       "      <td>1232</td>\n",
       "      <td>...</td>\n",
       "      <td>0</td>\n",
       "      <td>0</td>\n",
       "      <td>0</td>\n",
       "      <td>0</td>\n",
       "      <td>0</td>\n",
       "      <td>1</td>\n",
       "      <td>0</td>\n",
       "      <td>0</td>\n",
       "      <td>0</td>\n",
       "      <td>0</td>\n",
       "    </tr>\n",
       "    <tr>\n",
       "      <th>41542</th>\n",
       "      <td>129500</td>\n",
       "      <td>XII - SOCCSKSARGEN</td>\n",
       "      <td>81416</td>\n",
       "      <td>Enterpreneurial Activities</td>\n",
       "      <td>1</td>\n",
       "      <td>29996</td>\n",
       "      <td>26655</td>\n",
       "      <td>2359</td>\n",
       "      <td>17730</td>\n",
       "      <td>2923</td>\n",
       "      <td>...</td>\n",
       "      <td>0</td>\n",
       "      <td>0</td>\n",
       "      <td>0</td>\n",
       "      <td>0</td>\n",
       "      <td>0</td>\n",
       "      <td>2</td>\n",
       "      <td>0</td>\n",
       "      <td>0</td>\n",
       "      <td>0</td>\n",
       "      <td>0</td>\n",
       "    </tr>\n",
       "    <tr>\n",
       "      <th>41543</th>\n",
       "      <td>128598</td>\n",
       "      <td>XII - SOCCSKSARGEN</td>\n",
       "      <td>78195</td>\n",
       "      <td>Enterpreneurial Activities</td>\n",
       "      <td>1</td>\n",
       "      <td>43485</td>\n",
       "      <td>41205</td>\n",
       "      <td>1985</td>\n",
       "      <td>7735</td>\n",
       "      <td>2062</td>\n",
       "      <td>...</td>\n",
       "      <td>0</td>\n",
       "      <td>0</td>\n",
       "      <td>0</td>\n",
       "      <td>0</td>\n",
       "      <td>0</td>\n",
       "      <td>1</td>\n",
       "      <td>0</td>\n",
       "      <td>0</td>\n",
       "      <td>0</td>\n",
       "      <td>0</td>\n",
       "    </tr>\n",
       "  </tbody>\n",
       "</table>\n",
       "<p>5 rows × 60 columns</p>\n",
       "</div>"
      ],
      "text/plain": [
       "       Total Household Income              Region  Total Food Expenditure  \\\n",
       "41539                  119773  XII - SOCCSKSARGEN                   44875   \n",
       "41540                  137320  XII - SOCCSKSARGEN                   31157   \n",
       "41541                  133171  XII - SOCCSKSARGEN                   45882   \n",
       "41542                  129500  XII - SOCCSKSARGEN                   81416   \n",
       "41543                  128598  XII - SOCCSKSARGEN                   78195   \n",
       "\n",
       "            Main Source of Income  Agricultural Household indicator  \\\n",
       "41539  Enterpreneurial Activities                                 1   \n",
       "41540  Enterpreneurial Activities                                 1   \n",
       "41541  Enterpreneurial Activities                                 2   \n",
       "41542  Enterpreneurial Activities                                 1   \n",
       "41543  Enterpreneurial Activities                                 1   \n",
       "\n",
       "       Bread and Cereals Expenditure  Total Rice Expenditure  \\\n",
       "41539                          23675                   21542   \n",
       "41540                           2691                    1273   \n",
       "41541                          28646                   27339   \n",
       "41542                          29996                   26655   \n",
       "41543                          43485                   41205   \n",
       "\n",
       "       Meat Expenditure  Total Fish and  marine products Expenditure  \\\n",
       "41539              1476                                         6120   \n",
       "41540              1886                                         4386   \n",
       "41541               480                                         4796   \n",
       "41542              2359                                        17730   \n",
       "41543              1985                                         7735   \n",
       "\n",
       "       Fruit Expenditure  ...  Number of Refrigerator/Freezer  \\\n",
       "41539               1632  ...                               0   \n",
       "41540               1840  ...                               0   \n",
       "41541               1232  ...                               0   \n",
       "41542               2923  ...                               0   \n",
       "41543               2062  ...                               0   \n",
       "\n",
       "       Number of Washing Machine  Number of Airconditioner  \\\n",
       "41539                          0                         0   \n",
       "41540                          0                         0   \n",
       "41541                          0                         0   \n",
       "41542                          0                         0   \n",
       "41543                          0                         0   \n",
       "\n",
       "       Number of Car, Jeep, Van  Number of Landline/wireless telephones  \\\n",
       "41539                         0                                       0   \n",
       "41540                         0                                       0   \n",
       "41541                         0                                       0   \n",
       "41542                         0                                       0   \n",
       "41543                         0                                       0   \n",
       "\n",
       "       Number of Cellular phone  Number of Personal Computer  \\\n",
       "41539                         1                            0   \n",
       "41540                         3                            0   \n",
       "41541                         1                            0   \n",
       "41542                         2                            0   \n",
       "41543                         1                            0   \n",
       "\n",
       "       Number of Stove with Oven/Gas Range  Number of Motorized Banca  \\\n",
       "41539                                    0                          0   \n",
       "41540                                    0                          0   \n",
       "41541                                    0                          0   \n",
       "41542                                    0                          0   \n",
       "41543                                    0                          0   \n",
       "\n",
       "       Number of Motorcycle/Tricycle  \n",
       "41539                              0  \n",
       "41540                              0  \n",
       "41541                              0  \n",
       "41542                              0  \n",
       "41543                              0  \n",
       "\n",
       "[5 rows x 60 columns]"
      ]
     },
     "execution_count": 28,
     "metadata": {},
     "output_type": "execute_result"
    }
   ],
   "source": [
    "# Tail\n",
    "df.tail()"
   ]
  },
  {
   "cell_type": "code",
   "execution_count": 29,
   "metadata": {
    "id": "Naaa_xKVVf41"
   },
   "outputs": [
    {
     "data": {
      "text/plain": [
       "(41544, 60)"
      ]
     },
     "execution_count": 29,
     "metadata": {},
     "output_type": "execute_result"
    }
   ],
   "source": [
    "# Shape\n",
    "df.shape"
   ]
  },
  {
   "cell_type": "code",
   "execution_count": 6,
   "metadata": {
    "id": "vp9cRdywVf44"
   },
   "outputs": [
    {
     "data": {
      "text/plain": [
       "Total Household Income                            int64\n",
       "Region                                           object\n",
       "Total Food Expenditure                            int64\n",
       "Main Source of Income                            object\n",
       "Agricultural Household indicator                  int64\n",
       "Bread and Cereals Expenditure                     int64\n",
       "Total Rice Expenditure                            int64\n",
       "Meat Expenditure                                  int64\n",
       "Total Fish and  marine products Expenditure       int64\n",
       "Fruit Expenditure                                 int64\n",
       "Vegetables Expenditure                            int64\n",
       "Restaurant and hotels Expenditure                 int64\n",
       "Alcoholic Beverages Expenditure                   int64\n",
       "Tobacco Expenditure                               int64\n",
       "Clothing, Footwear and Other Wear Expenditure     int64\n",
       "Housing and water Expenditure                     int64\n",
       "Imputed House Rental Value                        int64\n",
       "Medical Care Expenditure                          int64\n",
       "Transportation Expenditure                        int64\n",
       "Communication Expenditure                         int64\n",
       "Education Expenditure                             int64\n",
       "Miscellaneous Goods and Services Expenditure      int64\n",
       "Special Occasions Expenditure                     int64\n",
       "Crop Farming and Gardening expenses               int64\n",
       "Total Income from Entrepreneurial Acitivites      int64\n",
       "Household Head Sex                               object\n",
       "Household Head Age                                int64\n",
       "Household Head Marital Status                    object\n",
       "Household Head Highest Grade Completed           object\n",
       "Household Head Job or Business Indicator         object\n",
       "Household Head Occupation                        object\n",
       "Household Head Class of Worker                   object\n",
       "Type of Household                                object\n",
       "Total Number of Family members                    int64\n",
       "Members with age less than 5 year old             int64\n",
       "Members with age 5 - 17 years old                 int64\n",
       "Total number of family members employed           int64\n",
       "Type of Building/House                           object\n",
       "Type of Roof                                     object\n",
       "Type of Walls                                    object\n",
       "House Floor Area                                  int64\n",
       "House Age                                         int64\n",
       "Number of bedrooms                                int64\n",
       "Tenure Status                                    object\n",
       "Toilet Facilities                                object\n",
       "Electricity                                       int64\n",
       "Main Source of Water Supply                      object\n",
       "Number of Television                              int64\n",
       "Number of CD/VCD/DVD                              int64\n",
       "Number of Component/Stereo set                    int64\n",
       "Number of Refrigerator/Freezer                    int64\n",
       "Number of Washing Machine                         int64\n",
       "Number of Airconditioner                          int64\n",
       "Number of Car, Jeep, Van                          int64\n",
       "Number of Landline/wireless telephones            int64\n",
       "Number of Cellular phone                          int64\n",
       "Number of Personal Computer                       int64\n",
       "Number of Stove with Oven/Gas Range               int64\n",
       "Number of Motorized Banca                         int64\n",
       "Number of Motorcycle/Tricycle                     int64\n",
       "dtype: object"
      ]
     },
     "execution_count": 6,
     "metadata": {},
     "output_type": "execute_result"
    }
   ],
   "source": [
    "# Data Types\n",
    "df.dtypes"
   ]
  },
  {
   "cell_type": "markdown",
   "metadata": {
    "id": "CXS1YnOgVf47"
   },
   "source": [
    "#### Surveying the populations\n",
    "\n",
    "##### 1. Create a histogram of `Total Household Income`."
   ]
  },
  {
   "cell_type": "code",
   "execution_count": 8,
   "metadata": {
    "id": "3YKhcWRhVf47"
   },
   "outputs": [
    {
     "data": {
      "text/plain": [
       "(array([1., 3., 1., ..., 0., 0., 1.]),\n",
       " array([1.12850000e+04, 1.18752352e+04, 1.24654703e+04, ...,\n",
       "        1.18148075e+07, 1.18153978e+07, 1.18159880e+07]),\n",
       " <BarContainer object of 20000 artists>)"
      ]
     },
     "execution_count": 8,
     "metadata": {},
     "output_type": "execute_result"
    },
    {
     "data": {
      "image/png": "[encoded data removed]",
      "text/plain": [
       "<Figure size 432x288 with 1 Axes>"
      ]
     },
     "metadata": {
      "needs_background": "light"
     },
     "output_type": "display_data"
    }
   ],
   "source": [
    "# ANSWER\n",
    "#plt.hist(df['Total Household Income'])\n",
    "plt.hist(df['Total Household Income'],bins = 20000)"
   ]
  },
  {
   "cell_type": "markdown",
   "metadata": {
    "id": "8vgg6ml3Vf4-"
   },
   "source": [
    "##### 2. How would you describe the shape of this population?"
   ]
  },
  {
   "cell_type": "markdown",
   "metadata": {
    "id": "FI_k9uSEVf4_"
   },
   "source": [
    "**ANSWER:** right skewed "
   ]
  },
  {
   "cell_type": "markdown",
   "metadata": {
    "id": "j1hOsdI2Vf4_"
   },
   "source": [
    "##### 2. What is the mean income of this population?"
   ]
  },
  {
   "cell_type": "code",
   "execution_count": 30,
   "metadata": {
    "id": "kJw8S392Vf5A"
   },
   "outputs": [
    {
     "data": {
      "text/plain": [
       "247555.58480165608"
      ]
     },
     "execution_count": 30,
     "metadata": {},
     "output_type": "execute_result"
    }
   ],
   "source": [
    "# ANSWER\n",
    "df['Total Household Income'].mean()"
   ]
  },
  {
   "cell_type": "markdown",
   "metadata": {
    "id": "U-aYo343Vf5D"
   },
   "source": [
    "##### 3. What sampling statistic/point estimate would you use to estimate the mean of this population if you were given a random sample from the population?"
   ]
  },
  {
   "cell_type": "markdown",
   "metadata": {
    "id": "MliyslcyVf5E"
   },
   "source": [
    "**ANSWER:**"
   ]
  },
  {
   "cell_type": "markdown",
   "metadata": {
    "id": "TkxedbVpVf5E"
   },
   "source": [
    "#### Simulated sampling (sample means)"
   ]
  },
  {
   "cell_type": "markdown",
   "metadata": {
    "id": "PREGkP4vVf5F"
   },
   "source": [
    "Now, we'd like to get an idea of what happens when we take multiple random samples of size 5. \n",
    "\n",
    "Take 10 sample (size=5) from the entire population. Calculate means for each sample. Now make a histogram of all the sample means.\n",
    "\n",
    "- Describe the shape of the histogram.\n",
    "- What is the center of the distribution of sample means?"
   ]
  },
  {
   "cell_type": "markdown",
   "metadata": {
    "id": "i6_BukQlVf5G"
   },
   "source": [
    "##### 4. Simulation with `sample_size=5`"
   ]
  },
  {
   "cell_type": "markdown",
   "metadata": {
    "id": "-CP_eMlOVf5G"
   },
   "source": [
    "Take 10 samples, but with a sample size of 5."
   ]
  },
  {
   "cell_type": "code",
   "execution_count": null,
   "metadata": {},
   "outputs": [],
   "source": [
    "rs = []\n",
    "for i in range(100):\n",
    "    rs.append(np.random.choice(X, 5))\n",
    "rs = np.array(rs)"
   ]
  },
  {
   "cell_type": "code",
   "execution_count": 5,
   "metadata": {
    "id": "rqSxVPVwVf5H"
   },
   "outputs": [],
   "source": [
    "# ANSWER\n",
    "rs = []\n",
    "for i in range(10):\n",
    "    rs.append(np.random.choice(df['Total Household Income'], 5).mean())\n",
    "rs = np.array(rs)"
   ]
  },
  {
   "cell_type": "code",
   "execution_count": 6,
   "metadata": {},
   "outputs": [
    {
     "data": {
      "text/plain": [
       "array([238276.2, 268454.8, 404274.6, 323341. , 259814.2,  97185.6,\n",
       "       260707.4, 200982. , 229194.4, 224901.8])"
      ]
     },
     "execution_count": 6,
     "metadata": {},
     "output_type": "execute_result"
    }
   ],
   "source": [
    "rs"
   ]
  },
  {
   "cell_type": "markdown",
   "metadata": {
    "id": "CrInQX6EVf5J"
   },
   "source": [
    "###### 4.A Make a histogram of all the sample means"
   ]
  },
  {
   "cell_type": "code",
   "execution_count": 7,
   "metadata": {
    "id": "oU5T6NQaVf5K"
   },
   "outputs": [
    {
     "data": {
      "text/plain": [
       "(array([1., 0., 0., 1., 3., 3., 0., 1., 0., 1.]),\n",
       " array([ 97185.6, 127894.5, 158603.4, 189312.3, 220021.2, 250730.1,\n",
       "        281439. , 312147.9, 342856.8, 373565.7, 404274.6]),\n",
       " <BarContainer object of 10 artists>)"
      ]
     },
     "execution_count": 7,
     "metadata": {},
     "output_type": "execute_result"
    },
    {
     "data": {
      "image/png": "[encoded data removed]",
      "text/plain": [
       "<Figure size 432x288 with 1 Axes>"
      ]
     },
     "metadata": {
      "needs_background": "light"
     },
     "output_type": "display_data"
    }
   ],
   "source": [
    "# ANSWER\n",
    "plt.hist(rs)"
   ]
  },
  {
   "cell_type": "markdown",
   "metadata": {
    "id": "laC4ugRjVf5M"
   },
   "source": [
    "###### 4.B Describe the shape of the histogram."
   ]
  },
  {
   "cell_type": "markdown",
   "metadata": {
    "id": "2_FSwIVJVf5M"
   },
   "source": [
    "**ANSWER:**"
   ]
  },
  {
   "cell_type": "markdown",
   "metadata": {
    "id": "9oCRfg1YVf5N"
   },
   "source": [
    "##### 7. Simulation with `sample_size=15`"
   ]
  },
  {
   "cell_type": "markdown",
   "metadata": {
    "id": "gjtCdkx0Vf5N"
   },
   "source": [
    "let's try taking another 1000 samples, but with a sample size of 15"
   ]
  },
  {
   "cell_type": "code",
   "execution_count": 16,
   "metadata": {
    "id": "80IQ6Sa-Vf5O"
   },
   "outputs": [],
   "source": [
    "# ANSWER\n",
    "rs = []\n",
    "for i in range(1000):\n",
    "    rs.append(np.random.choice(df['Total Household Income'], 15).mean())\n",
    "rs = np.array(rs)"
   ]
  },
  {
   "cell_type": "code",
   "execution_count": 17,
   "metadata": {},
   "outputs": [
    {
     "data": {
      "text/plain": [
       "(array([144., 370., 274., 133.,  52.,  15.,   6.,   2.,   2.,   2.]),\n",
       " array([126560.86666667, 180369.94      , 234179.01333333, 287988.08666667,\n",
       "        341797.16      , 395606.23333333, 449415.30666667, 503224.38      ,\n",
       "        557033.45333333, 610842.52666667, 664651.6       ]),\n",
       " <BarContainer object of 10 artists>)"
      ]
     },
     "execution_count": 17,
     "metadata": {},
     "output_type": "execute_result"
    },
    {
     "data": {
      "image/png": "[encoded data removed]",
      "text/plain": [
       "<Figure size 432x288 with 1 Axes>"
      ]
     },
     "metadata": {
      "needs_background": "light"
     },
     "output_type": "display_data"
    }
   ],
   "source": [
    "plt.hist(rs)"
   ]
  },
  {
   "cell_type": "markdown",
   "metadata": {
    "id": "J8k2KhsQVf5Q"
   },
   "source": [
    "##### 8. Simulation with `sample_size=50`"
   ]
  },
  {
   "cell_type": "markdown",
   "metadata": {
    "id": "AAAdK633Vf5R"
   },
   "source": [
    "Let's try taking another 1000 samples, but with a sample size of 50"
   ]
  },
  {
   "cell_type": "code",
   "execution_count": 12,
   "metadata": {
    "id": "zgj6G2ghVf5R"
   },
   "outputs": [],
   "source": [
    "# ANSWER\n",
    "rs = []\n",
    "for i in range(1000):\n",
    "    rs.append(np.random.choice(df['Total Household Income'], 50).mean())\n",
    "rs = np.array(rs)"
   ]
  },
  {
   "cell_type": "code",
   "execution_count": 13,
   "metadata": {},
   "outputs": [
    {
     "data": {
      "text/plain": [
       "array([291822.9 , 262464.96, 250548.08, 280498.72, 242029.86, 220152.34,\n",
       "       231488.9 , 199065.82, 294372.26, 254883.88, 272227.94, 269125.3 ,\n",
       "       230027.88, 195984.48, 278035.48, 369643.74, 300408.04, 233444.54,\n",
       "       206212.84, 234792.66, 225370.9 , 454739.04, 284414.02, 241923.74,\n",
       "       217319.1 , 242579.92, 262653.9 , 197921.9 , 321470.3 , 241920.98,\n",
       "       199495.18, 212903.62, 256741.38, 230507.82, 227005.84, 241714.04,\n",
       "       216984.54, 312481.7 , 195401.02, 238745.78, 302049.96, 233836.48,\n",
       "       183453.34, 279354.5 , 205615.22, 299342.8 , 218478.84, 233040.18,\n",
       "       196078.8 , 240210.72, 216490.02, 211263.52, 265473.88, 268571.46,\n",
       "       268144.04, 200284.6 , 274437.58, 207952.88, 294208.5 , 275553.5 ,\n",
       "       235475.32, 243374.82, 204785.58, 247443.68, 186389.02, 204074.86,\n",
       "       227037.3 , 205227.88, 387813.94, 242814.3 , 196910.14, 274673.34,\n",
       "       243603.34, 194073.3 , 219345.02, 226929.72, 244936.9 , 244674.84,\n",
       "       237084.28, 247460.6 , 272925.36, 203758.4 , 224360.98, 231307.2 ,\n",
       "       253917.1 , 231791.48, 345698.88, 212310.58, 255022.94, 242970.52,\n",
       "       260483.82, 219646.64, 198304.52, 277980.22, 254062.52, 253593.  ,\n",
       "       192292.76, 225117.06, 225488.14, 248316.04, 233391.56, 220049.38,\n",
       "       268093.36, 321235.6 , 230512.8 , 245921.62, 239816.22, 245566.7 ,\n",
       "       285676.12, 206597.34, 243367.5 , 262868.92, 313142.94, 194813.6 ,\n",
       "       249745.68, 224945.98, 267040.22, 247705.38, 266838.38, 208688.38,\n",
       "       292277.72, 212850.6 , 246553.12, 273881.4 , 197489.32, 235539.9 ,\n",
       "       237996.76, 284369.34, 294957.82, 239111.02, 257024.9 , 230962.06,\n",
       "       266343.16, 274677.04, 296219.92, 289840.6 , 245505.36, 229986.9 ,\n",
       "       184596.42, 197476.3 , 227886.92, 293832.  , 233073.32, 239666.02,\n",
       "       245948.16, 270383.22, 211732.56, 323998.14, 404367.5 , 200510.52,\n",
       "       228765.9 , 229367.76, 288081.84, 212638.36, 163697.78, 300909.82,\n",
       "       261368.62, 196323.36, 300861.74, 229317.58, 290628.14, 230858.34,\n",
       "       223023.68, 267140.18, 256203.78, 269973.1 , 348980.54, 246107.58,\n",
       "       340903.38, 209211.3 , 239021.8 , 214904.86, 308473.5 , 205407.26,\n",
       "       225550.56, 239215.5 , 252564.02, 248490.06, 293568.04, 228692.34,\n",
       "       177341.86, 252158.08, 199044.6 , 263448.  , 235386.48, 302838.08,\n",
       "       223016.42, 246622.22, 255538.94, 215506.92, 206365.52, 254742.68,\n",
       "       243345.06, 228164.5 , 192844.42, 331757.04, 202794.98, 233527.4 ,\n",
       "       299883.4 , 256407.46, 255524.88, 235990.42, 226404.06, 213795.52,\n",
       "       205354.5 , 226943.5 , 238361.3 , 256258.04, 231325.82, 226891.74,\n",
       "       226673.  , 269574.94, 269910.52, 224658.78, 198529.06, 221919.8 ,\n",
       "       237527.54, 251142.04, 294970.02, 239865.84, 267211.4 , 244111.72,\n",
       "       185522.72, 223914.08, 301046.  , 256187.82, 246124.82, 171245.92,\n",
       "       215325.5 , 239960.36, 212899.52, 247250.28, 267144.52, 242290.74,\n",
       "       287577.06, 248247.26, 207034.1 , 339746.2 , 264302.66, 232396.44,\n",
       "       276503.74, 223739.22, 242461.22, 272049.12, 211981.92, 206935.82,\n",
       "       233717.32, 203279.88, 204983.1 , 284301.1 , 203349.2 , 285758.9 ,\n",
       "       238864.74, 241712.22, 217086.32, 263632.26, 255217.72, 213009.26,\n",
       "       256870.6 , 239760.22, 251711.48, 208707.7 , 203968.94, 204236.64,\n",
       "       249630.1 , 265099.92, 247299.5 , 216864.46, 236354.96, 216038.82,\n",
       "       155894.68, 265410.98, 224421.6 , 222028.14, 303788.78, 209948.28,\n",
       "       333442.36, 217541.06, 239257.34, 280035.2 , 248691.48, 276753.78,\n",
       "       386035.24, 264271.86, 335903.8 , 253496.94, 236748.2 , 260906.02,\n",
       "       241828.38, 229603.  , 245727.74, 248605.6 , 275602.82, 279180.3 ,\n",
       "       230654.44, 221020.4 , 283850.46, 279332.3 , 237517.08, 292754.16,\n",
       "       200621.22, 213718.36, 252316.62, 187079.88, 212086.  , 242437.42,\n",
       "       251839.36, 230239.46, 231122.26, 253031.8 , 215097.44, 222259.48,\n",
       "       236019.92, 212289.4 , 240885.28, 270432.26, 229779.56, 224874.1 ,\n",
       "       219196.32, 246352.34, 286866.72, 215835.08, 218431.26, 199179.14,\n",
       "       186761.2 , 288243.3 , 213320.1 , 228558.1 , 227005.1 , 208003.3 ,\n",
       "       252612.78, 250055.02, 230567.44, 213357.6 , 268711.04, 222617.34,\n",
       "       252668.32, 209709.9 , 274954.88, 253040.06, 269172.06, 227701.14,\n",
       "       257228.44, 254876.6 , 232078.02, 240557.68, 242417.68, 203794.7 ,\n",
       "       219564.46, 253220.4 , 232791.6 , 240300.54, 264492.18, 182657.42,\n",
       "       248681.3 , 235218.02, 268920.68, 272535.4 , 227190.6 , 302471.42,\n",
       "       202763.02, 278765.42, 216308.58, 214436.76, 339736.6 , 222787.24,\n",
       "       265663.92, 228139.28, 279391.32, 264366.6 , 292377.24, 229527.34,\n",
       "       212883.1 , 217824.8 , 264135.34, 229380.9 , 220298.44, 199700.22,\n",
       "       239046.68, 238136.14, 221876.9 , 310228.  , 240173.04, 208204.32,\n",
       "       166383.48, 275245.82, 241124.38, 301304.88, 342170.78, 204315.4 ,\n",
       "       217576.84, 272151.2 , 240624.74, 208247.08, 251189.28, 312667.6 ,\n",
       "       299193.12, 213718.5 , 246282.68, 271732.8 , 217315.54, 213228.36,\n",
       "       205701.52, 267133.4 , 227282.32, 266773.5 , 220575.86, 212400.12,\n",
       "       354832.12, 272047.66, 245004.84, 242075.12, 247552.58, 345369.32,\n",
       "       186109.84, 269079.64, 251154.64, 298342.16, 239678.94, 190826.8 ,\n",
       "       197050.6 , 197602.38, 241759.22, 289172.92, 274675.62, 240438.14,\n",
       "       324099.82, 281082.06, 215636.28, 272391.44, 214391.64, 241892.94,\n",
       "       180850.38, 209182.2 , 204916.52, 224893.88, 272976.5 , 254904.64,\n",
       "       262349.74, 258749.32, 187543.56, 277179.82, 272929.54, 216282.06,\n",
       "       219469.34, 231450.74, 217381.3 , 203309.82, 196273.48, 239415.62,\n",
       "       240658.02, 235522.12, 283117.18, 233577.42, 305495.28, 221197.22,\n",
       "       196931.82, 271309.64, 244929.68, 288556.24, 222101.02, 232627.44,\n",
       "       254959.16, 241184.48, 201189.42, 174295.58, 260002.22, 214273.56,\n",
       "       268589.82, 238424.54, 256603.72, 249598.38, 246510.74, 231430.46,\n",
       "       207959.78, 269167.4 , 294565.6 , 366088.56, 274495.3 , 211499.5 ,\n",
       "       283613.62, 225979.1 , 246758.54, 258652.3 , 202283.98, 205225.94,\n",
       "       253854.48, 192321.18, 285090.12, 220548.94, 198826.82, 303669.34,\n",
       "       247507.1 , 200559.24, 236302.82, 290732.72, 250702.04, 194568.22,\n",
       "       278141.92, 282554.2 , 223583.5 , 192935.7 , 211288.94, 274258.14,\n",
       "       236657.24, 259807.98, 286981.62, 286834.76, 236412.52, 228357.1 ,\n",
       "       296079.98, 252991.96, 229414.74, 245418.34, 206256.98, 488040.62,\n",
       "       339868.02, 239612.92, 281346.94, 239926.18, 249171.7 , 308741.34,\n",
       "       271227.46, 260596.52, 207531.82, 266620.16, 186662.56, 227124.7 ,\n",
       "       197431.36, 197586.36, 281026.8 , 279451.86, 285922.56, 240995.24,\n",
       "       305073.26, 208956.96, 252015.86, 224102.12, 214760.88, 226420.3 ,\n",
       "       245800.86, 203671.18, 175944.32, 211704.08, 207023.92, 276939.96,\n",
       "       211374.92, 192816.26, 259081.78, 242494.88, 208633.7 , 240768.22,\n",
       "       201543.96, 177715.26, 224257.92, 197145.96, 236729.2 , 224694.74,\n",
       "       249526.6 , 204448.38, 210325.48, 304969.32, 276658.  , 328489.78,\n",
       "       270392.52, 232022.44, 259687.34, 247450.84, 176028.02, 234537.56,\n",
       "       265704.46, 239685.16, 244859.58, 265925.92, 206583.34, 237829.4 ,\n",
       "       286819.16, 235247.2 , 213305.08, 266888.36, 278170.44, 208604.66,\n",
       "       234453.54, 240821.52, 247143.58, 222118.94, 208437.38, 252372.02,\n",
       "       267809.26, 205515.92, 223409.8 , 250153.38, 217001.36, 234648.86,\n",
       "       190697.06, 220636.38, 340675.52, 196893.8 , 297896.58, 241422.92,\n",
       "       230247.92, 266238.32, 199340.8 , 242230.36, 273128.7 , 259021.26,\n",
       "       283724.36, 262818.68, 240678.  , 191533.52, 230797.22, 240547.04,\n",
       "       188999.74, 178160.64, 274540.48, 228775.76, 202400.28, 261068.32,\n",
       "       285245.04, 291108.94, 205588.62, 328126.86, 267660.68, 287670.62,\n",
       "       231491.66, 199154.46, 263332.24, 229371.96, 238487.7 , 243446.82,\n",
       "       222922.22, 252695.2 , 276157.08, 251368.06, 212890.86, 225147.2 ,\n",
       "       209077.54, 271968.54, 219501.34, 237220.16, 264272.62, 219144.84,\n",
       "       334694.32, 201476.2 , 190139.06, 257174.82, 227779.5 , 269308.42,\n",
       "       253359.5 , 219084.9 , 276931.52, 205182.1 , 206178.74, 235596.6 ,\n",
       "       185618.24, 279897.74, 233281.36, 252201.36, 186742.86, 267303.26,\n",
       "       201371.48, 282495.32, 293776.64, 261591.18, 229088.22, 227347.12,\n",
       "       270968.22, 241015.5 , 241592.24, 242337.62, 258318.92, 253873.02,\n",
       "       202395.72, 221287.1 , 243943.16, 207896.52, 504624.96, 280405.  ,\n",
       "       262175.6 , 245099.18, 240722.56, 251036.08, 185248.72, 289156.86,\n",
       "       183851.32, 220275.44, 280118.7 , 253376.86, 342054.46, 215346.36,\n",
       "       186694.5 , 240567.46, 256795.88, 201816.22, 214992.52, 228971.82,\n",
       "       222848.84, 284167.06, 222697.38, 245563.48, 264710.28, 231593.48,\n",
       "       253415.34, 216418.18, 243596.2 , 504091.16, 288492.54, 262385.82,\n",
       "       232845.72, 223361.22, 285018.16, 227026.58, 223855.56, 304785.22,\n",
       "       260288.24, 193470.58, 186021.76, 223562.52, 258003.5 , 280023.4 ,\n",
       "       239931.28, 202524.38, 291770.26, 250039.1 , 234968.56, 369484.92,\n",
       "       282454.88, 213524.14, 276976.38, 257753.5 , 263022.86, 292261.2 ,\n",
       "       262334.26, 230130.96, 227179.7 , 199776.3 , 248823.72, 267359.68,\n",
       "       194001.12, 259548.68, 237644.92, 243341.84, 212117.64, 223441.28,\n",
       "       228544.94, 272130.38, 322154.58, 364590.98, 263338.46, 198653.44,\n",
       "       235443.58, 224445.1 , 263834.18, 205857.5 , 253461.54, 200771.5 ,\n",
       "       259786.68, 237305.68, 281673.64, 229165.3 , 232666.28, 217203.68,\n",
       "       224904.44, 232537.3 , 211960.48, 218010.96, 254591.72, 211027.7 ,\n",
       "       260189.54, 264296.48, 212435.48, 239347.84, 268788.86, 234042.64,\n",
       "       201662.88, 307490.22, 177145.24, 211554.96, 287307.62, 407400.04,\n",
       "       222172.92, 243227.26, 271791.4 , 254088.46, 220577.14, 272982.68,\n",
       "       275182.24, 226611.4 , 282341.9 , 326008.88, 242277.12, 253298.84,\n",
       "       236813.64, 222526.06, 210798.04, 254170.86, 256107.18, 262931.38,\n",
       "       265016.64, 247077.16, 318025.48, 283795.7 , 299466.86, 239917.26,\n",
       "       235057.12, 240914.42, 242393.56, 239903.28, 211456.44, 336953.2 ,\n",
       "       272665.82, 226705.36, 261925.46, 183678.02, 211062.2 , 248761.1 ,\n",
       "       236272.18, 174675.74, 239258.3 , 224352.48, 256693.48, 260616.46,\n",
       "       285789.64, 242786.88, 255288.4 , 195423.7 , 300041.74, 226672.9 ,\n",
       "       246642.02, 259037.66, 240342.52, 253782.7 , 249109.82, 207551.74,\n",
       "       270332.1 , 267513.32, 181867.68, 230357.4 , 203048.84, 251534.42,\n",
       "       207365.46, 204085.84, 240026.9 , 197014.66, 300805.  , 202088.34,\n",
       "       237067.44, 259927.28, 187634.84, 222155.02, 222125.22, 250956.96,\n",
       "       267513.62, 304380.14, 213194.36, 252975.6 , 267804.06, 271343.6 ,\n",
       "       210206.16, 174764.56, 272632.62, 250351.34, 233393.86, 277174.22,\n",
       "       199054.02, 235874.54, 269826.88, 224661.1 , 362730.4 , 305822.74,\n",
       "       342031.1 , 324202.08, 243864.46, 247614.68, 242851.56, 199290.52,\n",
       "       195201.1 , 272077.98, 196150.32, 195780.88, 212923.7 , 248364.8 ,\n",
       "       281610.14, 200208.06, 280833.94, 246734.42, 274138.7 , 330711.46,\n",
       "       236149.52, 295244.18, 254719.9 , 268002.38, 227566.52, 231720.88,\n",
       "       199985.6 , 310582.24, 207601.34, 187348.28, 239094.28, 206466.12,\n",
       "       234067.54, 239646.04, 199974.32, 250473.98, 225108.24, 253982.28,\n",
       "       223702.94, 224543.88, 221626.46, 273961.7 , 220729.62, 306331.76,\n",
       "       233641.26, 333600.24, 334637.76, 225941.58, 287893.84, 286435.04,\n",
       "       196028.42, 231075.6 , 240715.34, 252326.88, 192620.26, 220903.84,\n",
       "       274270.2 , 208237.38, 267834.44, 271959.1 , 293933.32, 274992.48,\n",
       "       228555.7 , 219202.26, 253698.66, 276199.58, 238565.36, 228340.94,\n",
       "       192116.58, 277059.12, 244600.32, 333341.38, 187222.56, 242525.94,\n",
       "       264470.02, 186715.04, 177892.22, 223503.2 , 182105.22, 285356.2 ,\n",
       "       230200.58, 210027.46, 285188.16, 174350.06, 269996.62, 361423.6 ,\n",
       "       208617.48, 206889.44, 243036.48, 266996.8 , 198809.98, 221453.28,\n",
       "       218767.42, 216349.92, 313194.02, 291098.76, 247345.06, 398430.86,\n",
       "       233582.12, 180493.62, 272984.72, 231737.  , 224116.8 , 237095.02,\n",
       "       269149.2 , 261737.  , 208055.94, 209095.1 , 288590.74, 245912.74,\n",
       "       184571.72, 223784.2 , 185305.6 , 255471.22, 247888.84, 195639.4 ,\n",
       "       299114.64, 207665.4 , 220561.58, 198107.84, 219550.78, 254682.4 ,\n",
       "       258367.54, 261411.46, 253291.88, 195132.02, 229187.58, 218994.24,\n",
       "       245651.6 , 216340.36, 174114.26, 207968.7 ])"
      ]
     },
     "execution_count": 13,
     "metadata": {},
     "output_type": "execute_result"
    }
   ],
   "source": [
    "rs"
   ]
  },
  {
   "cell_type": "code",
   "execution_count": 14,
   "metadata": {},
   "outputs": [
    {
     "data": {
      "text/plain": [
       "(array([ 46., 288., 367., 216.,  47.,  24.,   6.,   2.,   1.,   3.]),\n",
       " array([155894.68 , 190767.708, 225640.736, 260513.764, 295386.792,\n",
       "        330259.82 , 365132.848, 400005.876, 434878.904, 469751.932,\n",
       "        504624.96 ]),\n",
       " <BarContainer object of 10 artists>)"
      ]
     },
     "execution_count": 14,
     "metadata": {},
     "output_type": "execute_result"
    },
    {
     "data": {
      "image/png": "[encoded data removed]",
      "text/plain": [
       "<Figure size 432x288 with 1 Axes>"
      ]
     },
     "metadata": {
      "needs_background": "light"
     },
     "output_type": "display_data"
    }
   ],
   "source": [
    "plt.hist(rs)"
   ]
  },
  {
   "cell_type": "markdown",
   "metadata": {
    "id": "K2iwg-qXVf5T"
   },
   "source": [
    "###### 8.A Describe the shape of the histogram of sample means (using sample size of 50)"
   ]
  },
  {
   "cell_type": "code",
   "execution_count": 44,
   "metadata": {},
   "outputs": [],
   "source": [
    "rs = []\n",
    "for i in range(1000):\n",
    "    rs.append(np.random.choice(df['Total Household Income'], 50).mean())\n",
    "rs = np.array(rs)"
   ]
  },
  {
   "cell_type": "code",
   "execution_count": 45,
   "metadata": {},
   "outputs": [
    {
     "data": {
      "text/plain": [
       "array([191758.06, 175636.88, 224412.54, 327249.08, 227326.64, 204744.76,\n",
       "       231045.08, 257716.74, 245497.4 , 216297.14, 284280.88, 222765.14,\n",
       "       223832.66, 218066.26, 223571.2 , 186014.04, 260319.42, 245877.7 ,\n",
       "       221798.24, 251047.32, 231563.56, 269623.82, 271697.38, 224855.8 ,\n",
       "       239233.3 , 233485.34, 209300.72, 180785.98, 235411.36, 230816.22,\n",
       "       219387.86, 258463.9 , 262615.2 , 193417.56, 315941.6 , 254578.54,\n",
       "       264655.08, 218206.22, 258030.08, 219017.82, 233744.68, 231960.02,\n",
       "       264222.98, 251802.16, 265306.76, 244062.08, 238326.88, 220342.42,\n",
       "       239856.68, 334511.22, 232173.64, 214845.48, 246626.5 , 306644.44,\n",
       "       217900.24, 204559.5 , 264245.06, 203334.9 , 186607.38, 214200.04,\n",
       "       222463.1 , 234668.52, 207646.68, 260188.34, 250256.42, 190369.76,\n",
       "       237009.58, 205603.26, 237205.48, 223228.34, 222858.62, 303792.62,\n",
       "       243735.86, 274298.42, 283282.42, 254526.3 , 239283.36, 197125.3 ,\n",
       "       195847.26, 210920.66, 224779.14, 225153.12, 281933.08, 213546.08,\n",
       "       259471.1 , 263701.56, 240185.44, 200208.22, 333003.84, 300777.48,\n",
       "       284031.26, 232822.86, 231455.9 , 276250.7 , 223637.42, 289943.64,\n",
       "       219745.58, 265596.14, 345703.34, 243846.84, 294018.56, 245415.3 ,\n",
       "       245079.36, 197455.04, 237683.06, 239891.6 , 260108.34, 243578.94,\n",
       "       254402.06, 226327.78, 212588.66, 210553.3 , 257958.76, 394847.54,\n",
       "       238690.6 , 180426.9 , 240607.5 , 278952.04, 252028.42, 212133.96,\n",
       "       222758.52, 320461.58, 298202.98, 247809.8 , 203858.34, 252168.64,\n",
       "       246447.12, 256493.4 , 284596.94, 234612.18, 251398.84, 236212.66,\n",
       "       264327.2 , 249733.56, 283449.38, 244050.22, 309282.64, 255980.96,\n",
       "       254775.82, 292034.36, 235941.92, 286466.18, 209068.  , 277719.94,\n",
       "       286049.04, 271906.  , 260442.64, 230658.8 , 234831.12, 236667.54,\n",
       "       212668.64, 198142.16, 221157.68, 237058.16, 281156.38, 226079.1 ,\n",
       "       306674.58, 227357.96, 186041.6 , 239255.1 , 182591.02, 214799.5 ,\n",
       "       188002.44, 313887.34, 241179.32, 223136.4 , 231403.46, 247991.02,\n",
       "       172040.76, 227753.02, 198479.66, 228333.78, 167184.86, 242135.7 ,\n",
       "       302181.92, 276447.14, 198002.76, 209827.52, 177862.3 , 280208.1 ,\n",
       "       274141.66, 244620.44, 275026.52, 204333.32, 297192.58, 303011.02,\n",
       "       244915.4 , 218923.92, 236087.7 , 229386.1 , 293585.48, 207905.32,\n",
       "       294468.74, 361075.22, 349740.62, 237379.9 , 290582.94, 220201.36,\n",
       "       204853.48, 248476.02, 233166.48, 218331.3 , 275651.74, 245328.24,\n",
       "       189398.62, 261698.5 , 338754.52, 197639.52, 205695.6 , 206923.4 ,\n",
       "       246479.16, 224057.92, 193888.86, 226827.48, 508531.02, 233173.82,\n",
       "       234002.26, 266412.04, 215300.3 , 212845.48, 257959.38, 247036.8 ,\n",
       "       225185.82, 264044.02, 253186.8 , 244856.64, 242453.78, 209778.4 ,\n",
       "       338100.44, 246003.54, 213589.52, 249374.7 , 246500.18, 318534.72,\n",
       "       221799.38, 208787.5 , 220631.5 , 257642.28, 297234.86, 218429.88,\n",
       "       231619.38, 238304.18, 284498.18, 276626.64, 208374.7 , 246949.32,\n",
       "       198835.78, 223112.16, 254229.06, 241704.12, 215718.34, 212058.5 ,\n",
       "       214578.6 , 266712.14, 262349.56, 160815.8 , 263096.62, 260188.88,\n",
       "       218222.66, 301424.6 , 221590.46, 201357.68, 189731.64, 244747.5 ,\n",
       "       297925.34, 207644.3 , 267981.34, 210998.96, 203736.14, 223136.48,\n",
       "       256888.52, 242162.18, 291956.  , 288565.4 , 306551.54, 235018.96,\n",
       "       228433.54, 329779.82, 242017.84, 222707.98, 226558.6 , 218776.4 ,\n",
       "       234726.  , 252897.86, 246646.76, 159386.26, 224290.06, 257893.88,\n",
       "       238966.68, 270561.64, 193142.24, 321891.24, 262402.64, 291262.98,\n",
       "       252220.36, 213321.84, 240425.06, 230187.12, 269595.84, 184267.58,\n",
       "       255947.44, 288801.64, 221611.76, 239961.06, 228317.06, 250544.74,\n",
       "       278900.06, 178909.96, 254359.3 , 276756.12, 234896.54, 241885.38,\n",
       "       241072.88, 226024.58, 316209.58, 230671.42, 212312.38, 215972.28,\n",
       "       188538.24, 199069.86, 173669.84, 317511.78, 249042.68, 229080.14,\n",
       "       203497.18, 247651.76, 280368.58, 218651.82, 407367.02, 171806.26,\n",
       "       248787.32, 257704.88, 219535.26, 254792.68, 251702.  , 287099.98,\n",
       "       267636.2 , 184690.9 , 257284.22, 241750.2 , 270566.8 , 222958.7 ,\n",
       "       238692.52, 216802.86, 223326.98, 266210.  , 245719.18, 218993.08,\n",
       "       277035.2 , 236102.52, 287771.38, 314347.54, 254521.18, 248891.02,\n",
       "       211026.46, 276968.2 , 262761.98, 267587.94, 350433.9 , 249859.04,\n",
       "       234081.78, 249863.58, 261281.02, 260464.22, 308715.38, 224091.36,\n",
       "       221871.76, 238107.3 , 278543.04, 229597.72, 295021.68, 307561.06,\n",
       "       278447.72, 280255.18, 255249.  , 192347.12, 338709.44, 199574.7 ,\n",
       "       235985.32, 249281.12, 227710.06, 211192.42, 211980.76, 303167.24,\n",
       "       229594.52, 230411.18, 274174.98, 215754.18, 202598.92, 252018.88,\n",
       "       253923.74, 214665.94, 280753.6 , 177634.92, 222763.7 , 268373.76,\n",
       "       312656.66, 311835.54, 192804.1 , 203937.4 , 169400.08, 209816.52,\n",
       "       209067.08, 275115.94, 238720.02, 314894.88, 194906.06, 295344.16,\n",
       "       226193.92, 211854.58, 249255.22, 366579.76, 205405.1 , 189225.04,\n",
       "       189097.66, 310356.62, 259541.3 , 196466.38, 283530.54, 288018.94,\n",
       "       243966.78, 245032.94, 184512.18, 250856.28, 221715.52, 250134.5 ,\n",
       "       200667.76, 260624.6 , 249098.2 , 256126.78, 231877.82, 326431.36,\n",
       "       327309.52, 267400.24, 223054.14, 435167.96, 178849.2 , 269978.32,\n",
       "       287810.8 , 221534.22, 253751.66, 219894.72, 310039.82, 249909.26,\n",
       "       279078.52, 361871.74, 260401.06, 251112.34, 209554.42, 175529.56,\n",
       "       210105.84, 228179.98, 218048.08, 211252.02, 289710.94, 288002.8 ,\n",
       "       254601.7 , 211812.82, 275324.48, 267677.92, 298506.02, 262409.48,\n",
       "       219433.26, 272457.06, 325213.38, 250551.04, 235902.48, 263902.08,\n",
       "       277253.48, 315257.1 , 266205.46, 237959.36, 262202.04, 251464.24,\n",
       "       277782.82, 212421.42, 187098.12, 182148.16, 237997.48, 309867.08,\n",
       "       302791.84, 282215.52, 199327.3 , 268328.08, 265718.04, 310789.36,\n",
       "       218450.18, 187136.28, 284928.82, 209545.02, 263937.38, 210835.26,\n",
       "       208635.14, 216528.68, 206141.46, 275755.82, 200217.74, 238115.54,\n",
       "       232818.28, 258429.52, 211771.36, 238275.62, 220103.96, 233678.04,\n",
       "       305310.86, 222436.94, 244620.16, 231913.82, 248149.06, 258891.2 ,\n",
       "       198835.16, 228957.78, 221098.04, 253566.5 , 332772.2 , 227546.66,\n",
       "       248736.66, 187453.8 , 299934.1 , 241694.76, 249554.76, 314564.96,\n",
       "       226044.64, 247919.54, 215791.18, 248009.9 , 331859.18, 244948.94,\n",
       "       267852.48, 259397.58, 270388.12, 250981.9 , 229822.76, 268627.32,\n",
       "       269400.68, 223944.86, 234440.42, 235574.3 , 233219.34, 214789.34,\n",
       "       242143.46, 294845.72, 210605.54, 268482.72, 293975.06, 230814.72,\n",
       "       271570.34, 227707.62, 218342.78, 190959.74, 222619.46, 184349.28,\n",
       "       204913.02, 218242.32, 250947.38, 300929.34, 280134.28, 233767.64,\n",
       "       254358.1 , 218085.8 , 257725.84, 239368.28, 230025.16, 234670.44,\n",
       "       241775.16, 259645.68, 239790.06, 281143.76, 234295.16, 204130.66,\n",
       "       228876.5 , 238552.08, 248949.76, 226314.88, 367662.76, 266356.36,\n",
       "       226744.54, 221593.14, 232755.46, 249024.66, 194188.62, 298344.72,\n",
       "       310085.88, 228688.3 , 256203.02, 217092.58, 222370.88, 238771.62,\n",
       "       195663.64, 201503.46, 217666.6 , 328635.42, 256594.32, 271714.62,\n",
       "       226317.9 , 206092.  , 332680.54, 236734.14, 219653.88, 225934.7 ,\n",
       "       272908.86, 226805.8 , 230689.16, 321753.2 , 238660.  , 214565.9 ,\n",
       "       220168.98, 231654.56, 269535.56, 211063.22, 211545.7 , 305463.36,\n",
       "       195173.34, 239527.7 , 252204.5 , 290232.18, 229685.32, 170817.48,\n",
       "       231631.9 , 220888.5 , 255863.1 , 401209.34, 291148.  , 297243.74,\n",
       "       268667.76, 223435.54, 188968.3 , 274602.94, 229868.68, 282411.96,\n",
       "       253261.56, 243268.08, 217550.06, 229349.28, 226628.56, 194538.22,\n",
       "       292885.3 , 292983.78, 301245.78, 268893.52, 280393.26, 331739.92,\n",
       "       219273.1 , 256968.34, 232823.34, 191395.4 , 196399.24, 205239.98,\n",
       "       169806.3 , 230406.2 , 285153.98, 202335.24, 228699.58, 212490.12,\n",
       "       284255.42, 277088.36, 284176.4 , 215990.2 , 241983.32, 228438.32,\n",
       "       219059.64, 259511.2 , 192600.84, 280352.84, 224153.96, 195016.56,\n",
       "       244117.86, 337888.74, 162791.  , 236968.2 , 182118.8 , 192861.84,\n",
       "       240360.14, 297382.22, 235385.72, 269082.82, 298878.7 , 266519.1 ,\n",
       "       243694.54, 406585.08, 237002.66, 274687.12, 190239.7 , 305946.1 ,\n",
       "       314295.56, 303977.58, 207319.54, 201087.54, 268596.44, 462110.7 ,\n",
       "       217093.6 , 262099.42, 295861.28, 268357.24, 273088.72, 271109.7 ,\n",
       "       333128.44, 252556.82, 303105.32, 259972.08, 245943.88, 187910.68,\n",
       "       227750.6 , 256089.16, 213879.92, 183914.76, 226350.52, 298822.18,\n",
       "       238737.82, 225396.74, 265209.84, 279103.78, 225215.48, 236015.64,\n",
       "       244913.02, 254240.46, 207264.44, 194893.84, 268755.12, 220977.9 ,\n",
       "       241770.98, 195168.34, 243701.9 , 226314.9 , 188188.42, 254485.52,\n",
       "       231513.5 , 255162.3 , 233825.26, 287769.82, 267058.28, 238782.22,\n",
       "       226473.28, 247753.18, 329047.88, 243422.56, 233913.3 , 267703.02,\n",
       "       241241.3 , 362731.52, 269777.64, 266703.72, 182557.9 , 288732.58,\n",
       "       273448.12, 233135.74, 280468.52, 205162.88, 279447.54, 253362.32,\n",
       "       356729.86, 279860.2 , 253301.18, 209644.06, 294875.24, 219243.68,\n",
       "       238066.66, 220168.38, 249179.94, 221997.54, 210046.62, 251637.44,\n",
       "       237700.4 , 273686.88, 315860.02, 280143.66, 180593.98, 287477.76,\n",
       "       285815.74, 295465.04, 192023.68, 196905.74, 204888.46, 258057.8 ,\n",
       "       199432.28, 216849.1 , 271063.82, 194995.6 , 209012.64, 199608.06,\n",
       "       226535.58, 215110.32, 230084.3 , 206950.68, 198455.22, 212677.12,\n",
       "       294089.56, 232002.38, 244770.88, 230039.76, 198763.7 , 260243.16,\n",
       "       245622.74, 288797.94, 326894.4 , 234368.24, 247576.04, 236095.24,\n",
       "       228047.96, 216457.78, 213118.94, 182619.84, 172139.36, 230457.  ,\n",
       "       253502.6 , 218460.52, 228753.44, 271463.98, 212594.98, 251310.38,\n",
       "       209084.22, 257299.88, 228730.36, 206944.2 , 344422.74, 218536.92,\n",
       "       266918.34, 208174.64, 300172.4 , 271981.06, 204231.82, 238104.44,\n",
       "       214961.9 , 330366.56, 239180.66, 261261.08, 213180.12, 281997.44,\n",
       "       237362.18, 281804.2 , 235214.4 , 268189.24, 316561.58, 308401.12,\n",
       "       227471.52, 271906.76, 217602.44, 288488.62, 274307.6 , 202952.6 ,\n",
       "       223747.46, 216701.7 , 274469.56, 216098.66, 189735.78, 291674.7 ,\n",
       "       233277.24, 296903.4 , 226000.22, 267101.62, 291152.4 , 286997.72,\n",
       "       327125.64, 213418.16, 223039.16, 281442.74, 269079.52, 253114.8 ,\n",
       "       236061.54, 225467.96, 301871.66, 215626.98, 241521.28, 217456.8 ,\n",
       "       218103.06, 195438.98, 227057.48, 350505.6 , 306913.44, 267700.64,\n",
       "       216723.2 , 225643.36, 267571.34, 254415.82, 220889.1 , 219650.44,\n",
       "       281174.96, 221915.14, 271483.58, 209838.62, 280219.28, 214244.22,\n",
       "       249958.12, 215019.54, 223708.96, 258068.68, 216505.08, 263058.94,\n",
       "       201856.02, 234653.34, 329651.8 , 237386.68, 289246.22, 253579.7 ,\n",
       "       339656.6 , 241154.18, 233884.84, 298258.18, 244729.12, 275315.66,\n",
       "       248272.3 , 228173.68, 237926.  , 242896.24, 243882.56, 279121.62,\n",
       "       262020.54, 253873.94, 275596.16, 303668.72, 210302.78, 269155.64,\n",
       "       213481.42, 284263.74, 326571.68, 296572.92, 215118.52, 247776.82,\n",
       "       214267.6 , 188383.76, 334189.78, 262219.34, 166722.54, 195231.14,\n",
       "       233978.22, 311074.3 , 242866.72, 214664.26, 261698.32, 276250.3 ,\n",
       "       231104.4 , 219459.6 , 258971.32, 213782.48, 265776.12, 254203.38,\n",
       "       264413.78, 270975.44, 241968.12, 262393.96, 285033.92, 304148.6 ,\n",
       "       352032.96, 246312.06, 268920.48, 278505.88, 287358.06, 230361.58,\n",
       "       219824.66, 215452.48, 199669.5 , 207062.62, 220680.08, 192268.74,\n",
       "       256727.78, 311505.9 , 192122.66, 243861.12, 244874.58, 436628.54,\n",
       "       236753.68, 240870.2 , 273304.04, 257387.06, 254078.14, 248456.52,\n",
       "       218161.32, 300635.72, 213253.82, 213277.32, 254566.2 , 207975.82,\n",
       "       281738.4 , 273395.18, 253920.32, 298905.5 , 199959.1 , 177176.78,\n",
       "       307191.1 , 230056.52, 234497.38, 217362.6 , 301792.34, 255191.84,\n",
       "       315112.62, 212539.88, 248392.84, 302502.64, 221778.74, 280657.34,\n",
       "       196943.5 , 171992.6 , 240077.92, 237762.54, 310525.58, 227354.88,\n",
       "       260411.48, 276119.4 , 235398.62, 170403.38])"
      ]
     },
     "execution_count": 45,
     "metadata": {},
     "output_type": "execute_result"
    }
   ],
   "source": [
    "rs"
   ]
  },
  {
   "cell_type": "code",
   "execution_count": 46,
   "metadata": {},
   "outputs": [
    {
     "data": {
      "text/plain": [
       "(array([ 67., 299., 337., 195.,  75.,  19.,   2.,   4.,   1.,   1.]),\n",
       " array([159386.26 , 194300.736, 229215.212, 264129.688, 299044.164,\n",
       "        333958.64 , 368873.116, 403787.592, 438702.068, 473616.544,\n",
       "        508531.02 ]),\n",
       " <BarContainer object of 10 artists>)"
      ]
     },
     "execution_count": 46,
     "metadata": {},
     "output_type": "execute_result"
    },
    {
     "data": {
      "image/png": "[encoded data removed]",
      "text/plain": [
       "<Figure size 432x288 with 1 Axes>"
      ]
     },
     "metadata": {
      "needs_background": "light"
     },
     "output_type": "display_data"
    }
   ],
   "source": [
    "plt.hist(rs)"
   ]
  },
  {
   "cell_type": "markdown",
   "metadata": {
    "id": "WLw5q7TxVf5U"
   },
   "source": [
    "**ANSWER:** right skewed"
   ]
  },
  {
   "cell_type": "markdown",
   "metadata": {
    "id": "udgqwlA2Vf5V"
   },
   "source": [
    "###### 8.B What is mean of the distribution of sample means?"
   ]
  },
  {
   "cell_type": "code",
   "execution_count": 15,
   "metadata": {
    "id": "U6qOqsgeVf5W"
   },
   "outputs": [
    {
     "data": {
      "text/plain": [
       "244995.31528"
      ]
     },
     "execution_count": 15,
     "metadata": {},
     "output_type": "execute_result"
    }
   ],
   "source": [
    "# ANSWER\n",
    "rs.mean()"
   ]
  },
  {
   "cell_type": "markdown",
   "metadata": {
    "id": "bmWVLwnyVf5Y"
   },
   "source": [
    "**ANSWER:**\n",
    "\n",
    "> If repeated random samples of a given size n are taken from a population of values for a quantitative variable, where the population mean is μ (mu) and the population standard deviation is σ (sigma) then the mean of all sample means (x-bars) is population mean μ (mu)."
   ]
  },
  {
   "cell_type": "markdown",
   "metadata": {
    "id": "Yml6WoZcVf5Z"
   },
   "source": [
    "###### 8.C As the sample size grew, did your results confirm the CLT?"
   ]
  },
  {
   "cell_type": "markdown",
   "metadata": {
    "id": "PSNXrDxyVf5a"
   },
   "source": [
    "**ANSWER:** as the sample size grew, normal distribution was not seen"
   ]
  },
  {
   "cell_type": "code",
   "execution_count": null,
   "metadata": {},
   "outputs": [],
   "source": []
  }
 ],
 "metadata": {
  "colab": {
   "collapsed_sections": [],
   "name": "IOD_Lab 3.1.3.ipynb",
   "provenance": []
  },
  "kernelspec": {
   "display_name": "Python 3",
   "language": "python",
   "name": "python3"
  },
  "language_info": {
   "codemirror_mode": {
    "name": "ipython",
    "version": 3
   },
   "file_extension": ".py",
   "mimetype": "text/x-python",
   "name": "python",
   "nbconvert_exporter": "python",
   "pygments_lexer": "ipython3",
   "version": "3.8.8"
  },
  "toc": {
   "base_numbering": 1,
   "nav_menu": {},
   "number_sections": true,
   "sideBar": true,
   "skip_h1_title": false,
   "title_cell": "Table of Contents",
   "title_sidebar": "Contents",
   "toc_cell": false,
   "toc_position": {},
   "toc_section_display": true,
   "toc_window_display": true
  }
 },
 "nbformat": 4,
 "nbformat_minor": 1
}
