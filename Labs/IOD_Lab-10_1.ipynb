{
 "cells": [
  {
   "cell_type": "markdown",
   "metadata": {
    "colab_type": "text",
    "id": "gn3SG1yo1KdV"
   },
   "source": [
    "<div>\n",
    "<img src=https://www.institutedata.com/wp-content/uploads/2019/10/iod_h_tp_primary_c.svg width=\"300\">\n",
    "</div>"
   ]
  },
  {
   "cell_type": "markdown",
   "metadata": {
    "colab_type": "text",
    "id": "g-SD7a9X1KdY"
   },
   "source": [
    "# Lab 10.1: NN with Keras\n",
    "INSTRUCTIONS:\n",
    "- Read the guides and hints, then create the necessary analysis and code to find an answer and conclusion for the task below.\n",
    "- **NOTE**: This is a Regression problem. Consider the appropriate:\n",
    "    - Activation function\n",
    "    - Loss/Cost Function\n",
    "    - Metrics"
   ]
  },
  {
   "cell_type": "markdown",
   "metadata": {
    "colab_type": "text",
    "id": "ENgfRnvL1Kdc"
   },
   "source": [
    "### Import libraries"
   ]
  },
  {
   "cell_type": "code",
   "execution_count": 1,
   "metadata": {
    "colab": {},
    "colab_type": "code",
    "id": "Z9H465X-1Kde"
   },
   "outputs": [],
   "source": [
    "# insert code here\n",
    "## Import libraries\n",
    "import numpy as np\n",
    "import pandas as pd\n",
    "\n",
    "%matplotlib inline\n",
    "import matplotlib.pyplot as plt\n",
    "\n",
    "from sklearn.datasets import load_digits\n",
    "from sklearn.metrics import confusion_matrix\n",
    "from sklearn.model_selection import train_test_split\n",
    "from sklearn import datasets\n",
    "\n",
    "# import keras\n",
    "# conda install -c conda-forge keras\n",
    "from keras.models import Sequential\n",
    "from keras.layers import Dense\n",
    "# from keras.utils import to_categorical\n",
    "from tensorflow.keras.utils import to_categorical\n"
   ]
  },
  {
   "cell_type": "markdown",
   "metadata": {
    "colab_type": "text",
    "id": "5FHh910J1Kdm"
   },
   "source": [
    "### Load data\n",
    "Load the Diabetes dataset from **SciKit-Learn**."
   ]
  },
  {
   "cell_type": "code",
   "execution_count": 2,
   "metadata": {
    "colab": {},
    "colab_type": "code",
    "id": "MWu8SlQF1Kdo"
   },
   "outputs": [],
   "source": [
    "# insert code here\n",
    "diabetes = datasets.load_diabetes()"
   ]
  },
  {
   "cell_type": "code",
   "execution_count": 3,
   "metadata": {},
   "outputs": [
    {
     "data": {
      "text/plain": [
       "{'data': array([[ 0.03807591,  0.05068012,  0.06169621, ..., -0.00259226,\n",
       "          0.01990842, -0.01764613],\n",
       "        [-0.00188202, -0.04464164, -0.05147406, ..., -0.03949338,\n",
       "         -0.06832974, -0.09220405],\n",
       "        [ 0.08529891,  0.05068012,  0.04445121, ..., -0.00259226,\n",
       "          0.00286377, -0.02593034],\n",
       "        ...,\n",
       "        [ 0.04170844,  0.05068012, -0.01590626, ..., -0.01107952,\n",
       "         -0.04687948,  0.01549073],\n",
       "        [-0.04547248, -0.04464164,  0.03906215, ...,  0.02655962,\n",
       "          0.04452837, -0.02593034],\n",
       "        [-0.04547248, -0.04464164, -0.0730303 , ..., -0.03949338,\n",
       "         -0.00421986,  0.00306441]]),\n",
       " 'target': array([151.,  75., 141., 206., 135.,  97., 138.,  63., 110., 310., 101.,\n",
       "         69., 179., 185., 118., 171., 166., 144.,  97., 168.,  68.,  49.,\n",
       "         68., 245., 184., 202., 137.,  85., 131., 283., 129.,  59., 341.,\n",
       "         87.,  65., 102., 265., 276., 252.,  90., 100.,  55.,  61.,  92.,\n",
       "        259.,  53., 190., 142.,  75., 142., 155., 225.,  59., 104., 182.,\n",
       "        128.,  52.,  37., 170., 170.,  61., 144.,  52., 128.,  71., 163.,\n",
       "        150.,  97., 160., 178.,  48., 270., 202., 111.,  85.,  42., 170.,\n",
       "        200., 252., 113., 143.,  51.,  52., 210.,  65., 141.,  55., 134.,\n",
       "         42., 111.,  98., 164.,  48.,  96.,  90., 162., 150., 279.,  92.,\n",
       "         83., 128., 102., 302., 198.,  95.,  53., 134., 144., 232.,  81.,\n",
       "        104.,  59., 246., 297., 258., 229., 275., 281., 179., 200., 200.,\n",
       "        173., 180.,  84., 121., 161.,  99., 109., 115., 268., 274., 158.,\n",
       "        107.,  83., 103., 272.,  85., 280., 336., 281., 118., 317., 235.,\n",
       "         60., 174., 259., 178., 128.,  96., 126., 288.,  88., 292.,  71.,\n",
       "        197., 186.,  25.,  84.,  96., 195.,  53., 217., 172., 131., 214.,\n",
       "         59.,  70., 220., 268., 152.,  47.,  74., 295., 101., 151., 127.,\n",
       "        237., 225.,  81., 151., 107.,  64., 138., 185., 265., 101., 137.,\n",
       "        143., 141.,  79., 292., 178.,  91., 116.,  86., 122.,  72., 129.,\n",
       "        142.,  90., 158.,  39., 196., 222., 277.,  99., 196., 202., 155.,\n",
       "         77., 191.,  70.,  73.,  49.,  65., 263., 248., 296., 214., 185.,\n",
       "         78.,  93., 252., 150.,  77., 208.,  77., 108., 160.,  53., 220.,\n",
       "        154., 259.,  90., 246., 124.,  67.,  72., 257., 262., 275., 177.,\n",
       "         71.,  47., 187., 125.,  78.,  51., 258., 215., 303., 243.,  91.,\n",
       "        150., 310., 153., 346.,  63.,  89.,  50.,  39., 103., 308., 116.,\n",
       "        145.,  74.,  45., 115., 264.,  87., 202., 127., 182., 241.,  66.,\n",
       "         94., 283.,  64., 102., 200., 265.,  94., 230., 181., 156., 233.,\n",
       "         60., 219.,  80.,  68., 332., 248.,  84., 200.,  55.,  85.,  89.,\n",
       "         31., 129.,  83., 275.,  65., 198., 236., 253., 124.,  44., 172.,\n",
       "        114., 142., 109., 180., 144., 163., 147.,  97., 220., 190., 109.,\n",
       "        191., 122., 230., 242., 248., 249., 192., 131., 237.,  78., 135.,\n",
       "        244., 199., 270., 164.,  72.,  96., 306.,  91., 214.,  95., 216.,\n",
       "        263., 178., 113., 200., 139., 139.,  88., 148.,  88., 243.,  71.,\n",
       "         77., 109., 272.,  60.,  54., 221.,  90., 311., 281., 182., 321.,\n",
       "         58., 262., 206., 233., 242., 123., 167.,  63., 197.,  71., 168.,\n",
       "        140., 217., 121., 235., 245.,  40.,  52., 104., 132.,  88.,  69.,\n",
       "        219.,  72., 201., 110.,  51., 277.,  63., 118.,  69., 273., 258.,\n",
       "         43., 198., 242., 232., 175.,  93., 168., 275., 293., 281.,  72.,\n",
       "        140., 189., 181., 209., 136., 261., 113., 131., 174., 257.,  55.,\n",
       "         84.,  42., 146., 212., 233.,  91., 111., 152., 120.,  67., 310.,\n",
       "         94., 183.,  66., 173.,  72.,  49.,  64.,  48., 178., 104., 132.,\n",
       "        220.,  57.]),\n",
       " 'frame': None,\n",
       " 'DESCR': '.. _diabetes_dataset:\\n\\nDiabetes dataset\\n----------------\\n\\nTen baseline variables, age, sex, body mass index, average blood\\npressure, and six blood serum measurements were obtained for each of n =\\n442 diabetes patients, as well as the response of interest, a\\nquantitative measure of disease progression one year after baseline.\\n\\n**Data Set Characteristics:**\\n\\n  :Number of Instances: 442\\n\\n  :Number of Attributes: First 10 columns are numeric predictive values\\n\\n  :Target: Column 11 is a quantitative measure of disease progression one year after baseline\\n\\n  :Attribute Information:\\n      - age     age in years\\n      - sex\\n      - bmi     body mass index\\n      - bp      average blood pressure\\n      - s1      tc, total serum cholesterol\\n      - s2      ldl, low-density lipoproteins\\n      - s3      hdl, high-density lipoproteins\\n      - s4      tch, total cholesterol / HDL\\n      - s5      ltg, possibly log of serum triglycerides level\\n      - s6      glu, blood sugar level\\n\\nNote: Each of these 10 feature variables have been mean centered and scaled by the standard deviation times `n_samples` (i.e. the sum of squares of each column totals 1).\\n\\nSource URL:\\nhttps://www4.stat.ncsu.edu/~boos/var.select/diabetes.html\\n\\nFor more information see:\\nBradley Efron, Trevor Hastie, Iain Johnstone and Robert Tibshirani (2004) \"Least Angle Regression,\" Annals of Statistics (with discussion), 407-499.\\n(https://web.stanford.edu/~hastie/Papers/LARS/LeastAngle_2002.pdf)',\n",
       " 'feature_names': ['age',\n",
       "  'sex',\n",
       "  'bmi',\n",
       "  'bp',\n",
       "  's1',\n",
       "  's2',\n",
       "  's3',\n",
       "  's4',\n",
       "  's5',\n",
       "  's6'],\n",
       " 'data_filename': 'diabetes_data.csv.gz',\n",
       " 'target_filename': 'diabetes_target.csv.gz',\n",
       " 'data_module': 'sklearn.datasets.data'}"
      ]
     },
     "execution_count": 3,
     "metadata": {},
     "output_type": "execute_result"
    }
   ],
   "source": [
    "diabetes"
   ]
  },
  {
   "cell_type": "markdown",
   "metadata": {
    "colab_type": "text",
    "id": "xR_yLpR01Kdr"
   },
   "source": [
    "### Prepare input data"
   ]
  },
  {
   "cell_type": "code",
   "execution_count": 4,
   "metadata": {
    "colab": {},
    "colab_type": "code",
    "id": "Sp2mf2bB1Kds"
   },
   "outputs": [
    {
     "data": {
      "text/html": [
       "<div>\n",
       "<style scoped>\n",
       "    .dataframe tbody tr th:only-of-type {\n",
       "        vertical-align: middle;\n",
       "    }\n",
       "\n",
       "    .dataframe tbody tr th {\n",
       "        vertical-align: top;\n",
       "    }\n",
       "\n",
       "    .dataframe thead th {\n",
       "        text-align: right;\n",
       "    }\n",
       "</style>\n",
       "<table border=\"1\" class=\"dataframe\">\n",
       "  <thead>\n",
       "    <tr style=\"text-align: right;\">\n",
       "      <th></th>\n",
       "      <th>age</th>\n",
       "      <th>sex</th>\n",
       "      <th>bmi</th>\n",
       "      <th>bp</th>\n",
       "      <th>s1</th>\n",
       "      <th>s2</th>\n",
       "      <th>s3</th>\n",
       "      <th>s4</th>\n",
       "      <th>s5</th>\n",
       "      <th>s6</th>\n",
       "    </tr>\n",
       "  </thead>\n",
       "  <tbody>\n",
       "    <tr>\n",
       "      <th>0</th>\n",
       "      <td>0.038076</td>\n",
       "      <td>0.050680</td>\n",
       "      <td>0.061696</td>\n",
       "      <td>0.021872</td>\n",
       "      <td>-0.044223</td>\n",
       "      <td>-0.034821</td>\n",
       "      <td>-0.043401</td>\n",
       "      <td>-0.002592</td>\n",
       "      <td>0.019908</td>\n",
       "      <td>-0.017646</td>\n",
       "    </tr>\n",
       "    <tr>\n",
       "      <th>1</th>\n",
       "      <td>-0.001882</td>\n",
       "      <td>-0.044642</td>\n",
       "      <td>-0.051474</td>\n",
       "      <td>-0.026328</td>\n",
       "      <td>-0.008449</td>\n",
       "      <td>-0.019163</td>\n",
       "      <td>0.074412</td>\n",
       "      <td>-0.039493</td>\n",
       "      <td>-0.068330</td>\n",
       "      <td>-0.092204</td>\n",
       "    </tr>\n",
       "    <tr>\n",
       "      <th>2</th>\n",
       "      <td>0.085299</td>\n",
       "      <td>0.050680</td>\n",
       "      <td>0.044451</td>\n",
       "      <td>-0.005671</td>\n",
       "      <td>-0.045599</td>\n",
       "      <td>-0.034194</td>\n",
       "      <td>-0.032356</td>\n",
       "      <td>-0.002592</td>\n",
       "      <td>0.002864</td>\n",
       "      <td>-0.025930</td>\n",
       "    </tr>\n",
       "    <tr>\n",
       "      <th>3</th>\n",
       "      <td>-0.089063</td>\n",
       "      <td>-0.044642</td>\n",
       "      <td>-0.011595</td>\n",
       "      <td>-0.036656</td>\n",
       "      <td>0.012191</td>\n",
       "      <td>0.024991</td>\n",
       "      <td>-0.036038</td>\n",
       "      <td>0.034309</td>\n",
       "      <td>0.022692</td>\n",
       "      <td>-0.009362</td>\n",
       "    </tr>\n",
       "    <tr>\n",
       "      <th>4</th>\n",
       "      <td>0.005383</td>\n",
       "      <td>-0.044642</td>\n",
       "      <td>-0.036385</td>\n",
       "      <td>0.021872</td>\n",
       "      <td>0.003935</td>\n",
       "      <td>0.015596</td>\n",
       "      <td>0.008142</td>\n",
       "      <td>-0.002592</td>\n",
       "      <td>-0.031991</td>\n",
       "      <td>-0.046641</td>\n",
       "    </tr>\n",
       "    <tr>\n",
       "      <th>...</th>\n",
       "      <td>...</td>\n",
       "      <td>...</td>\n",
       "      <td>...</td>\n",
       "      <td>...</td>\n",
       "      <td>...</td>\n",
       "      <td>...</td>\n",
       "      <td>...</td>\n",
       "      <td>...</td>\n",
       "      <td>...</td>\n",
       "      <td>...</td>\n",
       "    </tr>\n",
       "    <tr>\n",
       "      <th>437</th>\n",
       "      <td>0.041708</td>\n",
       "      <td>0.050680</td>\n",
       "      <td>0.019662</td>\n",
       "      <td>0.059744</td>\n",
       "      <td>-0.005697</td>\n",
       "      <td>-0.002566</td>\n",
       "      <td>-0.028674</td>\n",
       "      <td>-0.002592</td>\n",
       "      <td>0.031193</td>\n",
       "      <td>0.007207</td>\n",
       "    </tr>\n",
       "    <tr>\n",
       "      <th>438</th>\n",
       "      <td>-0.005515</td>\n",
       "      <td>0.050680</td>\n",
       "      <td>-0.015906</td>\n",
       "      <td>-0.067642</td>\n",
       "      <td>0.049341</td>\n",
       "      <td>0.079165</td>\n",
       "      <td>-0.028674</td>\n",
       "      <td>0.034309</td>\n",
       "      <td>-0.018118</td>\n",
       "      <td>0.044485</td>\n",
       "    </tr>\n",
       "    <tr>\n",
       "      <th>439</th>\n",
       "      <td>0.041708</td>\n",
       "      <td>0.050680</td>\n",
       "      <td>-0.015906</td>\n",
       "      <td>0.017282</td>\n",
       "      <td>-0.037344</td>\n",
       "      <td>-0.013840</td>\n",
       "      <td>-0.024993</td>\n",
       "      <td>-0.011080</td>\n",
       "      <td>-0.046879</td>\n",
       "      <td>0.015491</td>\n",
       "    </tr>\n",
       "    <tr>\n",
       "      <th>440</th>\n",
       "      <td>-0.045472</td>\n",
       "      <td>-0.044642</td>\n",
       "      <td>0.039062</td>\n",
       "      <td>0.001215</td>\n",
       "      <td>0.016318</td>\n",
       "      <td>0.015283</td>\n",
       "      <td>-0.028674</td>\n",
       "      <td>0.026560</td>\n",
       "      <td>0.044528</td>\n",
       "      <td>-0.025930</td>\n",
       "    </tr>\n",
       "    <tr>\n",
       "      <th>441</th>\n",
       "      <td>-0.045472</td>\n",
       "      <td>-0.044642</td>\n",
       "      <td>-0.073030</td>\n",
       "      <td>-0.081414</td>\n",
       "      <td>0.083740</td>\n",
       "      <td>0.027809</td>\n",
       "      <td>0.173816</td>\n",
       "      <td>-0.039493</td>\n",
       "      <td>-0.004220</td>\n",
       "      <td>0.003064</td>\n",
       "    </tr>\n",
       "  </tbody>\n",
       "</table>\n",
       "<p>442 rows × 10 columns</p>\n",
       "</div>"
      ],
      "text/plain": [
       "          age       sex       bmi        bp        s1        s2        s3  \\\n",
       "0    0.038076  0.050680  0.061696  0.021872 -0.044223 -0.034821 -0.043401   \n",
       "1   -0.001882 -0.044642 -0.051474 -0.026328 -0.008449 -0.019163  0.074412   \n",
       "2    0.085299  0.050680  0.044451 -0.005671 -0.045599 -0.034194 -0.032356   \n",
       "3   -0.089063 -0.044642 -0.011595 -0.036656  0.012191  0.024991 -0.036038   \n",
       "4    0.005383 -0.044642 -0.036385  0.021872  0.003935  0.015596  0.008142   \n",
       "..        ...       ...       ...       ...       ...       ...       ...   \n",
       "437  0.041708  0.050680  0.019662  0.059744 -0.005697 -0.002566 -0.028674   \n",
       "438 -0.005515  0.050680 -0.015906 -0.067642  0.049341  0.079165 -0.028674   \n",
       "439  0.041708  0.050680 -0.015906  0.017282 -0.037344 -0.013840 -0.024993   \n",
       "440 -0.045472 -0.044642  0.039062  0.001215  0.016318  0.015283 -0.028674   \n",
       "441 -0.045472 -0.044642 -0.073030 -0.081414  0.083740  0.027809  0.173816   \n",
       "\n",
       "           s4        s5        s6  \n",
       "0   -0.002592  0.019908 -0.017646  \n",
       "1   -0.039493 -0.068330 -0.092204  \n",
       "2   -0.002592  0.002864 -0.025930  \n",
       "3    0.034309  0.022692 -0.009362  \n",
       "4   -0.002592 -0.031991 -0.046641  \n",
       "..        ...       ...       ...  \n",
       "437 -0.002592  0.031193  0.007207  \n",
       "438  0.034309 -0.018118  0.044485  \n",
       "439 -0.011080 -0.046879  0.015491  \n",
       "440  0.026560  0.044528 -0.025930  \n",
       "441 -0.039493 -0.004220  0.003064  \n",
       "\n",
       "[442 rows x 10 columns]"
      ]
     },
     "execution_count": 4,
     "metadata": {},
     "output_type": "execute_result"
    }
   ],
   "source": [
    "# insert code here\n",
    "df=pd.DataFrame(data=diabetes.data, columns=diabetes.feature_names)\n",
    "df"
   ]
  },
  {
   "cell_type": "code",
   "execution_count": 5,
   "metadata": {},
   "outputs": [],
   "source": [
    "df_target=pd.DataFrame(data=diabetes.target, columns=['target'])"
   ]
  },
  {
   "cell_type": "code",
   "execution_count": 6,
   "metadata": {},
   "outputs": [
    {
     "data": {
      "text/html": [
       "<div>\n",
       "<style scoped>\n",
       "    .dataframe tbody tr th:only-of-type {\n",
       "        vertical-align: middle;\n",
       "    }\n",
       "\n",
       "    .dataframe tbody tr th {\n",
       "        vertical-align: top;\n",
       "    }\n",
       "\n",
       "    .dataframe thead th {\n",
       "        text-align: right;\n",
       "    }\n",
       "</style>\n",
       "<table border=\"1\" class=\"dataframe\">\n",
       "  <thead>\n",
       "    <tr style=\"text-align: right;\">\n",
       "      <th></th>\n",
       "      <th>age</th>\n",
       "      <th>sex</th>\n",
       "      <th>bmi</th>\n",
       "      <th>bp</th>\n",
       "      <th>s1</th>\n",
       "      <th>s2</th>\n",
       "      <th>s3</th>\n",
       "      <th>s4</th>\n",
       "      <th>s5</th>\n",
       "      <th>s6</th>\n",
       "      <th>target</th>\n",
       "    </tr>\n",
       "  </thead>\n",
       "  <tbody>\n",
       "    <tr>\n",
       "      <th>0</th>\n",
       "      <td>0.038076</td>\n",
       "      <td>0.050680</td>\n",
       "      <td>0.061696</td>\n",
       "      <td>0.021872</td>\n",
       "      <td>-0.044223</td>\n",
       "      <td>-0.034821</td>\n",
       "      <td>-0.043401</td>\n",
       "      <td>-0.002592</td>\n",
       "      <td>0.019908</td>\n",
       "      <td>-0.017646</td>\n",
       "      <td>151.0</td>\n",
       "    </tr>\n",
       "    <tr>\n",
       "      <th>1</th>\n",
       "      <td>-0.001882</td>\n",
       "      <td>-0.044642</td>\n",
       "      <td>-0.051474</td>\n",
       "      <td>-0.026328</td>\n",
       "      <td>-0.008449</td>\n",
       "      <td>-0.019163</td>\n",
       "      <td>0.074412</td>\n",
       "      <td>-0.039493</td>\n",
       "      <td>-0.068330</td>\n",
       "      <td>-0.092204</td>\n",
       "      <td>75.0</td>\n",
       "    </tr>\n",
       "    <tr>\n",
       "      <th>2</th>\n",
       "      <td>0.085299</td>\n",
       "      <td>0.050680</td>\n",
       "      <td>0.044451</td>\n",
       "      <td>-0.005671</td>\n",
       "      <td>-0.045599</td>\n",
       "      <td>-0.034194</td>\n",
       "      <td>-0.032356</td>\n",
       "      <td>-0.002592</td>\n",
       "      <td>0.002864</td>\n",
       "      <td>-0.025930</td>\n",
       "      <td>141.0</td>\n",
       "    </tr>\n",
       "    <tr>\n",
       "      <th>3</th>\n",
       "      <td>-0.089063</td>\n",
       "      <td>-0.044642</td>\n",
       "      <td>-0.011595</td>\n",
       "      <td>-0.036656</td>\n",
       "      <td>0.012191</td>\n",
       "      <td>0.024991</td>\n",
       "      <td>-0.036038</td>\n",
       "      <td>0.034309</td>\n",
       "      <td>0.022692</td>\n",
       "      <td>-0.009362</td>\n",
       "      <td>206.0</td>\n",
       "    </tr>\n",
       "    <tr>\n",
       "      <th>4</th>\n",
       "      <td>0.005383</td>\n",
       "      <td>-0.044642</td>\n",
       "      <td>-0.036385</td>\n",
       "      <td>0.021872</td>\n",
       "      <td>0.003935</td>\n",
       "      <td>0.015596</td>\n",
       "      <td>0.008142</td>\n",
       "      <td>-0.002592</td>\n",
       "      <td>-0.031991</td>\n",
       "      <td>-0.046641</td>\n",
       "      <td>135.0</td>\n",
       "    </tr>\n",
       "    <tr>\n",
       "      <th>...</th>\n",
       "      <td>...</td>\n",
       "      <td>...</td>\n",
       "      <td>...</td>\n",
       "      <td>...</td>\n",
       "      <td>...</td>\n",
       "      <td>...</td>\n",
       "      <td>...</td>\n",
       "      <td>...</td>\n",
       "      <td>...</td>\n",
       "      <td>...</td>\n",
       "      <td>...</td>\n",
       "    </tr>\n",
       "    <tr>\n",
       "      <th>437</th>\n",
       "      <td>0.041708</td>\n",
       "      <td>0.050680</td>\n",
       "      <td>0.019662</td>\n",
       "      <td>0.059744</td>\n",
       "      <td>-0.005697</td>\n",
       "      <td>-0.002566</td>\n",
       "      <td>-0.028674</td>\n",
       "      <td>-0.002592</td>\n",
       "      <td>0.031193</td>\n",
       "      <td>0.007207</td>\n",
       "      <td>178.0</td>\n",
       "    </tr>\n",
       "    <tr>\n",
       "      <th>438</th>\n",
       "      <td>-0.005515</td>\n",
       "      <td>0.050680</td>\n",
       "      <td>-0.015906</td>\n",
       "      <td>-0.067642</td>\n",
       "      <td>0.049341</td>\n",
       "      <td>0.079165</td>\n",
       "      <td>-0.028674</td>\n",
       "      <td>0.034309</td>\n",
       "      <td>-0.018118</td>\n",
       "      <td>0.044485</td>\n",
       "      <td>104.0</td>\n",
       "    </tr>\n",
       "    <tr>\n",
       "      <th>439</th>\n",
       "      <td>0.041708</td>\n",
       "      <td>0.050680</td>\n",
       "      <td>-0.015906</td>\n",
       "      <td>0.017282</td>\n",
       "      <td>-0.037344</td>\n",
       "      <td>-0.013840</td>\n",
       "      <td>-0.024993</td>\n",
       "      <td>-0.011080</td>\n",
       "      <td>-0.046879</td>\n",
       "      <td>0.015491</td>\n",
       "      <td>132.0</td>\n",
       "    </tr>\n",
       "    <tr>\n",
       "      <th>440</th>\n",
       "      <td>-0.045472</td>\n",
       "      <td>-0.044642</td>\n",
       "      <td>0.039062</td>\n",
       "      <td>0.001215</td>\n",
       "      <td>0.016318</td>\n",
       "      <td>0.015283</td>\n",
       "      <td>-0.028674</td>\n",
       "      <td>0.026560</td>\n",
       "      <td>0.044528</td>\n",
       "      <td>-0.025930</td>\n",
       "      <td>220.0</td>\n",
       "    </tr>\n",
       "    <tr>\n",
       "      <th>441</th>\n",
       "      <td>-0.045472</td>\n",
       "      <td>-0.044642</td>\n",
       "      <td>-0.073030</td>\n",
       "      <td>-0.081414</td>\n",
       "      <td>0.083740</td>\n",
       "      <td>0.027809</td>\n",
       "      <td>0.173816</td>\n",
       "      <td>-0.039493</td>\n",
       "      <td>-0.004220</td>\n",
       "      <td>0.003064</td>\n",
       "      <td>57.0</td>\n",
       "    </tr>\n",
       "  </tbody>\n",
       "</table>\n",
       "<p>442 rows × 11 columns</p>\n",
       "</div>"
      ],
      "text/plain": [
       "          age       sex       bmi        bp        s1        s2        s3  \\\n",
       "0    0.038076  0.050680  0.061696  0.021872 -0.044223 -0.034821 -0.043401   \n",
       "1   -0.001882 -0.044642 -0.051474 -0.026328 -0.008449 -0.019163  0.074412   \n",
       "2    0.085299  0.050680  0.044451 -0.005671 -0.045599 -0.034194 -0.032356   \n",
       "3   -0.089063 -0.044642 -0.011595 -0.036656  0.012191  0.024991 -0.036038   \n",
       "4    0.005383 -0.044642 -0.036385  0.021872  0.003935  0.015596  0.008142   \n",
       "..        ...       ...       ...       ...       ...       ...       ...   \n",
       "437  0.041708  0.050680  0.019662  0.059744 -0.005697 -0.002566 -0.028674   \n",
       "438 -0.005515  0.050680 -0.015906 -0.067642  0.049341  0.079165 -0.028674   \n",
       "439  0.041708  0.050680 -0.015906  0.017282 -0.037344 -0.013840 -0.024993   \n",
       "440 -0.045472 -0.044642  0.039062  0.001215  0.016318  0.015283 -0.028674   \n",
       "441 -0.045472 -0.044642 -0.073030 -0.081414  0.083740  0.027809  0.173816   \n",
       "\n",
       "           s4        s5        s6  target  \n",
       "0   -0.002592  0.019908 -0.017646   151.0  \n",
       "1   -0.039493 -0.068330 -0.092204    75.0  \n",
       "2   -0.002592  0.002864 -0.025930   141.0  \n",
       "3    0.034309  0.022692 -0.009362   206.0  \n",
       "4   -0.002592 -0.031991 -0.046641   135.0  \n",
       "..        ...       ...       ...     ...  \n",
       "437 -0.002592  0.031193  0.007207   178.0  \n",
       "438  0.034309 -0.018118  0.044485   104.0  \n",
       "439 -0.011080 -0.046879  0.015491   132.0  \n",
       "440  0.026560  0.044528 -0.025930   220.0  \n",
       "441 -0.039493 -0.004220  0.003064    57.0  \n",
       "\n",
       "[442 rows x 11 columns]"
      ]
     },
     "execution_count": 6,
     "metadata": {},
     "output_type": "execute_result"
    }
   ],
   "source": [
    "df= pd.merge(df,df_target,left_index=True,right_index=True)\n",
    "df"
   ]
  },
  {
   "cell_type": "code",
   "execution_count": null,
   "metadata": {},
   "outputs": [],
   "source": []
  },
  {
   "cell_type": "markdown",
   "metadata": {
    "colab_type": "text",
    "id": "j1Vsh6cm1Kdv"
   },
   "source": [
    "### Split the data (training/test)"
   ]
  },
  {
   "cell_type": "code",
   "execution_count": 7,
   "metadata": {},
   "outputs": [
    {
     "data": {
      "text/plain": [
       "Index(['age', 'sex', 'bmi', 'bp', 's1', 's2', 's3', 's4', 's5', 's6',\n",
       "       'target'],\n",
       "      dtype='object')"
      ]
     },
     "execution_count": 7,
     "metadata": {},
     "output_type": "execute_result"
    }
   ],
   "source": [
    "df.columns"
   ]
  },
  {
   "cell_type": "code",
   "execution_count": 8,
   "metadata": {},
   "outputs": [],
   "source": [
    "X=['age', 'sex', 'bmi', 'bp', 's1', 's2', 's3', 's4', 's5', 's6']\n",
    "y=['target']"
   ]
  },
  {
   "cell_type": "code",
   "execution_count": 39,
   "metadata": {},
   "outputs": [],
   "source": [
    "X_train, X_test, y_train, y_test = train_test_split(\n",
    "    df[X], df[y], \n",
    "    test_size = 0.3,\n",
    "    random_state = 65)"
   ]
  },
  {
   "cell_type": "code",
   "execution_count": 10,
   "metadata": {
    "colab": {},
    "colab_type": "code",
    "id": "O341llJz1Kdw"
   },
   "outputs": [],
   "source": [
    "# insert code here\n"
   ]
  },
  {
   "cell_type": "markdown",
   "metadata": {
    "colab_type": "text",
    "id": "o4dJViJD1Kd0"
   },
   "source": [
    "### Create the model's architecture"
   ]
  },
  {
   "cell_type": "code",
   "execution_count": 103,
   "metadata": {
    "colab": {},
    "colab_type": "code",
    "id": "Tkgf_BLl1Kd1"
   },
   "outputs": [],
   "source": [
    "# insert code here\n",
    "model = Sequential()"
   ]
  },
  {
   "cell_type": "code",
   "execution_count": 104,
   "metadata": {
    "scrolled": true
   },
   "outputs": [
    {
     "data": {
      "text/plain": [
       "10"
      ]
     },
     "execution_count": 104,
     "metadata": {},
     "output_type": "execute_result"
    }
   ],
   "source": [
    "n_cols=df[X].shape[1]\n",
    "n_cols"
   ]
  },
  {
   "cell_type": "code",
   "execution_count": 105,
   "metadata": {},
   "outputs": [],
   "source": [
    "# Add the first hidden layer\n",
    "model.add(Dense(50, activation = 'relu', input_shape = (n_cols, )))\n",
    "# Add the second hidden layer\n",
    "model.add(Dense(20, activation = 'relu'))\n",
    "# Add the output layer\n",
    "model.add(Dense(1, activation = 'linear')) \n",
    "\n",
    "#model.layer.pop() #remove last layer"
   ]
  },
  {
   "cell_type": "code",
   "execution_count": 106,
   "metadata": {},
   "outputs": [
    {
     "name": "stdout",
     "output_type": "stream",
     "text": [
      "Model: \"sequential_5\"\n",
      "_________________________________________________________________\n",
      " Layer (type)                Output Shape              Param #   \n",
      "=================================================================\n",
      " dense_12 (Dense)            (None, 50)                550       \n",
      "                                                                 \n",
      " dense_13 (Dense)            (None, 20)                1020      \n",
      "                                                                 \n",
      " dense_14 (Dense)            (None, 1)                 21        \n",
      "                                                                 \n",
      "=================================================================\n",
      "Total params: 1,591\n",
      "Trainable params: 1,591\n",
      "Non-trainable params: 0\n",
      "_________________________________________________________________\n",
      "None\n"
     ]
    }
   ],
   "source": [
    "print(model.summary())"
   ]
  },
  {
   "cell_type": "code",
   "execution_count": null,
   "metadata": {},
   "outputs": [],
   "source": []
  },
  {
   "cell_type": "code",
   "execution_count": null,
   "metadata": {},
   "outputs": [],
   "source": []
  },
  {
   "cell_type": "code",
   "execution_count": null,
   "metadata": {},
   "outputs": [],
   "source": []
  },
  {
   "cell_type": "markdown",
   "metadata": {
    "colab_type": "text",
    "id": "5hQTS42V1Kd4"
   },
   "source": [
    "### Compile the model"
   ]
  },
  {
   "cell_type": "code",
   "execution_count": 107,
   "metadata": {
    "colab": {},
    "colab_type": "code",
    "id": "BvLsoanF1Kd5"
   },
   "outputs": [],
   "source": [
    "# insert code here\n",
    "model.compile(\n",
    "    optimizer = 'adam',\n",
    "    loss = 'mse',\n",
    "    metrics = ['mse'])"
   ]
  },
  {
   "cell_type": "markdown",
   "metadata": {
    "colab_type": "text",
    "id": "6KPQbnEj1Kd7"
   },
   "source": [
    "### Fit the training data"
   ]
  },
  {
   "cell_type": "code",
   "execution_count": 108,
   "metadata": {
    "colab": {},
    "colab_type": "code",
    "id": "-oiuHjEj1Kd8"
   },
   "outputs": [
    {
     "name": "stdout",
     "output_type": "stream",
     "text": [
      "Epoch 1/100\n",
      "12/12 [==============================] - 1s 14ms/step - loss: 27787.7012 - mse: 27787.7012 - val_loss: 30870.8887 - val_mse: 30870.8887\n",
      "Epoch 2/100\n",
      "12/12 [==============================] - 0s 4ms/step - loss: 27746.9766 - mse: 27746.9766 - val_loss: 30820.8535 - val_mse: 30820.8535\n",
      "Epoch 3/100\n",
      "12/12 [==============================] - 0s 4ms/step - loss: 27692.2148 - mse: 27692.2148 - val_loss: 30749.5996 - val_mse: 30749.5957\n",
      "Epoch 4/100\n",
      "12/12 [==============================] - 0s 4ms/step - loss: 27613.2715 - mse: 27613.2715 - val_loss: 30646.5605 - val_mse: 30646.5645\n",
      "Epoch 5/100\n",
      "12/12 [==============================] - 0s 4ms/step - loss: 27497.2285 - mse: 27497.2285 - val_loss: 30498.0312 - val_mse: 30498.0312\n",
      "Epoch 6/100\n",
      "12/12 [==============================] - 0s 4ms/step - loss: 27331.8262 - mse: 27331.8262 - val_loss: 30290.0000 - val_mse: 30290.0000\n",
      "Epoch 7/100\n",
      "12/12 [==============================] - 0s 4ms/step - loss: 27106.4082 - mse: 27106.4082 - val_loss: 30007.1797 - val_mse: 30007.1797\n",
      "Epoch 8/100\n",
      "12/12 [==============================] - 0s 4ms/step - loss: 26803.6797 - mse: 26803.6797 - val_loss: 29636.8340 - val_mse: 29636.8359\n",
      "Epoch 9/100\n",
      "12/12 [==============================] - 0s 4ms/step - loss: 26418.2949 - mse: 26418.2949 - val_loss: 29171.5957 - val_mse: 29171.5957\n",
      "Epoch 10/100\n",
      "12/12 [==============================] - 0s 4ms/step - loss: 25939.7168 - mse: 25939.7168 - val_loss: 28600.2559 - val_mse: 28600.2598\n",
      "Epoch 11/100\n",
      "12/12 [==============================] - 0s 4ms/step - loss: 25359.1621 - mse: 25359.1621 - val_loss: 27911.0762 - val_mse: 27911.0762\n",
      "Epoch 12/100\n",
      "12/12 [==============================] - 0s 4ms/step - loss: 24653.2988 - mse: 24653.2988 - val_loss: 27099.1602 - val_mse: 27099.1602\n",
      "Epoch 13/100\n",
      "12/12 [==============================] - 0s 3ms/step - loss: 23845.2852 - mse: 23845.2852 - val_loss: 26155.2148 - val_mse: 26155.2148\n",
      "Epoch 14/100\n",
      "12/12 [==============================] - 0s 4ms/step - loss: 22896.8770 - mse: 22896.8770 - val_loss: 25098.6270 - val_mse: 25098.6270\n",
      "Epoch 15/100\n",
      "12/12 [==============================] - 0s 4ms/step - loss: 21870.5430 - mse: 21870.5430 - val_loss: 23898.6387 - val_mse: 23898.6387\n",
      "Epoch 16/100\n",
      "12/12 [==============================] - 0s 4ms/step - loss: 20699.0273 - mse: 20699.0273 - val_loss: 22606.7207 - val_mse: 22606.7207\n",
      "Epoch 17/100\n",
      "12/12 [==============================] - 0s 4ms/step - loss: 19467.8223 - mse: 19467.8223 - val_loss: 21202.8164 - val_mse: 21202.8164\n",
      "Epoch 18/100\n",
      "12/12 [==============================] - 0s 5ms/step - loss: 18152.9570 - mse: 18152.9570 - val_loss: 19724.5449 - val_mse: 19724.5449\n",
      "Epoch 19/100\n",
      "12/12 [==============================] - 0s 4ms/step - loss: 16754.1113 - mse: 16754.1113 - val_loss: 18216.5293 - val_mse: 18216.5273\n",
      "Epoch 20/100\n",
      "12/12 [==============================] - 0s 5ms/step - loss: 15351.1309 - mse: 15351.1309 - val_loss: 16661.4023 - val_mse: 16661.4023\n",
      "Epoch 21/100\n",
      "12/12 [==============================] - 0s 5ms/step - loss: 13907.7910 - mse: 13907.7910 - val_loss: 15107.5869 - val_mse: 15107.5869\n",
      "Epoch 22/100\n",
      "12/12 [==============================] - 0s 5ms/step - loss: 12483.1494 - mse: 12483.1494 - val_loss: 13574.6025 - val_mse: 13574.6025\n",
      "Epoch 23/100\n",
      "12/12 [==============================] - 0s 5ms/step - loss: 11157.0176 - mse: 11157.0176 - val_loss: 12068.7393 - val_mse: 12068.7393\n",
      "Epoch 24/100\n",
      "12/12 [==============================] - 0s 3ms/step - loss: 9873.6514 - mse: 9873.6514 - val_loss: 10711.9961 - val_mse: 10711.9961\n",
      "Epoch 25/100\n",
      "12/12 [==============================] - 0s 4ms/step - loss: 8704.9766 - mse: 8704.9766 - val_loss: 9479.0586 - val_mse: 9479.0586\n",
      "Epoch 26/100\n",
      "12/12 [==============================] - 0s 4ms/step - loss: 7678.0435 - mse: 7678.0435 - val_loss: 8380.1299 - val_mse: 8380.1299\n",
      "Epoch 27/100\n",
      "12/12 [==============================] - 0s 4ms/step - loss: 6805.6689 - mse: 6805.6689 - val_loss: 7437.3525 - val_mse: 7437.3525\n",
      "Epoch 28/100\n",
      "12/12 [==============================] - 0s 4ms/step - loss: 6085.8467 - mse: 6085.8467 - val_loss: 6647.3701 - val_mse: 6647.3701\n",
      "Epoch 29/100\n",
      "12/12 [==============================] - 0s 4ms/step - loss: 5486.4043 - mse: 5486.4043 - val_loss: 6032.0249 - val_mse: 6032.0249\n",
      "Epoch 30/100\n",
      "12/12 [==============================] - 0s 4ms/step - loss: 5052.8604 - mse: 5052.8604 - val_loss: 5530.9385 - val_mse: 5530.9385\n",
      "Epoch 31/100\n",
      "12/12 [==============================] - 0s 5ms/step - loss: 4697.3799 - mse: 4697.3799 - val_loss: 5183.6152 - val_mse: 5183.6152\n",
      "Epoch 32/100\n",
      "12/12 [==============================] - 0s 4ms/step - loss: 4487.4531 - mse: 4487.4531 - val_loss: 4886.3735 - val_mse: 4886.3735\n",
      "Epoch 33/100\n",
      "12/12 [==============================] - 0s 4ms/step - loss: 4303.5127 - mse: 4303.5127 - val_loss: 4696.5776 - val_mse: 4696.5776\n",
      "Epoch 34/100\n",
      "12/12 [==============================] - 0s 5ms/step - loss: 4179.5859 - mse: 4179.5859 - val_loss: 4568.6978 - val_mse: 4568.6978\n",
      "Epoch 35/100\n",
      "12/12 [==============================] - 0s 4ms/step - loss: 4093.9097 - mse: 4093.9097 - val_loss: 4455.9824 - val_mse: 4455.9824\n",
      "Epoch 36/100\n",
      "12/12 [==============================] - 0s 5ms/step - loss: 4032.9023 - mse: 4032.9023 - val_loss: 4359.2573 - val_mse: 4359.2573\n",
      "Epoch 37/100\n",
      "12/12 [==============================] - 0s 5ms/step - loss: 3973.6118 - mse: 3973.6118 - val_loss: 4294.4199 - val_mse: 4294.4199\n",
      "Epoch 38/100\n",
      "12/12 [==============================] - 0s 4ms/step - loss: 3927.9106 - mse: 3927.9106 - val_loss: 4243.7451 - val_mse: 4243.7451\n",
      "Epoch 39/100\n",
      "12/12 [==============================] - 0s 5ms/step - loss: 3891.4355 - mse: 3891.4355 - val_loss: 4187.3164 - val_mse: 4187.3164\n",
      "Epoch 40/100\n",
      "12/12 [==============================] - 0s 4ms/step - loss: 3849.7000 - mse: 3849.7000 - val_loss: 4148.5483 - val_mse: 4148.5483\n",
      "Epoch 41/100\n",
      "12/12 [==============================] - 0s 4ms/step - loss: 3814.8022 - mse: 3814.8022 - val_loss: 4109.4492 - val_mse: 4109.4492\n",
      "Epoch 42/100\n",
      "12/12 [==============================] - 0s 4ms/step - loss: 3781.3000 - mse: 3781.3000 - val_loss: 4071.3286 - val_mse: 4071.3286\n",
      "Epoch 43/100\n",
      "12/12 [==============================] - 0s 5ms/step - loss: 3748.8330 - mse: 3748.8330 - val_loss: 4038.3931 - val_mse: 4038.3931\n",
      "Epoch 44/100\n",
      "12/12 [==============================] - 0s 4ms/step - loss: 3716.9275 - mse: 3716.9275 - val_loss: 4010.0586 - val_mse: 4010.0586\n",
      "Epoch 45/100\n",
      "12/12 [==============================] - 0s 4ms/step - loss: 3684.0405 - mse: 3684.0400 - val_loss: 3974.3501 - val_mse: 3974.3501\n",
      "Epoch 46/100\n",
      "12/12 [==============================] - 0s 3ms/step - loss: 3651.9231 - mse: 3651.9231 - val_loss: 3938.6006 - val_mse: 3938.6006\n",
      "Epoch 47/100\n",
      "12/12 [==============================] - 0s 4ms/step - loss: 3616.1299 - mse: 3616.1299 - val_loss: 3914.7307 - val_mse: 3914.7307\n",
      "Epoch 48/100\n",
      "12/12 [==============================] - 0s 4ms/step - loss: 3584.3022 - mse: 3584.3022 - val_loss: 3887.1177 - val_mse: 3887.1177\n",
      "Epoch 49/100\n",
      "12/12 [==============================] - 0s 3ms/step - loss: 3557.0059 - mse: 3557.0059 - val_loss: 3863.3767 - val_mse: 3863.3767\n",
      "Epoch 50/100\n",
      "12/12 [==============================] - 0s 4ms/step - loss: 3527.5222 - mse: 3527.5222 - val_loss: 3843.4006 - val_mse: 3843.4006\n",
      "Epoch 51/100\n",
      "12/12 [==============================] - 0s 4ms/step - loss: 3495.8694 - mse: 3495.8694 - val_loss: 3809.4480 - val_mse: 3809.4480\n",
      "Epoch 52/100\n",
      "12/12 [==============================] - 0s 4ms/step - loss: 3470.6445 - mse: 3470.6445 - val_loss: 3775.3442 - val_mse: 3775.3442\n",
      "Epoch 53/100\n",
      "12/12 [==============================] - 0s 4ms/step - loss: 3438.6543 - mse: 3438.6543 - val_loss: 3753.8337 - val_mse: 3753.8337\n",
      "Epoch 54/100\n",
      "12/12 [==============================] - 0s 4ms/step - loss: 3409.2322 - mse: 3409.2322 - val_loss: 3728.1626 - val_mse: 3728.1626\n",
      "Epoch 55/100\n",
      "12/12 [==============================] - 0s 3ms/step - loss: 3384.2549 - mse: 3384.2549 - val_loss: 3698.5945 - val_mse: 3698.5945\n",
      "Epoch 56/100\n",
      "12/12 [==============================] - 0s 4ms/step - loss: 3362.3604 - mse: 3362.3604 - val_loss: 3687.4912 - val_mse: 3687.4912\n",
      "Epoch 57/100\n",
      "12/12 [==============================] - 0s 4ms/step - loss: 3331.7449 - mse: 3331.7449 - val_loss: 3662.0657 - val_mse: 3662.0657\n",
      "Epoch 58/100\n",
      "12/12 [==============================] - 0s 3ms/step - loss: 3307.6521 - mse: 3307.6519 - val_loss: 3637.6331 - val_mse: 3637.6331\n",
      "Epoch 59/100\n",
      "12/12 [==============================] - 0s 4ms/step - loss: 3283.3066 - mse: 3283.3066 - val_loss: 3618.2949 - val_mse: 3618.2949\n",
      "Epoch 60/100\n",
      "12/12 [==============================] - 0s 4ms/step - loss: 3258.7683 - mse: 3258.7683 - val_loss: 3599.9961 - val_mse: 3599.9961\n",
      "Epoch 61/100\n",
      "12/12 [==============================] - 0s 4ms/step - loss: 3238.7290 - mse: 3238.7290 - val_loss: 3577.9480 - val_mse: 3577.9482\n",
      "Epoch 62/100\n",
      "12/12 [==============================] - 0s 4ms/step - loss: 3216.5569 - mse: 3216.5569 - val_loss: 3557.8086 - val_mse: 3557.8086\n",
      "Epoch 63/100\n",
      "12/12 [==============================] - 0s 4ms/step - loss: 3192.9993 - mse: 3192.9993 - val_loss: 3544.3599 - val_mse: 3544.3599\n",
      "Epoch 64/100\n",
      "12/12 [==============================] - 0s 4ms/step - loss: 3173.1528 - mse: 3173.1528 - val_loss: 3527.8970 - val_mse: 3527.8970\n",
      "Epoch 65/100\n",
      "12/12 [==============================] - 0s 5ms/step - loss: 3152.4192 - mse: 3152.4192 - val_loss: 3509.1899 - val_mse: 3509.1902\n",
      "Epoch 66/100\n",
      "12/12 [==============================] - 0s 5ms/step - loss: 3130.5574 - mse: 3130.5574 - val_loss: 3489.4014 - val_mse: 3489.4014\n",
      "Epoch 67/100\n",
      "12/12 [==============================] - 0s 4ms/step - loss: 3110.8503 - mse: 3110.8503 - val_loss: 3476.4900 - val_mse: 3476.4900\n",
      "Epoch 68/100\n",
      "12/12 [==============================] - 0s 4ms/step - loss: 3095.8474 - mse: 3095.8472 - val_loss: 3463.9238 - val_mse: 3463.9238\n",
      "Epoch 69/100\n",
      "12/12 [==============================] - 0s 4ms/step - loss: 3076.9167 - mse: 3076.9167 - val_loss: 3447.3918 - val_mse: 3447.3914\n",
      "Epoch 70/100\n",
      "12/12 [==============================] - 0s 4ms/step - loss: 3057.4634 - mse: 3057.4634 - val_loss: 3432.7019 - val_mse: 3432.7019\n",
      "Epoch 71/100\n",
      "12/12 [==============================] - 0s 3ms/step - loss: 3040.7710 - mse: 3040.7710 - val_loss: 3419.4919 - val_mse: 3419.4919\n",
      "Epoch 72/100\n",
      "12/12 [==============================] - 0s 5ms/step - loss: 3025.8657 - mse: 3025.8657 - val_loss: 3406.9014 - val_mse: 3406.9014\n",
      "Epoch 73/100\n",
      "12/12 [==============================] - 0s 5ms/step - loss: 3009.6250 - mse: 3009.6250 - val_loss: 3389.9175 - val_mse: 3389.9175\n",
      "Epoch 74/100\n",
      "12/12 [==============================] - 0s 5ms/step - loss: 2998.0801 - mse: 2998.0801 - val_loss: 3373.4099 - val_mse: 3373.4099\n",
      "Epoch 75/100\n",
      "12/12 [==============================] - 0s 4ms/step - loss: 2977.9094 - mse: 2977.9094 - val_loss: 3367.4224 - val_mse: 3367.4224\n",
      "Epoch 76/100\n",
      "12/12 [==============================] - 0s 6ms/step - loss: 2966.4839 - mse: 2966.4839 - val_loss: 3359.3296 - val_mse: 3359.3293\n",
      "Epoch 77/100\n",
      "12/12 [==============================] - 0s 5ms/step - loss: 2950.9097 - mse: 2950.9097 - val_loss: 3344.2605 - val_mse: 3344.2605\n",
      "Epoch 78/100\n",
      "12/12 [==============================] - 0s 4ms/step - loss: 2936.6814 - mse: 2936.6814 - val_loss: 3335.5256 - val_mse: 3335.5256\n",
      "Epoch 79/100\n",
      "12/12 [==============================] - 0s 4ms/step - loss: 2924.6421 - mse: 2924.6421 - val_loss: 3327.4358 - val_mse: 3327.4358\n",
      "Epoch 80/100\n",
      "12/12 [==============================] - 0s 6ms/step - loss: 2911.1504 - mse: 2911.1504 - val_loss: 3311.6250 - val_mse: 3311.6250\n",
      "Epoch 81/100\n",
      "12/12 [==============================] - 0s 5ms/step - loss: 2899.5022 - mse: 2899.5022 - val_loss: 3303.1370 - val_mse: 3303.1370\n",
      "Epoch 82/100\n",
      "12/12 [==============================] - 0s 5ms/step - loss: 2886.3982 - mse: 2886.3982 - val_loss: 3296.8298 - val_mse: 3296.8298\n",
      "Epoch 83/100\n",
      "12/12 [==============================] - 0s 5ms/step - loss: 2875.1882 - mse: 2875.1882 - val_loss: 3286.8142 - val_mse: 3286.8142\n",
      "Epoch 84/100\n",
      "12/12 [==============================] - 0s 4ms/step - loss: 2864.4209 - mse: 2864.4209 - val_loss: 3276.5417 - val_mse: 3276.5417\n",
      "Epoch 85/100\n",
      "12/12 [==============================] - 0s 4ms/step - loss: 2851.9395 - mse: 2851.9395 - val_loss: 3272.5901 - val_mse: 3272.5901\n",
      "Epoch 86/100\n",
      "12/12 [==============================] - 0s 4ms/step - loss: 2842.3530 - mse: 2842.3530 - val_loss: 3264.7988 - val_mse: 3264.7988\n",
      "Epoch 87/100\n",
      "12/12 [==============================] - 0s 4ms/step - loss: 2830.9399 - mse: 2830.9399 - val_loss: 3261.6147 - val_mse: 3261.6147\n",
      "Epoch 88/100\n",
      "12/12 [==============================] - 0s 4ms/step - loss: 2821.1736 - mse: 2821.1736 - val_loss: 3254.5151 - val_mse: 3254.5156\n",
      "Epoch 89/100\n",
      "12/12 [==============================] - 0s 5ms/step - loss: 2812.0632 - mse: 2812.0632 - val_loss: 3246.4067 - val_mse: 3246.4067\n",
      "Epoch 90/100\n",
      "12/12 [==============================] - 0s 4ms/step - loss: 2802.2991 - mse: 2802.2991 - val_loss: 3242.3157 - val_mse: 3242.3157\n",
      "Epoch 91/100\n",
      "12/12 [==============================] - 0s 4ms/step - loss: 2792.3384 - mse: 2792.3384 - val_loss: 3237.1799 - val_mse: 3237.1799\n",
      "Epoch 92/100\n",
      "12/12 [==============================] - 0s 4ms/step - loss: 2785.1040 - mse: 2785.1042 - val_loss: 3228.1594 - val_mse: 3228.1594\n",
      "Epoch 93/100\n",
      "12/12 [==============================] - 0s 5ms/step - loss: 2776.2490 - mse: 2776.2490 - val_loss: 3222.8950 - val_mse: 3222.8950\n",
      "Epoch 94/100\n",
      "12/12 [==============================] - 0s 4ms/step - loss: 2766.3777 - mse: 2766.3779 - val_loss: 3219.4900 - val_mse: 3219.4902\n",
      "Epoch 95/100\n",
      "12/12 [==============================] - 0s 4ms/step - loss: 2759.9558 - mse: 2759.9558 - val_loss: 3217.6208 - val_mse: 3217.6208\n",
      "Epoch 96/100\n",
      "12/12 [==============================] - 0s 4ms/step - loss: 2750.9224 - mse: 2750.9224 - val_loss: 3211.1704 - val_mse: 3211.1707\n",
      "Epoch 97/100\n",
      "12/12 [==============================] - 0s 3ms/step - loss: 2742.8464 - mse: 2742.8464 - val_loss: 3205.0913 - val_mse: 3205.0913\n",
      "Epoch 98/100\n",
      "12/12 [==============================] - 0s 3ms/step - loss: 2736.7930 - mse: 2736.7930 - val_loss: 3197.6755 - val_mse: 3197.6755\n",
      "Epoch 99/100\n",
      "12/12 [==============================] - 0s 3ms/step - loss: 2733.5967 - mse: 2733.5967 - val_loss: 3197.9990 - val_mse: 3197.9990\n",
      "Epoch 100/100\n",
      "12/12 [==============================] - 0s 4ms/step - loss: 2722.1150 - mse: 2722.1150 - val_loss: 3192.5723 - val_mse: 3192.5723\n",
      "Wall time: 5.67 s\n"
     ]
    }
   ],
   "source": [
    "%%time\n",
    "# insert code here\n",
    "fitted_model = model.fit(\n",
    "    X_train,\n",
    "    y_train,\n",
    "    validation_split = 0.25,\n",
    "    batch_size = 20,\n",
    "    epochs = 100,\n",
    "    verbose = 1)"
   ]
  },
  {
   "cell_type": "markdown",
   "metadata": {
    "colab_type": "text",
    "id": "CR-kCu3c1Kd-"
   },
   "source": [
    "### Create predictions"
   ]
  },
  {
   "cell_type": "code",
   "execution_count": 109,
   "metadata": {
    "colab": {},
    "colab_type": "code",
    "collapsed": true,
    "id": "wkywKqPg1Kd-"
   },
   "outputs": [
    {
     "data": {
      "text/plain": [
       "array([[180.51447 ],\n",
       "       [194.77917 ],\n",
       "       [170.21957 ],\n",
       "       [245.44475 ],\n",
       "       [182.82358 ],\n",
       "       [258.86667 ],\n",
       "       [162.44333 ],\n",
       "       [ 71.313995],\n",
       "       [147.69112 ],\n",
       "       [173.65073 ],\n",
       "       [224.88412 ],\n",
       "       [200.45845 ],\n",
       "       [103.02252 ],\n",
       "       [223.13156 ],\n",
       "       [108.99864 ],\n",
       "       [210.10597 ],\n",
       "       [ 79.274124],\n",
       "       [132.28995 ],\n",
       "       [136.08244 ],\n",
       "       [146.4493  ],\n",
       "       [ 77.9981  ],\n",
       "       [ 83.097946],\n",
       "       [178.48135 ],\n",
       "       [138.01851 ],\n",
       "       [214.0582  ],\n",
       "       [181.48482 ],\n",
       "       [116.622284],\n",
       "       [ 95.21036 ],\n",
       "       [169.52063 ],\n",
       "       [222.66614 ],\n",
       "       [240.18262 ],\n",
       "       [242.44214 ],\n",
       "       [157.94563 ],\n",
       "       [133.8631  ],\n",
       "       [126.57502 ],\n",
       "       [160.38234 ],\n",
       "       [111.925934],\n",
       "       [213.91086 ],\n",
       "       [193.6424  ],\n",
       "       [125.09107 ],\n",
       "       [116.778534],\n",
       "       [121.53401 ],\n",
       "       [192.52533 ],\n",
       "       [220.44864 ],\n",
       "       [149.40857 ],\n",
       "       [238.07858 ],\n",
       "       [163.80734 ],\n",
       "       [191.45053 ],\n",
       "       [164.22885 ],\n",
       "       [126.84737 ],\n",
       "       [132.83235 ],\n",
       "       [205.68143 ],\n",
       "       [180.27524 ],\n",
       "       [155.85713 ],\n",
       "       [183.9115  ],\n",
       "       [ 76.09173 ],\n",
       "       [164.17203 ],\n",
       "       [126.59126 ],\n",
       "       [171.1156  ],\n",
       "       [ 89.36721 ],\n",
       "       [137.95038 ],\n",
       "       [149.55923 ],\n",
       "       [191.03021 ],\n",
       "       [246.75067 ],\n",
       "       [180.14478 ],\n",
       "       [160.71043 ],\n",
       "       [115.99919 ],\n",
       "       [198.34586 ],\n",
       "       [203.81693 ],\n",
       "       [107.18436 ],\n",
       "       [170.06836 ],\n",
       "       [174.23772 ],\n",
       "       [ 91.06574 ],\n",
       "       [ 87.416824],\n",
       "       [ 67.7894  ],\n",
       "       [131.11049 ],\n",
       "       [207.25473 ],\n",
       "       [ 80.04286 ],\n",
       "       [251.16907 ],\n",
       "       [127.46968 ],\n",
       "       [176.4268  ],\n",
       "       [214.63449 ],\n",
       "       [129.73175 ],\n",
       "       [ 82.11429 ],\n",
       "       [179.0838  ],\n",
       "       [194.02036 ],\n",
       "       [ 96.93153 ],\n",
       "       [165.06468 ],\n",
       "       [214.44272 ],\n",
       "       [189.60886 ],\n",
       "       [ 83.87222 ],\n",
       "       [174.40903 ],\n",
       "       [193.70206 ],\n",
       "       [140.15182 ],\n",
       "       [217.55411 ],\n",
       "       [ 90.16571 ],\n",
       "       [138.7575  ],\n",
       "       [138.13098 ],\n",
       "       [ 90.06867 ],\n",
       "       [164.22623 ],\n",
       "       [184.6139  ],\n",
       "       [130.82033 ],\n",
       "       [157.22226 ],\n",
       "       [188.17035 ],\n",
       "       [182.27695 ],\n",
       "       [ 84.82389 ],\n",
       "       [172.09561 ],\n",
       "       [247.56299 ],\n",
       "       [ 87.23703 ],\n",
       "       [210.42165 ],\n",
       "       [184.96568 ],\n",
       "       [173.29132 ],\n",
       "       [300.01715 ],\n",
       "       [115.872986],\n",
       "       [285.32422 ],\n",
       "       [128.76251 ],\n",
       "       [ 87.34766 ],\n",
       "       [230.64326 ],\n",
       "       [158.68387 ],\n",
       "       [132.2821  ],\n",
       "       [247.12102 ],\n",
       "       [124.41298 ],\n",
       "       [184.2309  ],\n",
       "       [161.06808 ],\n",
       "       [111.46672 ],\n",
       "       [246.84103 ],\n",
       "       [157.64558 ],\n",
       "       [121.20691 ],\n",
       "       [147.92172 ],\n",
       "       [ 55.07048 ],\n",
       "       [123.97514 ],\n",
       "       [156.00279 ],\n",
       "       [252.22374 ]], dtype=float32)"
      ]
     },
     "execution_count": 109,
     "metadata": {},
     "output_type": "execute_result"
    }
   ],
   "source": [
    "# insert code here\n",
    "\n",
    "predict_x=model.predict(X_test) \n",
    "predict_x\n",
    "#predictions=np.argmax(predict_x,axis=1)\n",
    "#predictions"
   ]
  },
  {
   "cell_type": "markdown",
   "metadata": {
    "colab_type": "text",
    "id": "-unEmrGo1KeA"
   },
   "source": [
    "### Evaluate the model"
   ]
  },
  {
   "cell_type": "code",
   "execution_count": 110,
   "metadata": {
    "colab": {},
    "colab_type": "code",
    "id": "QCIVpVrG1KeB",
    "scrolled": true
   },
   "outputs": [
    {
     "name": "stdout",
     "output_type": "stream",
     "text": [
      "1/1 [==============================] - 0s 17ms/step - loss: 3302.6094 - mse: 3302.6094\n",
      "\n",
      "Test loss: 3302.609375, Test accuracy: 3302.609375\n",
      "\n",
      "Test loss: 57.468334, Test RMSE: 57.468334\n"
     ]
    }
   ],
   "source": [
    "# insert code here\n",
    "score = model.evaluate(X_test, y_test, batch_size = 315)\n",
    "print('\\nTest loss: %.6f, Test accuracy: %.6f' % tuple(score))\n",
    "\n",
    "#score here is mse, need to change to rmse\n",
    "\n",
    "#sqrt of score showing example +/- 57, is this good ?\n",
    "print('\\nTest loss: %.6f, Test RMSE: %.6f' % tuple(np.sqrt(score)))"
   ]
  },
  {
   "cell_type": "markdown",
   "metadata": {
    "colab_type": "text",
    "id": "sSlqjs7e1KeD"
   },
   "source": [
    "### Visualisation of cost"
   ]
  },
  {
   "cell_type": "code",
   "execution_count": 112,
   "metadata": {
    "colab": {},
    "colab_type": "code",
    "id": "1F6hYpNh1KeE",
    "scrolled": true
   },
   "outputs": [
    {
     "data": {
      "image/png": "[encoded data removed]",
      "text/plain": [
       "<Figure size 1296x432 with 2 Axes>"
      ]
     },
     "metadata": {
      "needs_background": "light"
     },
     "output_type": "display_data"
    }
   ],
   "source": [
    "# insert code here\n",
    "#rmse version\n",
    "\n",
    "fig, ax = plt.subplots(1, 2, figsize = (18, 6))\n",
    "fig.subplots_adjust(left = 0.02, right = 0.98, wspace = 0.2)\n",
    "\n",
    "plt.rcParams.update({'font.size': 18})\n",
    "\n",
    "# Plot training & validation accuracy values\n",
    "ax[0].plot(np.sqrt(fitted_model.history['mse']), label = 'Training')\n",
    "ax[0].plot(np.sqrt(fitted_model.history['val_mse']), label = 'Validation')\n",
    "ax[0].set_title('Model RMSE')\n",
    "ax[0].set_ylabel('RMSE')\n",
    "ax[0].set_xlabel('Epoch')\n",
    "ax[0].legend()\n",
    "\n",
    "# Plot training & validation loss values\n",
    "ax[1].plot(np.sqrt(fitted_model.history['loss']), label = 'Training')\n",
    "ax[1].plot(np.sqrt(fitted_model.history['val_loss']), label = 'Validation')\n",
    "ax[1].set_title('Model loss')\n",
    "ax[1].set_ylabel('Loss')\n",
    "ax[1].set_xlabel('Epoch')\n",
    "ax[1].legend()\n",
    "\n",
    "plt.show()"
   ]
  },
  {
   "cell_type": "markdown",
   "metadata": {
    "colab_type": "text",
    "id": "vQLzMZTM1KeG"
   },
   "source": [
    "### Visualisation of residuals"
   ]
  },
  {
   "cell_type": "code",
   "execution_count": 65,
   "metadata": {
    "colab": {},
    "colab_type": "code",
    "id": "opIulVSw1KeH"
   },
   "outputs": [],
   "source": [
    "# insert code here\n",
    "\n",
    "import seaborn as sns"
   ]
  },
  {
   "cell_type": "code",
   "execution_count": null,
   "metadata": {},
   "outputs": [],
   "source": []
  },
  {
   "cell_type": "code",
   "execution_count": 72,
   "metadata": {},
   "outputs": [],
   "source": [
    "residuals=predict_x-y_test"
   ]
  },
  {
   "cell_type": "code",
   "execution_count": 77,
   "metadata": {
    "collapsed": true
   },
   "outputs": [
    {
     "data": {
      "text/html": [
       "<div>\n",
       "<style scoped>\n",
       "    .dataframe tbody tr th:only-of-type {\n",
       "        vertical-align: middle;\n",
       "    }\n",
       "\n",
       "    .dataframe tbody tr th {\n",
       "        vertical-align: top;\n",
       "    }\n",
       "\n",
       "    .dataframe thead th {\n",
       "        text-align: right;\n",
       "    }\n",
       "</style>\n",
       "<table border=\"1\" class=\"dataframe\">\n",
       "  <thead>\n",
       "    <tr style=\"text-align: right;\">\n",
       "      <th></th>\n",
       "      <th>target</th>\n",
       "    </tr>\n",
       "  </thead>\n",
       "  <tbody>\n",
       "    <tr>\n",
       "      <th>180</th>\n",
       "      <td>73.445450</td>\n",
       "    </tr>\n",
       "    <tr>\n",
       "      <th>421</th>\n",
       "      <td>-17.569748</td>\n",
       "    </tr>\n",
       "    <tr>\n",
       "      <th>202</th>\n",
       "      <td>-24.869431</td>\n",
       "    </tr>\n",
       "    <tr>\n",
       "      <th>323</th>\n",
       "      <td>-2.067596</td>\n",
       "    </tr>\n",
       "    <tr>\n",
       "      <th>91</th>\n",
       "      <td>18.717789</td>\n",
       "    </tr>\n",
       "    <tr>\n",
       "      <th>...</th>\n",
       "      <td>...</td>\n",
       "    </tr>\n",
       "    <tr>\n",
       "      <th>119</th>\n",
       "      <td>-51.340591</td>\n",
       "    </tr>\n",
       "    <tr>\n",
       "      <th>84</th>\n",
       "      <td>-8.939949</td>\n",
       "    </tr>\n",
       "    <tr>\n",
       "      <th>435</th>\n",
       "      <td>60.121941</td>\n",
       "    </tr>\n",
       "    <tr>\n",
       "      <th>343</th>\n",
       "      <td>43.765396</td>\n",
       "    </tr>\n",
       "    <tr>\n",
       "      <th>215</th>\n",
       "      <td>-10.783585</td>\n",
       "    </tr>\n",
       "  </tbody>\n",
       "</table>\n",
       "<p>133 rows × 1 columns</p>\n",
       "</div>"
      ],
      "text/plain": [
       "        target\n",
       "180  73.445450\n",
       "421 -17.569748\n",
       "202 -24.869431\n",
       "323  -2.067596\n",
       "91   18.717789\n",
       "..         ...\n",
       "119 -51.340591\n",
       "84   -8.939949\n",
       "435  60.121941\n",
       "343  43.765396\n",
       "215 -10.783585\n",
       "\n",
       "[133 rows x 1 columns]"
      ]
     },
     "execution_count": 77,
     "metadata": {},
     "output_type": "execute_result"
    }
   ],
   "source": [
    "residuals"
   ]
  },
  {
   "cell_type": "code",
   "execution_count": 80,
   "metadata": {},
   "outputs": [
    {
     "data": {
      "text/plain": [
       "<AxesSubplot:ylabel='target'>"
      ]
     },
     "execution_count": 80,
     "metadata": {},
     "output_type": "execute_result"
    },
    {
     "data": {
      "image/png": "[encoded data removed]",
      "text/plain": [
       "<Figure size 432x288 with 1 Axes>"
      ]
     },
     "metadata": {
      "needs_background": "light"
     },
     "output_type": "display_data"
    }
   ],
   "source": [
    "sns.regplot(x=predict_x,y=residuals,data=None,scatter=True)"
   ]
  },
  {
   "cell_type": "code",
   "execution_count": 82,
   "metadata": {},
   "outputs": [
    {
     "data": {
      "text/plain": [
       "<matplotlib.collections.PathCollection at 0x24198e16f10>"
      ]
     },
     "execution_count": 82,
     "metadata": {},
     "output_type": "execute_result"
    },
    {
     "data": {
      "image/png": "[encoded data removed]",
      "text/plain": [
       "<Figure size 432x288 with 1 Axes>"
      ]
     },
     "metadata": {
      "needs_background": "light"
     },
     "output_type": "display_data"
    }
   ],
   "source": [
    "plt.scatter(x=predict_x,y=residuals)"
   ]
  },
  {
   "cell_type": "markdown",
   "metadata": {
    "colab_type": "text",
    "id": "RERADKgNFq9T"
   },
   "source": [
    "© 2020 Institute of Data"
   ]
  }
 ],
 "metadata": {
  "colab": {
   "collapsed_sections": [],
   "name": "DSIA Lab-10_1.ipynb",
   "provenance": []
  },
  "kernelspec": {
   "display_name": "Python 3",
   "language": "python",
   "name": "python3"
  },
  "language_info": {
   "codemirror_mode": {
    "name": "ipython",
    "version": 3
   },
   "file_extension": ".py",
   "mimetype": "text/x-python",
   "name": "python",
   "nbconvert_exporter": "python",
   "pygments_lexer": "ipython3",
   "version": "3.8.8"
  },
  "toc": {
   "base_numbering": 1,
   "nav_menu": {},
   "number_sections": true,
   "sideBar": true,
   "skip_h1_title": false,
   "title_cell": "Table of Contents",
   "title_sidebar": "Contents",
   "toc_cell": false,
   "toc_position": {},
   "toc_section_display": true,
   "toc_window_display": true
  }
 },
 "nbformat": 4,
 "nbformat_minor": 1
}
