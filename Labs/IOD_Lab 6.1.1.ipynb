{
 "cells": [
  {
   "cell_type": "markdown",
   "metadata": {
    "colab_type": "text",
    "id": "9buSDVQSZdoN"
   },
   "source": [
    "<div>\n",
    "<img src=https://www.institutedata.com/wp-content/uploads/2019/10/iod_h_tp_primary_c.svg width=\"300\">\n",
    "</div>"
   ]
  },
  {
   "cell_type": "markdown",
   "metadata": {
    "colab_type": "text",
    "id": "o59uK883ZdoO"
   },
   "source": [
    "# Lab 6.1.1: K-Means by the algorithm\n",
    "\n",
    "### Australian athletes data set\n",
    "\n",
    "##### Description\n",
    "These data were collected in a study of how data on various characteristics of the bloood varied with sport body size and sex of the athlete.\n",
    "\n",
    "Usage\n",
    "data(ais)\n",
    "Format\n",
    "A data frame with 202 observations on the following 13 variables.\n",
    "\n",
    "rcc\n",
    "red blood cell count, in\n",
    "\n",
    "wcc\n",
    "while blood cell count, in per liter\n",
    "\n",
    "hc\n",
    "hematocrit, percent\n",
    "\n",
    "hg\n",
    "hemaglobin concentration, in g per decaliter\n",
    "\n",
    "ferr\n",
    "plasma ferritins, ng\n",
    "\n",
    "bmi\n",
    "Body mass index, kg\n",
    "\n",
    "ssf\n",
    "sum of skin folds\n",
    "\n",
    "pcBfat\n",
    "percent Body fat\n",
    "\n",
    "lbm\n",
    "lean body mass, kg\n",
    "\n",
    "ht\n",
    "height, cm\n",
    "\n",
    "wt\n",
    "weight, kg\n",
    "\n",
    "sex\n",
    "a factor with levels f m\n",
    "\n",
    "sport\n",
    "a factor with levels B_Ball Field Gym Netball Row Swim T_400m T_Sprnt Tennis W_Polo\n",
    "\n",
    "Details\n",
    "Do blood hemoglobin concentrations of athletes in endurance-related events differ from those in power-related events?\n",
    "\n",
    "Source\n",
    "These data were the basis for the analyses that are reported in Telford and Cunningham (1991).\n",
    "\n",
    "References\n",
    "Telford, R.D. and Cunningham, R.B. 1991. Sex, sport and body-size dependency of hematology in highly trained athletes. Medicine and Science in Sports and Exercise 23: 788-794.\n",
    "\n",
    "**References**\n",
    "\n",
    "[Data](http://vincentarelbundock.github.io/Rdatasets/csv/DAAG/ais.csv)\n",
    "\n",
    "[Data Dictionary](http://vincentarelbundock.github.io/Rdatasets/doc/DAAG/ais.html)"
   ]
  },
  {
   "cell_type": "code",
   "execution_count": 37,
   "metadata": {
    "colab": {},
    "colab_type": "code",
    "id": "I5rfFoKjZdoP"
   },
   "outputs": [],
   "source": [
    "# IMPORT LIBRARIES\n",
    "\n",
    "import pandas as pd\n",
    "import numpy as np\n",
    "import seaborn as sns\n",
    "import matplotlib.pyplot as plt\n",
    "from sklearn.cluster import KMeans\n",
    "from sklearn.preprocessing import StandardScaler"
   ]
  },
  {
   "cell_type": "markdown",
   "metadata": {
    "colab_type": "text",
    "id": "PSGo77oGZdoT"
   },
   "source": [
    "### 1. Import the data"
   ]
  },
  {
   "cell_type": "code",
   "execution_count": 76,
   "metadata": {
    "colab": {},
    "colab_type": "code",
    "id": "94YMO8LbZdoU"
   },
   "outputs": [],
   "source": [
    "df= pd.read_csv('..\\\\DATA\\\\ais.csv')\n"
   ]
  },
  {
   "cell_type": "markdown",
   "metadata": {
    "colab_type": "text",
    "id": "_OnASLbbZdoW"
   },
   "source": [
    "### 2. Do some EDA of relationships between features."
   ]
  },
  {
   "cell_type": "code",
   "execution_count": 39,
   "metadata": {},
   "outputs": [
    {
     "data": {
      "text/html": [
       "<div>\n",
       "<style scoped>\n",
       "    .dataframe tbody tr th:only-of-type {\n",
       "        vertical-align: middle;\n",
       "    }\n",
       "\n",
       "    .dataframe tbody tr th {\n",
       "        vertical-align: top;\n",
       "    }\n",
       "\n",
       "    .dataframe thead th {\n",
       "        text-align: right;\n",
       "    }\n",
       "</style>\n",
       "<table border=\"1\" class=\"dataframe\">\n",
       "  <thead>\n",
       "    <tr style=\"text-align: right;\">\n",
       "      <th></th>\n",
       "      <th>Unnamed: 0</th>\n",
       "      <th>rcc</th>\n",
       "      <th>wcc</th>\n",
       "      <th>hc</th>\n",
       "      <th>hg</th>\n",
       "      <th>ferr</th>\n",
       "      <th>bmi</th>\n",
       "      <th>ssf</th>\n",
       "      <th>pcBfat</th>\n",
       "      <th>lbm</th>\n",
       "      <th>ht</th>\n",
       "      <th>wt</th>\n",
       "      <th>sex</th>\n",
       "      <th>sport</th>\n",
       "    </tr>\n",
       "  </thead>\n",
       "  <tbody>\n",
       "    <tr>\n",
       "      <th>0</th>\n",
       "      <td>1</td>\n",
       "      <td>3.96</td>\n",
       "      <td>7.5</td>\n",
       "      <td>37.5</td>\n",
       "      <td>12.3</td>\n",
       "      <td>60</td>\n",
       "      <td>20.56</td>\n",
       "      <td>109.1</td>\n",
       "      <td>19.75</td>\n",
       "      <td>63.32</td>\n",
       "      <td>195.9</td>\n",
       "      <td>78.9</td>\n",
       "      <td>f</td>\n",
       "      <td>B_Ball</td>\n",
       "    </tr>\n",
       "    <tr>\n",
       "      <th>1</th>\n",
       "      <td>2</td>\n",
       "      <td>4.41</td>\n",
       "      <td>8.3</td>\n",
       "      <td>38.2</td>\n",
       "      <td>12.7</td>\n",
       "      <td>68</td>\n",
       "      <td>20.67</td>\n",
       "      <td>102.8</td>\n",
       "      <td>21.30</td>\n",
       "      <td>58.55</td>\n",
       "      <td>189.7</td>\n",
       "      <td>74.4</td>\n",
       "      <td>f</td>\n",
       "      <td>B_Ball</td>\n",
       "    </tr>\n",
       "    <tr>\n",
       "      <th>2</th>\n",
       "      <td>3</td>\n",
       "      <td>4.14</td>\n",
       "      <td>5.0</td>\n",
       "      <td>36.4</td>\n",
       "      <td>11.6</td>\n",
       "      <td>21</td>\n",
       "      <td>21.86</td>\n",
       "      <td>104.6</td>\n",
       "      <td>19.88</td>\n",
       "      <td>55.36</td>\n",
       "      <td>177.8</td>\n",
       "      <td>69.1</td>\n",
       "      <td>f</td>\n",
       "      <td>B_Ball</td>\n",
       "    </tr>\n",
       "    <tr>\n",
       "      <th>3</th>\n",
       "      <td>4</td>\n",
       "      <td>4.11</td>\n",
       "      <td>5.3</td>\n",
       "      <td>37.3</td>\n",
       "      <td>12.6</td>\n",
       "      <td>69</td>\n",
       "      <td>21.88</td>\n",
       "      <td>126.4</td>\n",
       "      <td>23.66</td>\n",
       "      <td>57.18</td>\n",
       "      <td>185.0</td>\n",
       "      <td>74.9</td>\n",
       "      <td>f</td>\n",
       "      <td>B_Ball</td>\n",
       "    </tr>\n",
       "    <tr>\n",
       "      <th>4</th>\n",
       "      <td>5</td>\n",
       "      <td>4.45</td>\n",
       "      <td>6.8</td>\n",
       "      <td>41.5</td>\n",
       "      <td>14.0</td>\n",
       "      <td>29</td>\n",
       "      <td>18.96</td>\n",
       "      <td>80.3</td>\n",
       "      <td>17.64</td>\n",
       "      <td>53.20</td>\n",
       "      <td>184.6</td>\n",
       "      <td>64.6</td>\n",
       "      <td>f</td>\n",
       "      <td>B_Ball</td>\n",
       "    </tr>\n",
       "  </tbody>\n",
       "</table>\n",
       "</div>"
      ],
      "text/plain": [
       "   Unnamed: 0   rcc  wcc    hc    hg  ferr    bmi    ssf  pcBfat    lbm  \\\n",
       "0           1  3.96  7.5  37.5  12.3    60  20.56  109.1   19.75  63.32   \n",
       "1           2  4.41  8.3  38.2  12.7    68  20.67  102.8   21.30  58.55   \n",
       "2           3  4.14  5.0  36.4  11.6    21  21.86  104.6   19.88  55.36   \n",
       "3           4  4.11  5.3  37.3  12.6    69  21.88  126.4   23.66  57.18   \n",
       "4           5  4.45  6.8  41.5  14.0    29  18.96   80.3   17.64  53.20   \n",
       "\n",
       "      ht    wt sex   sport  \n",
       "0  195.9  78.9   f  B_Ball  \n",
       "1  189.7  74.4   f  B_Ball  \n",
       "2  177.8  69.1   f  B_Ball  \n",
       "3  185.0  74.9   f  B_Ball  \n",
       "4  184.6  64.6   f  B_Ball  "
      ]
     },
     "execution_count": 39,
     "metadata": {},
     "output_type": "execute_result"
    }
   ],
   "source": [
    "df.head()"
   ]
  },
  {
   "cell_type": "code",
   "execution_count": 40,
   "metadata": {},
   "outputs": [
    {
     "data": {
      "text/plain": [
       "Unnamed: 0    0\n",
       "rcc           0\n",
       "wcc           0\n",
       "hc            0\n",
       "hg            0\n",
       "ferr          0\n",
       "bmi           0\n",
       "ssf           0\n",
       "pcBfat        0\n",
       "lbm           0\n",
       "ht            0\n",
       "wt            0\n",
       "sex           0\n",
       "sport         0\n",
       "dtype: int64"
      ]
     },
     "execution_count": 40,
     "metadata": {},
     "output_type": "execute_result"
    }
   ],
   "source": [
    "df.isnull().sum()"
   ]
  },
  {
   "cell_type": "code",
   "execution_count": 41,
   "metadata": {},
   "outputs": [
    {
     "data": {
      "text/plain": [
       "(202, 14)"
      ]
     },
     "execution_count": 41,
     "metadata": {},
     "output_type": "execute_result"
    }
   ],
   "source": [
    "df.shape"
   ]
  },
  {
   "cell_type": "code",
   "execution_count": 42,
   "metadata": {
    "scrolled": true
   },
   "outputs": [
    {
     "data": {
      "text/html": [
       "<div>\n",
       "<style scoped>\n",
       "    .dataframe tbody tr th:only-of-type {\n",
       "        vertical-align: middle;\n",
       "    }\n",
       "\n",
       "    .dataframe tbody tr th {\n",
       "        vertical-align: top;\n",
       "    }\n",
       "\n",
       "    .dataframe thead th {\n",
       "        text-align: right;\n",
       "    }\n",
       "</style>\n",
       "<table border=\"1\" class=\"dataframe\">\n",
       "  <thead>\n",
       "    <tr style=\"text-align: right;\">\n",
       "      <th></th>\n",
       "      <th>count</th>\n",
       "      <th>mean</th>\n",
       "      <th>std</th>\n",
       "      <th>min</th>\n",
       "      <th>25%</th>\n",
       "      <th>50%</th>\n",
       "      <th>75%</th>\n",
       "      <th>max</th>\n",
       "    </tr>\n",
       "  </thead>\n",
       "  <tbody>\n",
       "    <tr>\n",
       "      <th>Unnamed: 0</th>\n",
       "      <td>202.0</td>\n",
       "      <td>101.500000</td>\n",
       "      <td>58.456537</td>\n",
       "      <td>1.00</td>\n",
       "      <td>51.2500</td>\n",
       "      <td>101.500</td>\n",
       "      <td>151.750</td>\n",
       "      <td>202.00</td>\n",
       "    </tr>\n",
       "    <tr>\n",
       "      <th>rcc</th>\n",
       "      <td>202.0</td>\n",
       "      <td>4.718614</td>\n",
       "      <td>0.457976</td>\n",
       "      <td>3.80</td>\n",
       "      <td>4.3725</td>\n",
       "      <td>4.755</td>\n",
       "      <td>5.030</td>\n",
       "      <td>6.72</td>\n",
       "    </tr>\n",
       "    <tr>\n",
       "      <th>wcc</th>\n",
       "      <td>202.0</td>\n",
       "      <td>7.108911</td>\n",
       "      <td>1.800337</td>\n",
       "      <td>3.30</td>\n",
       "      <td>5.9000</td>\n",
       "      <td>6.850</td>\n",
       "      <td>8.275</td>\n",
       "      <td>14.30</td>\n",
       "    </tr>\n",
       "    <tr>\n",
       "      <th>hc</th>\n",
       "      <td>202.0</td>\n",
       "      <td>43.091584</td>\n",
       "      <td>3.662989</td>\n",
       "      <td>35.90</td>\n",
       "      <td>40.6000</td>\n",
       "      <td>43.500</td>\n",
       "      <td>45.575</td>\n",
       "      <td>59.70</td>\n",
       "    </tr>\n",
       "    <tr>\n",
       "      <th>hg</th>\n",
       "      <td>202.0</td>\n",
       "      <td>14.566337</td>\n",
       "      <td>1.362451</td>\n",
       "      <td>11.60</td>\n",
       "      <td>13.5000</td>\n",
       "      <td>14.700</td>\n",
       "      <td>15.575</td>\n",
       "      <td>19.20</td>\n",
       "    </tr>\n",
       "    <tr>\n",
       "      <th>ferr</th>\n",
       "      <td>202.0</td>\n",
       "      <td>76.876238</td>\n",
       "      <td>47.501239</td>\n",
       "      <td>8.00</td>\n",
       "      <td>41.2500</td>\n",
       "      <td>65.500</td>\n",
       "      <td>97.000</td>\n",
       "      <td>234.00</td>\n",
       "    </tr>\n",
       "    <tr>\n",
       "      <th>bmi</th>\n",
       "      <td>202.0</td>\n",
       "      <td>22.955891</td>\n",
       "      <td>2.863933</td>\n",
       "      <td>16.75</td>\n",
       "      <td>21.0825</td>\n",
       "      <td>22.720</td>\n",
       "      <td>24.465</td>\n",
       "      <td>34.42</td>\n",
       "    </tr>\n",
       "    <tr>\n",
       "      <th>ssf</th>\n",
       "      <td>202.0</td>\n",
       "      <td>69.021782</td>\n",
       "      <td>32.565333</td>\n",
       "      <td>28.00</td>\n",
       "      <td>43.8500</td>\n",
       "      <td>58.600</td>\n",
       "      <td>90.350</td>\n",
       "      <td>200.80</td>\n",
       "    </tr>\n",
       "    <tr>\n",
       "      <th>pcBfat</th>\n",
       "      <td>202.0</td>\n",
       "      <td>13.507426</td>\n",
       "      <td>6.189826</td>\n",
       "      <td>5.63</td>\n",
       "      <td>8.5450</td>\n",
       "      <td>11.650</td>\n",
       "      <td>18.080</td>\n",
       "      <td>35.52</td>\n",
       "    </tr>\n",
       "    <tr>\n",
       "      <th>lbm</th>\n",
       "      <td>202.0</td>\n",
       "      <td>64.873713</td>\n",
       "      <td>13.070197</td>\n",
       "      <td>34.36</td>\n",
       "      <td>54.6675</td>\n",
       "      <td>63.035</td>\n",
       "      <td>74.750</td>\n",
       "      <td>106.00</td>\n",
       "    </tr>\n",
       "    <tr>\n",
       "      <th>ht</th>\n",
       "      <td>202.0</td>\n",
       "      <td>180.103960</td>\n",
       "      <td>9.734494</td>\n",
       "      <td>148.90</td>\n",
       "      <td>174.0000</td>\n",
       "      <td>179.700</td>\n",
       "      <td>186.175</td>\n",
       "      <td>209.40</td>\n",
       "    </tr>\n",
       "    <tr>\n",
       "      <th>wt</th>\n",
       "      <td>202.0</td>\n",
       "      <td>75.007921</td>\n",
       "      <td>13.925199</td>\n",
       "      <td>37.80</td>\n",
       "      <td>66.5250</td>\n",
       "      <td>74.400</td>\n",
       "      <td>84.125</td>\n",
       "      <td>123.20</td>\n",
       "    </tr>\n",
       "  </tbody>\n",
       "</table>\n",
       "</div>"
      ],
      "text/plain": [
       "            count        mean        std     min       25%      50%      75%  \\\n",
       "Unnamed: 0  202.0  101.500000  58.456537    1.00   51.2500  101.500  151.750   \n",
       "rcc         202.0    4.718614   0.457976    3.80    4.3725    4.755    5.030   \n",
       "wcc         202.0    7.108911   1.800337    3.30    5.9000    6.850    8.275   \n",
       "hc          202.0   43.091584   3.662989   35.90   40.6000   43.500   45.575   \n",
       "hg          202.0   14.566337   1.362451   11.60   13.5000   14.700   15.575   \n",
       "ferr        202.0   76.876238  47.501239    8.00   41.2500   65.500   97.000   \n",
       "bmi         202.0   22.955891   2.863933   16.75   21.0825   22.720   24.465   \n",
       "ssf         202.0   69.021782  32.565333   28.00   43.8500   58.600   90.350   \n",
       "pcBfat      202.0   13.507426   6.189826    5.63    8.5450   11.650   18.080   \n",
       "lbm         202.0   64.873713  13.070197   34.36   54.6675   63.035   74.750   \n",
       "ht          202.0  180.103960   9.734494  148.90  174.0000  179.700  186.175   \n",
       "wt          202.0   75.007921  13.925199   37.80   66.5250   74.400   84.125   \n",
       "\n",
       "               max  \n",
       "Unnamed: 0  202.00  \n",
       "rcc           6.72  \n",
       "wcc          14.30  \n",
       "hc           59.70  \n",
       "hg           19.20  \n",
       "ferr        234.00  \n",
       "bmi          34.42  \n",
       "ssf         200.80  \n",
       "pcBfat       35.52  \n",
       "lbm         106.00  \n",
       "ht          209.40  \n",
       "wt          123.20  "
      ]
     },
     "execution_count": 42,
     "metadata": {},
     "output_type": "execute_result"
    }
   ],
   "source": [
    "df.describe().T"
   ]
  },
  {
   "cell_type": "code",
   "execution_count": 43,
   "metadata": {},
   "outputs": [],
   "source": [
    "df.drop('Unnamed: 0',axis=1,inplace=True)"
   ]
  },
  {
   "cell_type": "code",
   "execution_count": 44,
   "metadata": {},
   "outputs": [
    {
     "data": {
      "text/html": [
       "<div>\n",
       "<style scoped>\n",
       "    .dataframe tbody tr th:only-of-type {\n",
       "        vertical-align: middle;\n",
       "    }\n",
       "\n",
       "    .dataframe tbody tr th {\n",
       "        vertical-align: top;\n",
       "    }\n",
       "\n",
       "    .dataframe thead th {\n",
       "        text-align: right;\n",
       "    }\n",
       "</style>\n",
       "<table border=\"1\" class=\"dataframe\">\n",
       "  <thead>\n",
       "    <tr style=\"text-align: right;\">\n",
       "      <th></th>\n",
       "      <th>rcc</th>\n",
       "      <th>wcc</th>\n",
       "      <th>hc</th>\n",
       "      <th>hg</th>\n",
       "      <th>ferr</th>\n",
       "      <th>bmi</th>\n",
       "      <th>ssf</th>\n",
       "      <th>pcBfat</th>\n",
       "      <th>lbm</th>\n",
       "      <th>ht</th>\n",
       "      <th>wt</th>\n",
       "      <th>sex</th>\n",
       "      <th>sport</th>\n",
       "    </tr>\n",
       "  </thead>\n",
       "  <tbody>\n",
       "    <tr>\n",
       "      <th>0</th>\n",
       "      <td>3.96</td>\n",
       "      <td>7.5</td>\n",
       "      <td>37.5</td>\n",
       "      <td>12.3</td>\n",
       "      <td>60</td>\n",
       "      <td>20.56</td>\n",
       "      <td>109.1</td>\n",
       "      <td>19.75</td>\n",
       "      <td>63.32</td>\n",
       "      <td>195.9</td>\n",
       "      <td>78.9</td>\n",
       "      <td>f</td>\n",
       "      <td>B_Ball</td>\n",
       "    </tr>\n",
       "    <tr>\n",
       "      <th>1</th>\n",
       "      <td>4.41</td>\n",
       "      <td>8.3</td>\n",
       "      <td>38.2</td>\n",
       "      <td>12.7</td>\n",
       "      <td>68</td>\n",
       "      <td>20.67</td>\n",
       "      <td>102.8</td>\n",
       "      <td>21.30</td>\n",
       "      <td>58.55</td>\n",
       "      <td>189.7</td>\n",
       "      <td>74.4</td>\n",
       "      <td>f</td>\n",
       "      <td>B_Ball</td>\n",
       "    </tr>\n",
       "  </tbody>\n",
       "</table>\n",
       "</div>"
      ],
      "text/plain": [
       "    rcc  wcc    hc    hg  ferr    bmi    ssf  pcBfat    lbm     ht    wt sex  \\\n",
       "0  3.96  7.5  37.5  12.3    60  20.56  109.1   19.75  63.32  195.9  78.9   f   \n",
       "1  4.41  8.3  38.2  12.7    68  20.67  102.8   21.30  58.55  189.7  74.4   f   \n",
       "\n",
       "    sport  \n",
       "0  B_Ball  \n",
       "1  B_Ball  "
      ]
     },
     "execution_count": 44,
     "metadata": {},
     "output_type": "execute_result"
    }
   ],
   "source": [
    "df.head(2)"
   ]
  },
  {
   "cell_type": "markdown",
   "metadata": {
    "colab_type": "text",
    "id": "NyMRchAMZdoX"
   },
   "source": [
    "### 3. Prepare the data for clustering\n",
    "\n",
    "1. Remove the `sex`, `sport` column. We will see if the clusters from K-Means end up like the actual sex.\n",
    "2. Put the features on the same scale."
   ]
  },
  {
   "cell_type": "code",
   "execution_count": 45,
   "metadata": {
    "colab": {},
    "colab_type": "code",
    "id": "5yThA9TqZdoY"
   },
   "outputs": [],
   "source": [
    "# ANSWER\n",
    "#categotrical variables\n",
    "df.drop(['sex','sport'],axis=1,inplace=True)"
   ]
  },
  {
   "cell_type": "code",
   "execution_count": null,
   "metadata": {},
   "outputs": [],
   "source": []
  },
  {
   "cell_type": "code",
   "execution_count": 51,
   "metadata": {},
   "outputs": [],
   "source": [
    "ss=StandardScaler()\n"
   ]
  },
  {
   "cell_type": "code",
   "execution_count": 53,
   "metadata": {},
   "outputs": [],
   "source": [
    "new_df = pd.DataFrame(StandardScaler().fit_transform(df), columns=df.columns, index=df.index)"
   ]
  },
  {
   "cell_type": "code",
   "execution_count": 56,
   "metadata": {},
   "outputs": [
    {
     "data": {
      "text/html": [
       "<div>\n",
       "<style scoped>\n",
       "    .dataframe tbody tr th:only-of-type {\n",
       "        vertical-align: middle;\n",
       "    }\n",
       "\n",
       "    .dataframe tbody tr th {\n",
       "        vertical-align: top;\n",
       "    }\n",
       "\n",
       "    .dataframe thead th {\n",
       "        text-align: right;\n",
       "    }\n",
       "</style>\n",
       "<table border=\"1\" class=\"dataframe\">\n",
       "  <thead>\n",
       "    <tr style=\"text-align: right;\">\n",
       "      <th></th>\n",
       "      <th>rcc</th>\n",
       "      <th>wcc</th>\n",
       "      <th>hc</th>\n",
       "      <th>hg</th>\n",
       "      <th>ferr</th>\n",
       "      <th>bmi</th>\n",
       "      <th>ssf</th>\n",
       "      <th>pcBfat</th>\n",
       "      <th>lbm</th>\n",
       "      <th>ht</th>\n",
       "      <th>wt</th>\n",
       "    </tr>\n",
       "  </thead>\n",
       "  <tbody>\n",
       "    <tr>\n",
       "      <th>count</th>\n",
       "      <td>2.020000e+02</td>\n",
       "      <td>2.020000e+02</td>\n",
       "      <td>2.020000e+02</td>\n",
       "      <td>2.020000e+02</td>\n",
       "      <td>2.020000e+02</td>\n",
       "      <td>2.020000e+02</td>\n",
       "      <td>2.020000e+02</td>\n",
       "      <td>2.020000e+02</td>\n",
       "      <td>2.020000e+02</td>\n",
       "      <td>2.020000e+02</td>\n",
       "      <td>2.020000e+02</td>\n",
       "    </tr>\n",
       "    <tr>\n",
       "      <th>mean</th>\n",
       "      <td>-2.462277e-16</td>\n",
       "      <td>4.938294e-16</td>\n",
       "      <td>-1.055261e-16</td>\n",
       "      <td>-3.050365e-16</td>\n",
       "      <td>-8.574000e-17</td>\n",
       "      <td>4.325473e-16</td>\n",
       "      <td>-3.517538e-17</td>\n",
       "      <td>-1.275108e-16</td>\n",
       "      <td>6.650346e-17</td>\n",
       "      <td>-6.034777e-16</td>\n",
       "      <td>3.024946e-16</td>\n",
       "    </tr>\n",
       "    <tr>\n",
       "      <th>std</th>\n",
       "      <td>1.002484e+00</td>\n",
       "      <td>1.002484e+00</td>\n",
       "      <td>1.002484e+00</td>\n",
       "      <td>1.002484e+00</td>\n",
       "      <td>1.002484e+00</td>\n",
       "      <td>1.002484e+00</td>\n",
       "      <td>1.002484e+00</td>\n",
       "      <td>1.002484e+00</td>\n",
       "      <td>1.002484e+00</td>\n",
       "      <td>1.002484e+00</td>\n",
       "      <td>1.002484e+00</td>\n",
       "    </tr>\n",
       "    <tr>\n",
       "      <th>min</th>\n",
       "      <td>-2.010794e+00</td>\n",
       "      <td>-2.120922e+00</td>\n",
       "      <td>-1.968188e+00</td>\n",
       "      <td>-2.182615e+00</td>\n",
       "      <td>-1.453591e+00</td>\n",
       "      <td>-2.172296e+00</td>\n",
       "      <td>-1.262806e+00</td>\n",
       "      <td>-1.275803e+00</td>\n",
       "      <td>-2.340403e+00</td>\n",
       "      <td>-3.213468e+00</td>\n",
       "      <td>-2.678623e+00</td>\n",
       "    </tr>\n",
       "    <tr>\n",
       "      <th>25%</th>\n",
       "      <td>-7.576238e-01</td>\n",
       "      <td>-6.731597e-01</td>\n",
       "      <td>-6.818951e-01</td>\n",
       "      <td>-7.846048e-01</td>\n",
       "      <td>-7.518699e-01</td>\n",
       "      <td>-6.557575e-01</td>\n",
       "      <td>-7.748829e-01</td>\n",
       "      <td>-8.036986e-01</td>\n",
       "      <td>-7.828168e-01</td>\n",
       "      <td>-6.286023e-01</td>\n",
       "      <td>-6.106912e-01</td>\n",
       "    </tr>\n",
       "    <tr>\n",
       "      <th>50%</th>\n",
       "      <td>7.964721e-02</td>\n",
       "      <td>-1.441697e-01</td>\n",
       "      <td>1.117750e-01</td>\n",
       "      <td>9.834879e-02</td>\n",
       "      <td>-2.400885e-01</td>\n",
       "      <td>-8.257078e-02</td>\n",
       "      <td>-3.208220e-01</td>\n",
       "      <td>-3.008228e-01</td>\n",
       "      <td>-1.410293e-01</td>\n",
       "      <td>-4.160093e-02</td>\n",
       "      <td>-4.376463e-02</td>\n",
       "    </tr>\n",
       "    <tr>\n",
       "      <th>75%</th>\n",
       "      <td>6.816067e-01</td>\n",
       "      <td>6.493152e-01</td>\n",
       "      <td>6.796596e-01</td>\n",
       "      <td>7.421691e-01</td>\n",
       "      <td>4.246996e-01</td>\n",
       "      <td>5.282450e-01</td>\n",
       "      <td>6.565634e-01</td>\n",
       "      <td>7.405595e-01</td>\n",
       "      <td>7.575115e-01</td>\n",
       "      <td>6.252120e-01</td>\n",
       "      <td>6.563447e-01</td>\n",
       "    </tr>\n",
       "    <tr>\n",
       "      <th>max</th>\n",
       "      <td>4.380922e+00</td>\n",
       "      <td>4.004225e+00</td>\n",
       "      <td>4.545380e+00</td>\n",
       "      <td>3.409425e+00</td>\n",
       "      <td>3.316001e+00</td>\n",
       "      <td>4.012870e+00</td>\n",
       "      <td>4.056633e+00</td>\n",
       "      <td>3.565086e+00</td>\n",
       "      <td>3.154387e+00</td>\n",
       "      <td>3.016985e+00</td>\n",
       "      <td>3.469380e+00</td>\n",
       "    </tr>\n",
       "  </tbody>\n",
       "</table>\n",
       "</div>"
      ],
      "text/plain": [
       "                rcc           wcc            hc            hg          ferr  \\\n",
       "count  2.020000e+02  2.020000e+02  2.020000e+02  2.020000e+02  2.020000e+02   \n",
       "mean  -2.462277e-16  4.938294e-16 -1.055261e-16 -3.050365e-16 -8.574000e-17   \n",
       "std    1.002484e+00  1.002484e+00  1.002484e+00  1.002484e+00  1.002484e+00   \n",
       "min   -2.010794e+00 -2.120922e+00 -1.968188e+00 -2.182615e+00 -1.453591e+00   \n",
       "25%   -7.576238e-01 -6.731597e-01 -6.818951e-01 -7.846048e-01 -7.518699e-01   \n",
       "50%    7.964721e-02 -1.441697e-01  1.117750e-01  9.834879e-02 -2.400885e-01   \n",
       "75%    6.816067e-01  6.493152e-01  6.796596e-01  7.421691e-01  4.246996e-01   \n",
       "max    4.380922e+00  4.004225e+00  4.545380e+00  3.409425e+00  3.316001e+00   \n",
       "\n",
       "                bmi           ssf        pcBfat           lbm            ht  \\\n",
       "count  2.020000e+02  2.020000e+02  2.020000e+02  2.020000e+02  2.020000e+02   \n",
       "mean   4.325473e-16 -3.517538e-17 -1.275108e-16  6.650346e-17 -6.034777e-16   \n",
       "std    1.002484e+00  1.002484e+00  1.002484e+00  1.002484e+00  1.002484e+00   \n",
       "min   -2.172296e+00 -1.262806e+00 -1.275803e+00 -2.340403e+00 -3.213468e+00   \n",
       "25%   -6.557575e-01 -7.748829e-01 -8.036986e-01 -7.828168e-01 -6.286023e-01   \n",
       "50%   -8.257078e-02 -3.208220e-01 -3.008228e-01 -1.410293e-01 -4.160093e-02   \n",
       "75%    5.282450e-01  6.565634e-01  7.405595e-01  7.575115e-01  6.252120e-01   \n",
       "max    4.012870e+00  4.056633e+00  3.565086e+00  3.154387e+00  3.016985e+00   \n",
       "\n",
       "                 wt  \n",
       "count  2.020000e+02  \n",
       "mean   3.024946e-16  \n",
       "std    1.002484e+00  \n",
       "min   -2.678623e+00  \n",
       "25%   -6.106912e-01  \n",
       "50%   -4.376463e-02  \n",
       "75%    6.563447e-01  \n",
       "max    3.469380e+00  "
      ]
     },
     "execution_count": 56,
     "metadata": {},
     "output_type": "execute_result"
    }
   ],
   "source": [
    "new_df.describe()"
   ]
  },
  {
   "cell_type": "markdown",
   "metadata": {
    "colab_type": "text",
    "id": "Y8jUYWkpZdoa"
   },
   "source": [
    "### 4. Clustering with K-Means\n",
    "\n",
    "- Cluster the data to our our target groups.\n",
    "    - Use sklearn.cluster.KMeans\n",
    "- We know that there are 2 actual classes. Lets try using 2, 4. Run the clustering algorithm with each of those k values."
   ]
  },
  {
   "cell_type": "code",
   "execution_count": 59,
   "metadata": {
    "colab": {},
    "colab_type": "code",
    "collapsed": true,
    "id": "nCosKVDJZdob"
   },
   "outputs": [
    {
     "data": {
      "text/plain": [
       "array([[5.12358816, 3.07858279],\n",
       "       [4.55970136, 2.26757466],\n",
       "       [5.74032802, 2.43723413],\n",
       "       [5.37275826, 2.59001712],\n",
       "       [4.09083719, 1.63179048],\n",
       "       [5.21127663, 1.99167846],\n",
       "       [4.15826141, 1.87214881],\n",
       "       [5.00984768, 1.38265462],\n",
       "       [4.16002156, 1.3152266 ],\n",
       "       [4.45483297, 2.02418901],\n",
       "       [5.54244126, 4.87466689],\n",
       "       [2.93170568, 2.31225653],\n",
       "       [5.04396855, 1.84671565],\n",
       "       [3.43644851, 2.01501729],\n",
       "       [3.38040407, 1.73540879],\n",
       "       [4.30997708, 1.24277905],\n",
       "       [5.56859046, 2.45445124],\n",
       "       [3.27877621, 1.74646459],\n",
       "       [3.44466813, 2.15541488],\n",
       "       [3.30231279, 2.02087548],\n",
       "       [3.76326957, 1.4444692 ],\n",
       "       [5.19561896, 2.91794147],\n",
       "       [3.61589153, 1.89757824],\n",
       "       [3.42526267, 2.53180787],\n",
       "       [3.075229  , 1.99415708],\n",
       "       [2.6821409 , 1.99606606],\n",
       "       [4.62931064, 2.16108909],\n",
       "       [4.00155751, 2.01676304],\n",
       "       [5.98038029, 2.65874426],\n",
       "       [3.94852994, 1.76276064],\n",
       "       [3.55648905, 2.2343001 ],\n",
       "       [3.62928099, 2.33649813],\n",
       "       [3.9135737 , 2.07713683],\n",
       "       [4.23333579, 2.23693678],\n",
       "       [3.07070934, 2.63258337],\n",
       "       [5.24582166, 4.12043289],\n",
       "       [5.74056165, 2.01053339],\n",
       "       [5.18656025, 1.60807689],\n",
       "       [5.51047315, 1.66138477],\n",
       "       [5.09506604, 2.18928874],\n",
       "       [5.33218   , 2.02112353],\n",
       "       [5.20047362, 2.13843781],\n",
       "       [6.42377883, 3.57240115],\n",
       "       [5.30055163, 1.98315194],\n",
       "       [4.87095464, 2.47104219],\n",
       "       [5.18373944, 2.85176467],\n",
       "       [5.17636791, 2.37526122],\n",
       "       [4.69382371, 2.13310672],\n",
       "       [5.93679802, 3.30415384],\n",
       "       [5.57517311, 2.2605172 ],\n",
       "       [5.8959912 , 3.8959731 ],\n",
       "       [4.67483992, 2.9495334 ],\n",
       "       [6.24636219, 4.30867672],\n",
       "       [3.44273767, 1.87635122],\n",
       "       [5.46874439, 3.26929201],\n",
       "       [7.44951841, 5.19622478],\n",
       "       [4.91142996, 1.68985128],\n",
       "       [5.012558  , 1.74439881],\n",
       "       [3.79298483, 1.28982991],\n",
       "       [4.86322103, 1.96476949],\n",
       "       [4.3102076 , 1.71649878],\n",
       "       [4.61418273, 2.05313823],\n",
       "       [2.96298865, 2.2371496 ],\n",
       "       [3.35213011, 1.72965724],\n",
       "       [3.81527468, 1.43913774],\n",
       "       [4.50581418, 2.53476739],\n",
       "       [4.67758267, 2.12837052],\n",
       "       [4.94644246, 2.49993927],\n",
       "       [3.17554294, 3.83709791],\n",
       "       [3.94619025, 4.10057858],\n",
       "       [3.29934046, 2.8355112 ],\n",
       "       [4.94863252, 3.616715  ],\n",
       "       [3.36852177, 2.72375045],\n",
       "       [3.35338342, 3.60952797],\n",
       "       [4.60302159, 5.05240796],\n",
       "       [6.09123052, 3.48508982],\n",
       "       [3.64862478, 2.22923202],\n",
       "       [4.67107847, 2.64314573],\n",
       "       [3.95605803, 1.27266574],\n",
       "       [5.3759662 , 2.71111141],\n",
       "       [3.64469081, 1.52903688],\n",
       "       [5.49970465, 2.84946339],\n",
       "       [5.29057967, 1.92802454],\n",
       "       [4.98262977, 2.39630499],\n",
       "       [3.64739118, 2.34165426],\n",
       "       [4.96769765, 2.29201691],\n",
       "       [3.48926711, 2.53312485],\n",
       "       [3.80061565, 3.17840909],\n",
       "       [3.51105803, 2.60355346],\n",
       "       [5.87069337, 2.90860256],\n",
       "       [4.21070998, 1.81502308],\n",
       "       [4.96856324, 1.80021679],\n",
       "       [5.42242188, 3.12752345],\n",
       "       [4.89376313, 3.56522897],\n",
       "       [3.82181383, 2.8549007 ],\n",
       "       [5.5355812 , 3.64029934],\n",
       "       [5.85902104, 3.29286833],\n",
       "       [6.12721766, 3.48761348],\n",
       "       [7.74360294, 4.84899797],\n",
       "       [5.96348158, 3.59743499],\n",
       "       [2.59085173, 3.5976176 ],\n",
       "       [1.45476729, 3.375399  ],\n",
       "       [1.97410588, 4.45694401],\n",
       "       [2.21406317, 4.67981347],\n",
       "       [1.28023582, 4.60074146],\n",
       "       [1.34360647, 3.34925946],\n",
       "       [1.84430411, 4.75015099],\n",
       "       [1.11596728, 4.02357124],\n",
       "       [2.02766456, 5.0248741 ],\n",
       "       [1.97530283, 4.56050573],\n",
       "       [2.69391081, 4.90774414],\n",
       "       [1.35099491, 4.20013143],\n",
       "       [3.86754573, 5.70673848],\n",
       "       [1.33765059, 4.17441713],\n",
       "       [1.35057226, 3.46066439],\n",
       "       [2.21974894, 3.7167132 ],\n",
       "       [2.14191632, 5.4275481 ],\n",
       "       [2.02229779, 4.21333816],\n",
       "       [1.08673422, 4.52230553],\n",
       "       [1.18151905, 4.89331047],\n",
       "       [4.03508296, 3.31401571],\n",
       "       [2.7920035 , 6.34340939],\n",
       "       [1.53510847, 4.60930719],\n",
       "       [1.36593065, 4.897958  ],\n",
       "       [2.15860123, 4.94222183],\n",
       "       [2.42596133, 4.96655973],\n",
       "       [1.42290404, 4.94142691],\n",
       "       [1.29565419, 3.92288467],\n",
       "       [2.17261224, 5.4869897 ],\n",
       "       [2.2071457 , 4.08460432],\n",
       "       [1.49207835, 4.98353308],\n",
       "       [0.81216997, 4.20509998],\n",
       "       [4.27465245, 7.05168122],\n",
       "       [2.97088488, 5.20480429],\n",
       "       [3.37889521, 4.96984947],\n",
       "       [1.64162104, 4.08958572],\n",
       "       [3.43551912, 4.11431923],\n",
       "       [1.56536119, 3.31780677],\n",
       "       [1.86954313, 3.71365286],\n",
       "       [2.99765925, 3.79653676],\n",
       "       [3.59415819, 2.96564039],\n",
       "       [2.81497747, 3.30154448],\n",
       "       [2.09790217, 3.61427063],\n",
       "       [2.12041861, 4.38394372],\n",
       "       [3.13704166, 5.62157938],\n",
       "       [2.30033099, 5.5546541 ],\n",
       "       [1.48380136, 3.97232705],\n",
       "       [2.62238908, 3.55295441],\n",
       "       [2.81944608, 3.65239217],\n",
       "       [2.38090539, 3.89780007],\n",
       "       [2.4556649 , 3.72102112],\n",
       "       [2.84038633, 3.51718676],\n",
       "       [4.18759973, 2.90043981],\n",
       "       [1.75438693, 4.15204891],\n",
       "       [3.97704691, 3.38288427],\n",
       "       [2.13355768, 3.75879011],\n",
       "       [2.61908887, 3.85827072],\n",
       "       [2.12825146, 4.29309659],\n",
       "       [1.38265076, 4.33111579],\n",
       "       [4.98687299, 8.28925107],\n",
       "       [2.66589802, 5.56426576],\n",
       "       [4.33138468, 6.12368786],\n",
       "       [5.49172993, 8.35685667],\n",
       "       [3.03044154, 5.07912576],\n",
       "       [1.78120894, 3.99696926],\n",
       "       [6.10426855, 8.80106593],\n",
       "       [2.35547447, 3.08526476],\n",
       "       [2.34631181, 4.27595493],\n",
       "       [2.97054456, 4.3009335 ],\n",
       "       [2.84841929, 3.11325664],\n",
       "       [2.92185869, 4.44502723],\n",
       "       [2.40015984, 3.12469777],\n",
       "       [2.17888583, 4.16230878],\n",
       "       [3.91213185, 6.10840557],\n",
       "       [3.417957  , 4.57371028],\n",
       "       [2.39131916, 5.74917347],\n",
       "       [2.80240008, 6.05011616],\n",
       "       [4.71037911, 6.65973515],\n",
       "       [4.05485789, 6.10909199],\n",
       "       [1.44387169, 3.98049848],\n",
       "       [3.88466646, 6.38318704],\n",
       "       [3.01994479, 4.09961283],\n",
       "       [3.50934184, 5.10362178],\n",
       "       [2.8915151 , 4.25805089],\n",
       "       [2.66403314, 4.63452738],\n",
       "       [3.55156608, 5.67199443],\n",
       "       [3.37620233, 5.68797725],\n",
       "       [1.55892601, 2.9844144 ],\n",
       "       [1.94991436, 5.30612023],\n",
       "       [1.78625029, 3.68401679],\n",
       "       [1.44137884, 4.63100841],\n",
       "       [2.40174649, 5.3927789 ],\n",
       "       [1.85568515, 3.63801433],\n",
       "       [4.14774775, 5.84429592],\n",
       "       [2.77049511, 5.65778643],\n",
       "       [2.80332748, 6.02541079],\n",
       "       [1.5686712 , 3.55080582],\n",
       "       [1.65658572, 4.64590204],\n",
       "       [2.78447185, 5.60337268],\n",
       "       [1.90222894, 3.18325685],\n",
       "       [3.55245748, 4.49310253],\n",
       "       [2.25677683, 4.56218442]])"
      ]
     },
     "execution_count": 59,
     "metadata": {},
     "output_type": "execute_result"
    }
   ],
   "source": [
    "# ANSWER\n",
    "\n",
    "Km2 = KMeans(n_clusters=2,random_state=42)\n",
    "\n",
    "Km2.fit_transform(df_ss)\n"
   ]
  },
  {
   "cell_type": "code",
   "execution_count": 60,
   "metadata": {
    "collapsed": true
   },
   "outputs": [
    {
     "data": {
      "text/plain": [
       "array([[4.24379444, 5.24841659, 2.51220226, 5.34126141],\n",
       "       [3.48402649, 4.81688487, 1.80515263, 4.6943901 ],\n",
       "       [3.43985134, 6.19118115, 2.25026577, 5.62473621],\n",
       "       [3.95790251, 5.60698657, 1.76067533, 5.49356474],\n",
       "       [2.08860056, 4.89106651, 2.31378015, 3.67107247],\n",
       "       [2.35002566, 5.90569099, 2.59679452, 4.86055817],\n",
       "       [3.01790951, 4.56816263, 1.6479757 , 4.1858137 ],\n",
       "       [2.30586032, 5.68277245, 1.76234573, 4.69873251],\n",
       "       [2.0508566 , 4.74400177, 1.9175096 , 3.9967539 ],\n",
       "       [1.97998945, 5.34398068, 2.88867911, 3.9053147 ],\n",
       "       [6.32144417, 5.24162343, 3.71247265, 6.1105476 ],\n",
       "       [3.01440484, 3.57303819, 2.4843571 , 2.83346218],\n",
       "       [2.86277355, 5.59200513, 1.8466464 , 4.86607562],\n",
       "       [3.23195623, 3.6843448 , 1.5794199 , 3.70038409],\n",
       "       [2.62327332, 4.06755793, 1.91648727, 3.18732722],\n",
       "       [2.55483677, 4.86198236, 1.16424092, 4.17573255],\n",
       "       [3.89576868, 5.78323098, 1.52256316, 5.69467396],\n",
       "       [2.22144795, 4.03657136, 2.34095424, 2.99515507],\n",
       "       [3.4860767 , 3.60308078, 1.47887278, 3.77891225],\n",
       "       [2.99853545, 3.8449829 , 1.94955749, 3.28773602],\n",
       "       [2.51255787, 4.28113354, 1.57152034, 3.71544115],\n",
       "       [3.64862353, 5.60440417, 2.89683425, 5.15373604],\n",
       "       [2.67443821, 4.05120369, 2.12102054, 3.67007354],\n",
       "       [2.87727505, 4.29892435, 2.96852615, 2.97654232],\n",
       "       [3.03043958, 3.43586303, 1.8479803 , 3.27882766],\n",
       "       [2.23017257, 3.48670013, 2.65282598, 2.44654383],\n",
       "       [3.65520032, 4.84235703, 1.11148554, 4.81607312],\n",
       "       [3.38869475, 4.25136058, 1.28080943, 4.20784485],\n",
       "       [2.25082367, 6.7766378 , 3.59072229, 5.48216199],\n",
       "       [2.7616844 , 4.52710451, 1.79207337, 3.82200538],\n",
       "       [2.75316508, 4.35073029, 2.59924636, 3.20655213],\n",
       "       [3.12259811, 4.02162247, 2.41833912, 3.7045151 ],\n",
       "       [3.48035461, 4.17940248, 1.26155755, 4.10923601],\n",
       "       [3.7222011 , 4.43408725, 1.18473626, 4.46054829],\n",
       "       [3.53058695, 3.55362988, 2.48753013, 3.13042482],\n",
       "       [3.86121218, 5.87613767, 4.7941826 , 4.91778921],\n",
       "       [3.08560476, 6.24014356, 1.86366655, 5.58278307],\n",
       "       [2.60196776, 5.69962847, 1.78706069, 5.02908517],\n",
       "       [2.40908186, 6.14576467, 2.08020993, 5.21202289],\n",
       "       [3.57427706, 5.37431143, 1.41487817, 5.18968624],\n",
       "       [2.87655198, 5.84529903, 2.16356916, 5.16678012],\n",
       "       [3.16025122, 5.62710964, 1.98284312, 5.14828134],\n",
       "       [4.94028014, 6.46170489, 2.60432219, 6.68671745],\n",
       "       [2.99031253, 5.72538424, 1.92164621, 5.2406541 ],\n",
       "       [3.64411371, 5.14571095, 1.9997119 , 4.97795592],\n",
       "       [4.09277897, 5.23399915, 2.19754279, 5.47282114],\n",
       "       [2.88331567, 5.68061575, 2.73469061, 5.02635513],\n",
       "       [2.96674096, 4.98306885, 2.21538532, 4.79780636],\n",
       "       [4.67865   , 5.99896579, 2.37000032, 6.18572676],\n",
       "       [1.8998672 , 6.48803957, 3.24733197, 4.95121888],\n",
       "       [5.12878831, 5.80338392, 3.09720213, 6.285462  ],\n",
       "       [4.07497853, 4.70833021, 2.42621272, 5.01286524],\n",
       "       [5.6949384 , 6.11260661, 3.25844852, 6.6606576 ],\n",
       "       [2.1059748 , 4.24320229, 2.61437035, 3.07538814],\n",
       "       [4.84100214, 5.38389716, 1.93995817, 5.87193886],\n",
       "       [6.6966472 , 7.25915617, 3.97125385, 7.87325626],\n",
       "       [2.08139329, 5.58893279, 2.40250078, 4.58538028],\n",
       "       [2.95443237, 5.3531807 , 1.50183054, 5.04779966],\n",
       "       [1.46748188, 4.59389124, 2.27510418, 3.4243973 ],\n",
       "       [1.37178005, 5.75566471, 3.11287973, 4.28513505],\n",
       "       [2.73095267, 4.7791709 , 1.74880129, 4.27008314],\n",
       "       [3.28556025, 4.86176383, 1.62251468, 4.76165765],\n",
       "       [2.27890719, 3.7255548 , 2.96893892, 2.71427454],\n",
       "       [1.89100039, 4.22558006, 2.55558059, 2.91056713],\n",
       "       [1.22012459, 4.72653542, 2.56497533, 3.28983913],\n",
       "       [1.58212806, 5.51742717, 3.70784513, 3.79985385],\n",
       "       [1.92562214, 5.36289852, 3.02841482, 4.37327395],\n",
       "       [2.05395255, 5.70924403, 3.48389582, 4.51172032],\n",
       "       [3.49237565, 4.17589687, 4.5654653 , 2.53601012],\n",
       "       [5.1138707 , 3.642411  , 3.51856086, 4.62472379],\n",
       "       [3.77880106, 3.56637645, 2.54906033, 3.56617513],\n",
       "       [4.97509881, 4.79041795, 2.64327189, 5.4357264 ],\n",
       "       [3.88772313, 3.46667678, 2.16334836, 3.77221383],\n",
       "       [4.1929174 , 3.70559487, 3.59924982, 3.51273256],\n",
       "       [6.18600245, 4.06114779, 4.26624197, 5.39966973],\n",
       "       [2.46625483, 7.06896168, 4.6537705 , 5.3447098 ],\n",
       "       [1.50506578, 4.68825941, 3.37392192, 2.9265445 ],\n",
       "       [1.53308305, 5.71653096, 3.87290292, 3.9019081 ],\n",
       "       [1.48469918, 4.78810833, 2.26046552, 3.52845608],\n",
       "       [1.56068483, 6.32915399, 3.95894595, 4.69940169],\n",
       "       [1.66685304, 4.52859218, 2.44773284, 3.16656451],\n",
       "       [1.61145308, 6.49484466, 4.12269931, 4.76322964],\n",
       "       [1.57490495, 6.11388509, 2.99032074, 4.78012281],\n",
       "       [1.9071315 , 5.85634059, 3.42487625, 4.41325945],\n",
       "       [1.58426615, 4.66251942, 3.46121789, 2.9838451 ],\n",
       "       [1.16769693, 5.98724202, 3.5725549 , 4.21488864],\n",
       "       [1.58250465, 4.66228285, 3.71770642, 2.5668419 ],\n",
       "       [2.29429106, 4.95119917, 4.27400135, 2.8959784 ],\n",
       "       [1.7277263 , 4.65031525, 3.74963014, 2.64597113],\n",
       "       [3.93185527, 6.18702232, 2.54062203, 5.89579512],\n",
       "       [2.73186033, 4.81389569, 1.9156934 , 4.03953184],\n",
       "       [1.74498553, 5.70730042, 2.72786507, 4.58397673],\n",
       "       [3.21692572, 5.92820802, 3.63564515, 5.26955825],\n",
       "       [2.32016435, 6.0956557 , 4.79835491, 3.88709416],\n",
       "       [2.11680326, 4.93713783, 3.91032652, 2.98482126],\n",
       "       [2.28023336, 6.61416211, 4.91501114, 4.69335095],\n",
       "       [2.25667315, 6.76373542, 4.46331322, 5.22034705],\n",
       "       [2.35295314, 7.22474949, 4.68887217, 5.24997441],\n",
       "       [3.82736534, 8.73352375, 5.94293389, 6.96952374],\n",
       "       [2.63010594, 6.9693818 , 4.70460774, 5.21067024],\n",
       "       [3.10062512, 3.80069137, 4.43519934, 1.65898631],\n",
       "       [3.19761007, 2.50372507, 4.01904911, 1.22850204],\n",
       "       [4.27287971, 3.00575983, 4.99781949, 1.5113048 ],\n",
       "       [4.89515572, 2.71227196, 4.88541079, 2.40446019],\n",
       "       [4.62162244, 2.06360089, 4.97446566, 1.50692148],\n",
       "       [3.41797314, 2.4020829 , 3.82704326, 1.15262717],\n",
       "       [4.69834006, 2.57238476, 5.15393405, 1.91198323],\n",
       "       [4.29798654, 1.31092443, 4.2367879 , 1.99461787],\n",
       "       [5.14711345, 2.67183366, 5.28851667, 2.07925836],\n",
       "       [5.06155495, 1.81916277, 4.49950346, 2.78603789],\n",
       "       [4.66442126, 3.5177651 , 5.44804542, 2.40276207],\n",
       "       [4.27063799, 2.07444542, 4.56814377, 1.63361769],\n",
       "       [6.06789595, 3.54936292, 5.69543308, 4.52317748],\n",
       "       [4.45071757, 1.44092788, 4.37007269, 2.16434715],\n",
       "       [3.97036216, 1.71561303, 3.53415889, 2.01276943],\n",
       "       [4.04398536, 2.52825984, 3.92140531, 2.61903963],\n",
       "       [5.63981424, 2.06584153, 5.57389525, 2.81992333],\n",
       "       [4.64815519, 1.67441125, 4.25723893, 2.91885959],\n",
       "       [4.77714691, 1.38545906, 4.70079163, 1.90699158],\n",
       "       [5.06305352, 1.4339141 , 5.11415059, 1.96613442],\n",
       "       [2.33367831, 5.20552489, 4.43139534, 3.10871511],\n",
       "       [6.44066114, 2.68274097, 6.52379471, 3.38975386],\n",
       "       [5.01281129, 1.61981561, 4.64425293, 2.30348117],\n",
       "       [5.06754193, 1.73382146, 5.12664978, 1.95523614],\n",
       "       [5.39489901, 1.46097621, 4.90547883, 3.18447704],\n",
       "       [5.44291968, 2.27647835, 4.91132924, 3.11178328],\n",
       "       [5.11367962, 1.81609931, 5.1576626 , 1.98305998],\n",
       "       [4.51772908, 1.05836428, 3.84920738, 2.32716245],\n",
       "       [5.68319956, 2.33055057, 5.65574722, 2.64513856],\n",
       "       [4.05498615, 2.96524424, 4.55150224, 2.09177071],\n",
       "       [5.23354888, 1.6727694 , 5.12686977, 2.19410839],\n",
       "       [4.47486747, 1.42124991, 4.40463498, 1.59517892],\n",
       "       [7.79235993, 3.49818328, 6.63277883, 5.17732198],\n",
       "       [5.70755188, 2.68174221, 5.120989  , 3.65398058],\n",
       "       [5.7126254 , 2.73203453, 4.66140307, 4.26564072],\n",
       "       [4.05716679, 2.51903543, 4.56238341, 1.53670569],\n",
       "       [4.74166243, 3.28604397, 4.0141896 , 3.98646737],\n",
       "       [3.31695785, 2.56524499, 3.86046634, 1.32822611],\n",
       "       [3.99926487, 2.52175081, 3.97461047, 1.99157155],\n",
       "       [3.7171849 , 3.85256767, 4.35577312, 2.57280715],\n",
       "       [1.93827394, 4.67740861, 4.12045587, 2.83106125],\n",
       "       [2.89008751, 3.83037486, 4.13527417, 2.18790728],\n",
       "       [3.21834113, 3.29828629, 4.39370106, 1.22284258],\n",
       "       [4.29421375, 3.10646563, 4.87499619, 1.66179152],\n",
       "       [6.33104693, 2.3405602 , 5.28904252, 4.12795461],\n",
       "       [5.99225107, 1.63691513, 5.48641193, 3.29005172],\n",
       "       [3.83267502, 2.59566289, 4.53038727, 1.05488227],\n",
       "       [2.91359817, 3.8856113 , 4.47724798, 1.56916866],\n",
       "       [3.26410055, 3.79925307, 4.41211398, 2.28045898],\n",
       "       [3.60847775, 3.44986756, 4.56283908, 1.77293762],\n",
       "       [3.1703169 , 3.54929104, 4.58150664, 1.75171133],\n",
       "       [2.64508886, 4.11388361, 4.56917661, 1.74804032],\n",
       "       [1.97567273, 5.2355068 , 4.03379662, 3.43170154],\n",
       "       [3.95511692, 2.79979485, 4.73490364, 1.32759881],\n",
       "       [2.3142292 , 5.02748866, 4.53028896, 3.23236052],\n",
       "       [3.26647399, 3.30918989, 4.5651867 , 1.36591693],\n",
       "       [3.38806703, 3.78563554, 4.64646899, 1.78765981],\n",
       "       [4.17228539, 2.96780818, 4.79356247, 1.9529663 ],\n",
       "       [4.41219495, 1.99865418, 4.68615627, 1.73871502],\n",
       "       [8.68829821, 4.37089083, 8.12995494, 5.77490361],\n",
       "       [5.42328737, 3.45869229, 6.00345929, 2.36324963],\n",
       "       [6.94766051, 3.48672665, 5.62537421, 5.32625148],\n",
       "       [9.09030575, 4.51768099, 7.88373516, 6.50851909],\n",
       "       [4.78091811, 3.54408641, 5.64979044, 3.04356707],\n",
       "       [4.15579639, 1.99187142, 4.3141572 , 2.36748775],\n",
       "       [8.54956058, 6.56412901, 9.2008191 , 5.89918395],\n",
       "       [2.59168924, 3.50308551, 3.98003718, 1.58399888],\n",
       "       [3.77293634, 3.55077206, 5.05412184, 1.43675429],\n",
       "       [3.81045414, 4.12512845, 5.06904999, 2.11172104],\n",
       "       [2.52136311, 3.96681239, 4.0494433 , 2.09041925],\n",
       "       [4.03540557, 3.72958478, 5.13075461, 2.62942836],\n",
       "       [2.72203048, 3.47960427, 3.96212468, 1.75358676],\n",
       "       [3.83860981, 3.39319617, 4.82910414, 1.28907887],\n",
       "       [5.77778278, 4.44223122, 6.6428    , 3.80413345],\n",
       "       [3.92715007, 4.35845783, 5.41438476, 2.86259493],\n",
       "       [6.04080506, 2.39804902, 5.80906289, 2.95367028],\n",
       "       [6.32740988, 2.18111585, 6.09784424, 3.71318488],\n",
       "       [7.5810784 , 3.67953075, 6.04003428, 5.79955289],\n",
       "       [6.84529358, 3.18763753, 5.70194129, 5.0697523 ],\n",
       "       [3.89894267, 2.39619798, 4.48764742, 1.3665529 ],\n",
       "       [6.1572124 , 4.39807454, 6.84576797, 3.75735687],\n",
       "       [5.14741055, 2.30165833, 3.50042554, 4.00080858],\n",
       "       [5.16240591, 3.57215119, 5.39432626, 3.9007797 ],\n",
       "       [5.26683411, 2.53191838, 3.70683552, 3.66231876],\n",
       "       [5.28063359, 2.4442705 , 4.4373995 , 3.37510708],\n",
       "       [5.7738278 , 3.55386631, 5.90904779, 3.9525313 ],\n",
       "       [6.02651183, 3.1590719 , 5.71732228, 3.96893743],\n",
       "       [2.92469884, 2.68373603, 3.60640084, 1.13643599],\n",
       "       [5.64347083, 1.40450806, 5.35448217, 2.91750705],\n",
       "       [4.37081863, 1.75089612, 3.553229  , 2.55776411],\n",
       "       [4.83880104, 2.02175081, 4.85271469, 1.80423814],\n",
       "       [6.09982673, 1.17599248, 5.07081766, 3.60511592],\n",
       "       [3.45051024, 3.03644053, 4.27255823, 1.10687198],\n",
       "       [6.13839041, 3.77981642, 5.90609846, 4.79235106],\n",
       "       [6.00390635, 2.40973353, 5.65814537, 3.55735959],\n",
       "       [6.44504108, 2.4060675 , 5.93612186, 3.60775718],\n",
       "       [3.6164552 , 2.42754471, 4.00325769, 1.56807534],\n",
       "       [5.19440065, 1.01969585, 4.53609166, 2.74727898],\n",
       "       [5.58250661, 3.38779222, 5.94361571, 2.70433028],\n",
       "       [3.07758721, 2.84625639, 3.80645193, 1.65616273],\n",
       "       [4.49391316, 3.86443567, 4.87897538, 3.72499273],\n",
       "       [4.33020964, 3.31662805, 5.14383258, 1.62228189]])"
      ]
     },
     "execution_count": 60,
     "metadata": {},
     "output_type": "execute_result"
    }
   ],
   "source": [
    "Km4 = KMeans(n_clusters=4,random_state=42)\n",
    "\n",
    "Km4.fit_transform(df_ss)\n"
   ]
  },
  {
   "cell_type": "code",
   "execution_count": 62,
   "metadata": {
    "scrolled": true
   },
   "outputs": [
    {
     "data": {
      "text/plain": [
       "array([[ 0.70714441,  0.11404723,  0.72326046,  0.74397249,  0.4015262 ,\n",
       "         0.42254737, -0.4658378 , -0.61749595,  0.78290521,  0.57003551,\n",
       "         0.60358679],\n",
       "       [-0.72128729, -0.11632817, -0.73772567, -0.75885194, -0.40955673,\n",
       "        -0.43099832,  0.47515455,  0.62984587, -0.79856332, -0.58143622,\n",
       "        -0.61565853]])"
      ]
     },
     "execution_count": 62,
     "metadata": {},
     "output_type": "execute_result"
    }
   ],
   "source": [
    "Km2.cluster_centers_"
   ]
  },
  {
   "cell_type": "code",
   "execution_count": 63,
   "metadata": {},
   "outputs": [
    {
     "data": {
      "text/plain": [
       "array([[-0.54991204, -0.21074743, -0.51471271, -0.59105878, -0.38001976,\n",
       "        -1.02173718, -0.40306825, -0.16256092, -1.08378937, -1.04456283,\n",
       "        -1.2183081 ],\n",
       "       [ 0.58857662,  0.469505  ,  0.6483005 ,  0.69771482,  0.74390348,\n",
       "         1.06496953, -0.13425937, -0.33358526,  1.32633806,  0.9468184 ,\n",
       "         1.28911268],\n",
       "       [-0.8570217 , -0.04849597, -0.91576651, -0.88360258, -0.39338309,\n",
       "         0.10664052,  1.22374084,  1.30408091, -0.53993222, -0.19307911,\n",
       "        -0.0840794 ],\n",
       "       [ 0.83359376, -0.19197321,  0.80991546,  0.79804782,  0.0643323 ,\n",
       "        -0.18837463, -0.79849352, -0.91008594,  0.29974257,  0.24947091,\n",
       "        -0.02284658]])"
      ]
     },
     "execution_count": 63,
     "metadata": {},
     "output_type": "execute_result"
    }
   ],
   "source": [
    "Km4.cluster_centers_"
   ]
  },
  {
   "cell_type": "markdown",
   "metadata": {
    "colab_type": "text",
    "id": "jAI-4X61Zdod"
   },
   "source": [
    "### 5. Get the labels for the models"
   ]
  },
  {
   "cell_type": "code",
   "execution_count": 64,
   "metadata": {
    "colab": {},
    "colab_type": "code",
    "id": "5LeJLcCxZdoe",
    "scrolled": false
   },
   "outputs": [
    {
     "data": {
      "text/plain": [
       "array([1, 1, 1, 1, 1, 1, 1, 1, 1, 1, 1, 1, 1, 1, 1, 1, 1, 1, 1, 1, 1, 1,\n",
       "       1, 1, 1, 1, 1, 1, 1, 1, 1, 1, 1, 1, 1, 1, 1, 1, 1, 1, 1, 1, 1, 1,\n",
       "       1, 1, 1, 1, 1, 1, 1, 1, 1, 1, 1, 1, 1, 1, 1, 1, 1, 1, 1, 1, 1, 1,\n",
       "       1, 1, 0, 0, 1, 1, 1, 0, 0, 1, 1, 1, 1, 1, 1, 1, 1, 1, 1, 1, 1, 1,\n",
       "       1, 1, 1, 1, 1, 1, 1, 1, 1, 1, 1, 1, 0, 0, 0, 0, 0, 0, 0, 0, 0, 0,\n",
       "       0, 0, 0, 0, 0, 0, 0, 0, 0, 0, 1, 0, 0, 0, 0, 0, 0, 0, 0, 0, 0, 0,\n",
       "       0, 0, 0, 0, 0, 0, 0, 0, 1, 0, 0, 0, 0, 0, 0, 0, 0, 0, 0, 0, 1, 0,\n",
       "       1, 0, 0, 0, 0, 0, 0, 0, 0, 0, 0, 0, 0, 0, 0, 0, 0, 0, 0, 0, 0, 0,\n",
       "       0, 0, 0, 0, 0, 0, 0, 0, 0, 0, 0, 0, 0, 0, 0, 0, 0, 0, 0, 0, 0, 0,\n",
       "       0, 0, 0, 0])"
      ]
     },
     "execution_count": 64,
     "metadata": {},
     "output_type": "execute_result"
    }
   ],
   "source": [
    "# ANSWER\n",
    "Km2.labels_"
   ]
  },
  {
   "cell_type": "code",
   "execution_count": 66,
   "metadata": {},
   "outputs": [
    {
     "data": {
      "text/plain": [
       "array([2, 2, 2, 2, 0, 0, 2, 2, 2, 0, 2, 2, 2, 2, 2, 2, 2, 0, 2, 2, 2, 2,\n",
       "       2, 0, 2, 0, 2, 2, 0, 2, 2, 2, 2, 2, 2, 0, 2, 2, 2, 2, 2, 2, 2, 2,\n",
       "       2, 2, 2, 2, 2, 0, 2, 2, 2, 0, 2, 2, 0, 2, 0, 0, 2, 2, 0, 0, 0, 0,\n",
       "       0, 0, 3, 2, 2, 2, 2, 3, 1, 0, 0, 0, 0, 0, 0, 0, 0, 0, 0, 0, 0, 0,\n",
       "       0, 2, 2, 0, 0, 0, 0, 0, 0, 0, 0, 0, 3, 3, 3, 3, 3, 3, 3, 1, 3, 1,\n",
       "       3, 3, 1, 1, 1, 1, 1, 1, 1, 1, 0, 1, 1, 1, 1, 1, 1, 1, 1, 3, 1, 1,\n",
       "       1, 1, 1, 3, 1, 3, 3, 3, 0, 3, 3, 3, 1, 1, 3, 3, 3, 3, 3, 3, 0, 3,\n",
       "       0, 3, 3, 3, 3, 1, 3, 1, 1, 3, 1, 3, 3, 3, 3, 3, 3, 3, 3, 3, 3, 1,\n",
       "       1, 1, 1, 3, 3, 1, 1, 1, 1, 1, 1, 3, 1, 1, 3, 1, 3, 1, 1, 1, 3, 1,\n",
       "       3, 3, 3, 3])"
      ]
     },
     "execution_count": 66,
     "metadata": {},
     "output_type": "execute_result"
    }
   ],
   "source": [
    "Km4.labels_"
   ]
  },
  {
   "cell_type": "code",
   "execution_count": 65,
   "metadata": {},
   "outputs": [
    {
     "data": {
      "text/plain": [
       "array([1, 1, 1, 1, 1, 1, 1, 1, 1, 1, 1, 1, 1, 1, 1, 1, 1, 1, 1, 1, 1, 1,\n",
       "       1, 1, 1, 1, 1, 1, 1, 1, 1, 1, 1, 1, 1, 1, 1, 1, 1, 1, 1, 1, 1, 1,\n",
       "       1, 1, 1, 1, 1, 1, 1, 1, 1, 1, 1, 1, 1, 1, 1, 1, 1, 1, 1, 1, 1, 1,\n",
       "       1, 1, 0, 0, 1, 1, 1, 0, 0, 1, 1, 1, 1, 1, 1, 1, 1, 1, 1, 1, 1, 1,\n",
       "       1, 1, 1, 1, 1, 1, 1, 1, 1, 1, 1, 1, 0, 0, 0, 0, 0, 0, 0, 0, 0, 0,\n",
       "       0, 0, 0, 0, 0, 0, 0, 0, 0, 0, 1, 0, 0, 0, 0, 0, 0, 0, 0, 0, 0, 0,\n",
       "       0, 0, 0, 0, 0, 0, 0, 0, 1, 0, 0, 0, 0, 0, 0, 0, 0, 0, 0, 0, 1, 0,\n",
       "       1, 0, 0, 0, 0, 0, 0, 0, 0, 0, 0, 0, 0, 0, 0, 0, 0, 0, 0, 0, 0, 0,\n",
       "       0, 0, 0, 0, 0, 0, 0, 0, 0, 0, 0, 0, 0, 0, 0, 0, 0, 0, 0, 0, 0, 0,\n",
       "       0, 0, 0, 0])"
      ]
     },
     "execution_count": 65,
     "metadata": {},
     "output_type": "execute_result"
    }
   ],
   "source": [
    "#use for new data\n",
    "Km2.predict(df_ss)"
   ]
  },
  {
   "cell_type": "code",
   "execution_count": 67,
   "metadata": {},
   "outputs": [
    {
     "data": {
      "text/plain": [
       "array([2, 2, 2, 2, 0, 0, 2, 2, 2, 0, 2, 2, 2, 2, 2, 2, 2, 0, 2, 2, 2, 2,\n",
       "       2, 0, 2, 0, 2, 2, 0, 2, 2, 2, 2, 2, 2, 0, 2, 2, 2, 2, 2, 2, 2, 2,\n",
       "       2, 2, 2, 2, 2, 0, 2, 2, 2, 0, 2, 2, 0, 2, 0, 0, 2, 2, 0, 0, 0, 0,\n",
       "       0, 0, 3, 2, 2, 2, 2, 3, 1, 0, 0, 0, 0, 0, 0, 0, 0, 0, 0, 0, 0, 0,\n",
       "       0, 2, 2, 0, 0, 0, 0, 0, 0, 0, 0, 0, 3, 3, 3, 3, 3, 3, 3, 1, 3, 1,\n",
       "       3, 3, 1, 1, 1, 1, 1, 1, 1, 1, 0, 1, 1, 1, 1, 1, 1, 1, 1, 3, 1, 1,\n",
       "       1, 1, 1, 3, 1, 3, 3, 3, 0, 3, 3, 3, 1, 1, 3, 3, 3, 3, 3, 3, 0, 3,\n",
       "       0, 3, 3, 3, 3, 1, 3, 1, 1, 3, 1, 3, 3, 3, 3, 3, 3, 3, 3, 3, 3, 1,\n",
       "       1, 1, 1, 3, 3, 1, 1, 1, 1, 1, 1, 3, 1, 1, 3, 1, 3, 1, 1, 1, 3, 1,\n",
       "       3, 3, 3, 3])"
      ]
     },
     "execution_count": 67,
     "metadata": {},
     "output_type": "execute_result"
    }
   ],
   "source": [
    "Km4.predict(df_ss)"
   ]
  },
  {
   "cell_type": "markdown",
   "metadata": {
    "colab_type": "text",
    "id": "ichQ8nF_Zdog"
   },
   "source": [
    "### 6. Elbow Method For Optimal k\n",
    "\n",
    "For each k value, we will initialise k-means and use the inertia attribute to identify the sum of squared distances of samples to the nearest cluster centre. As k increases, the sum of squared distance tends to zero. "
   ]
  },
  {
   "cell_type": "code",
   "execution_count": 70,
   "metadata": {
    "colab": {},
    "colab_type": "code",
    "id": "g77PHUcgZdoh"
   },
   "outputs": [
    {
     "name": "stderr",
     "output_type": "stream",
     "text": [
      "C:\\Users\\YC\\anaconda3\\lib\\site-packages\\sklearn\\cluster\\_kmeans.py:881: UserWarning: KMeans is known to have a memory leak on Windows with MKL, when there are less chunks than available threads. You can avoid it by setting the environment variable OMP_NUM_THREADS=1.\n",
      "  warnings.warn(\n"
     ]
    }
   ],
   "source": [
    "# ANSWER\n",
    "inertia=[]\n",
    "for k in range(1,10):\n",
    "    kmean=KMeans(n_clusters=k)\n",
    "    kmean.fit(df_ss)\n",
    "    inertia.append(kmean.inertia_)"
   ]
  },
  {
   "cell_type": "markdown",
   "metadata": {
    "colab_type": "text",
    "id": "rgTQLaSNZdoj"
   },
   "source": [
    "Below is a plot of sum of squared distances for k in the range specified above. If the plot looks like an arm, then the elbow on the arm is optimal k."
   ]
  },
  {
   "cell_type": "code",
   "execution_count": 72,
   "metadata": {
    "colab": {},
    "colab_type": "code",
    "id": "pbJ_EZRGZdok"
   },
   "outputs": [
    {
     "data": {
      "text/plain": [
       "Text(0.5, 0, 'k')"
      ]
     },
     "execution_count": 72,
     "metadata": {},
     "output_type": "execute_result"
    },
    {
     "data": {
      "image/png": "[encoded data removed]",
      "text/plain": [
       "<Figure size 432x288 with 1 Axes>"
      ]
     },
     "metadata": {
      "needs_background": "light"
     },
     "output_type": "display_data"
    }
   ],
   "source": [
    "# ANSWER\n",
    "k=range(1,10)\n",
    "plt.plot(k,inertia)\n",
    "plt.xlabel('k')"
   ]
  },
  {
   "cell_type": "markdown",
   "metadata": {
    "colab_type": "text",
    "id": "nCs5g-pLZdom"
   },
   "source": [
    "### 7. Plot `pcBfat` vs. `wt` using the clusters from each model.\n",
    "\n",
    "- Plot actual classification of pcBfat vs wt using hue sex\n",
    "- Plot predicted classification of pcBfat vs wt using hue label"
   ]
  },
  {
   "cell_type": "code",
   "execution_count": 77,
   "metadata": {
    "colab": {},
    "colab_type": "code",
    "id": "qNDCuP1bZdon"
   },
   "outputs": [
    {
     "data": {
      "text/plain": [
       "<AxesSubplot:xlabel='pcBfat', ylabel='wt'>"
      ]
     },
     "execution_count": 77,
     "metadata": {},
     "output_type": "execute_result"
    },
    {
     "data": {
      "image/png": "[encoded data removed]",
      "text/plain": [
       "<Figure size 432x288 with 1 Axes>"
      ]
     },
     "metadata": {
      "needs_background": "light"
     },
     "output_type": "display_data"
    }
   ],
   "source": [
    "# ANSWER\n",
    "\n",
    "sns.scatterplot(data=df,x='pcBfat',y='wt',hue='sex')"
   ]
  },
  {
   "cell_type": "code",
   "execution_count": 78,
   "metadata": {},
   "outputs": [],
   "source": [
    "df['label']=Km2.predict(df_ss)"
   ]
  },
  {
   "cell_type": "code",
   "execution_count": 79,
   "metadata": {},
   "outputs": [
    {
     "data": {
      "text/plain": [
       "<AxesSubplot:xlabel='pcBfat', ylabel='wt'>"
      ]
     },
     "execution_count": 79,
     "metadata": {},
     "output_type": "execute_result"
    },
    {
     "data": {
      "image/png": "[encoded data removed]",
      "text/plain": [
       "<Figure size 432x288 with 1 Axes>"
      ]
     },
     "metadata": {
      "needs_background": "light"
     },
     "output_type": "display_data"
    }
   ],
   "source": [
    "sns.scatterplot(data=df,x='pcBfat',y='wt',hue='label')"
   ]
  },
  {
   "cell_type": "code",
   "execution_count": 80,
   "metadata": {},
   "outputs": [
    {
     "data": {
      "text/plain": [
       "<AxesSubplot:xlabel='pcBfat', ylabel='wt'>"
      ]
     },
     "execution_count": 80,
     "metadata": {},
     "output_type": "execute_result"
    },
    {
     "data": {
      "image/png": "[encoded data removed]",
      "text/plain": [
       "<Figure size 432x288 with 1 Axes>"
      ]
     },
     "metadata": {
      "needs_background": "light"
     },
     "output_type": "display_data"
    }
   ],
   "source": [
    "df['label4']=Km4.predict(df_ss)\n",
    "sns.scatterplot(data=df,x='pcBfat',y='wt',hue='label4')"
   ]
  },
  {
   "cell_type": "code",
   "execution_count": null,
   "metadata": {},
   "outputs": [],
   "source": []
  }
 ],
 "metadata": {
  "colab": {
   "collapsed_sections": [],
   "name": "DSIA Lab 6.1.1.ipynb",
   "provenance": []
  },
  "kernelspec": {
   "display_name": "Python 3",
   "language": "python",
   "name": "python3"
  },
  "language_info": {
   "codemirror_mode": {
    "name": "ipython",
    "version": 3
   },
   "file_extension": ".py",
   "mimetype": "text/x-python",
   "name": "python",
   "nbconvert_exporter": "python",
   "pygments_lexer": "ipython3",
   "version": "3.8.8"
  },
  "toc": {
   "base_numbering": 1,
   "nav_menu": {},
   "number_sections": true,
   "sideBar": true,
   "skip_h1_title": false,
   "title_cell": "Table of Contents",
   "title_sidebar": "Contents",
   "toc_cell": false,
   "toc_position": {},
   "toc_section_display": true,
   "toc_window_display": true
  }
 },
 "nbformat": 4,
 "nbformat_minor": 1
}
